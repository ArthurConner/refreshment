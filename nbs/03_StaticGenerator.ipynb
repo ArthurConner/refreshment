{
 "cells": [
  {
   "cell_type": "code",
   "execution_count": 1,
   "metadata": {},
   "outputs": [],
   "source": [
    "# default_exp Web"
   ]
  },
  {
   "cell_type": "code",
   "execution_count": 2,
   "metadata": {},
   "outputs": [],
   "source": [
    "%load_ext autoreload\n",
    "%autoreload 2\n",
    "\n",
    "%matplotlib inline"
   ]
  },
  {
   "cell_type": "code",
   "execution_count": 3,
   "metadata": {},
   "outputs": [],
   "source": [
    "#export\n",
    "import os\n",
    "import sys\n",
    "import shutil\n",
    "from jinja2 import Environment, FileSystemLoader, Template"
   ]
  },
  {
   "cell_type": "markdown",
   "metadata": {},
   "source": [
    "# Web functions \n",
    "\n",
    "> API details."
   ]
  },
  {
   "cell_type": "code",
   "execution_count": 4,
   "metadata": {},
   "outputs": [],
   "source": [
    "#hide\n",
    "from nbdev.showdoc import *\n",
    "\n",
    "cPath = os.path.dirname(os.getcwd())\n",
    "cPath\n",
    "sys.path.insert(0,cPath)"
   ]
  },
  {
   "cell_type": "code",
   "execution_count": null,
   "metadata": {},
   "outputs": [],
   "source": []
  },
  {
   "cell_type": "code",
   "execution_count": 5,
   "metadata": {},
   "outputs": [],
   "source": [
    "#export\n",
    "from refreshment.School import StudySystem\n",
    "from refreshment.Program import Program, Subject, Record, Lesson\n",
    "from refreshment.munge import makePriorsForSubject"
   ]
  },
  {
   "cell_type": "code",
   "execution_count": 11,
   "metadata": {},
   "outputs": [
    {
     "name": "stdout",
     "output_type": "stream",
     "text": [
      "Cathedral\n",
      "\"Cathedral\",\"Reading\"\n",
      "\"Cathedral\",\"Music\"\n",
      "\"Cathedral\",\"Chapel\"\n",
      "\"Cathedral\",\"HealthAndExercise\"\n",
      "\"Cathedral\",\"Shedules\"\n",
      "\"Cathedral\",\"Math\"\n",
      "\"Cathedral\",\"Mindful\"\n",
      "\"Cathedral\",\"Specialist\"\n",
      "\"Cathedral\",\"EmotionalLearning\"\n",
      "\"Cathedral\",\"Writing\"\n"
     ]
    }
   ],
   "source": [
    "#hide\n",
    "guide = StudySystem.load(\"./data/programs.json\")\n",
    "for x in guide.programs:\n",
    "    print(x.name)\n",
    "    for y in x.subjects:\n",
    "        print(\"\\\"\" + x.name + \"\\\",\\\"\" + y.name + \"\\\"\")"
   ]
  },
  {
   "cell_type": "code",
   "execution_count": 12,
   "metadata": {},
   "outputs": [
    {
     "data": {
      "text/plain": [
       "[Chapel; [CSB Lower School Distance Chapel March 31th, 2020|1|1|CSB Lower School Distance Chapel March 31th, 2020.mp4,CSB Lower School Distance Chapel April 7th, 2020|2|2|CSB Lower School Distance Chapel April 7th, 2020.mp4,CSB Lower School Distance Chapel April 21st, 2020|3|3|CSB Lower School Distance Chapel April 21st, 2020.mp4,CSB Lower School Distance Chapel April 28th, 2020|4|4|CSB Lower School Distance Chapel April 28th, 2020.mp4,CSB Lower School Distance Chapel May 5th, 2020|5|5|CSB Lower School Distance Chapel May 5th, 2020.mp4,Kindergarten Readiness - Lower School Chapel|6|6|Kindergarten Readiness - Lower School Chapel.mp4],\n",
       " EmotionalLearning; [emotions|1|1|emotions.mp4,fillbucket|2|2|fillbucket.mp4,creative|3|3|creative.mp4,Kimochis Bug|4|4|KimochisBug.mp4,grattitude|5|5|grattitude.mp4,Grat.422|6|6|Grat.422.mp4,Grat.4.21|7|7|Grat.4.21.mp4,Sharing Picture|8|8|SharingPicture.mp4,Gratitude Tree|9|9|GratitudeTree.mp4]]"
      ]
     },
     "execution_count": 12,
     "metadata": {},
     "output_type": "execute_result"
    }
   ],
   "source": [
    "#hide\n",
    "cath = guide.programs[0]\n",
    "foo = cath.subjects\n",
    "sorted(foo, key=lambda x: x.name)[:2]"
   ]
  },
  {
   "cell_type": "code",
   "execution_count": 13,
   "metadata": {},
   "outputs": [
    {
     "data": {
      "text/plain": [
       "'Hello Cathedral!'"
      ]
     },
     "execution_count": 13,
     "metadata": {},
     "output_type": "execute_result"
    }
   ],
   "source": [
    "#hide\n",
    "template = Template('Hello {{ name }}!')\n",
    "template.render(name=cath.name)"
   ]
  },
  {
   "cell_type": "code",
   "execution_count": null,
   "metadata": {},
   "outputs": [],
   "source": []
  },
  {
   "cell_type": "code",
   "execution_count": null,
   "metadata": {},
   "outputs": [],
   "source": []
  },
  {
   "cell_type": "code",
   "execution_count": 9,
   "metadata": {},
   "outputs": [],
   "source": [
    "#export\n",
    "\n",
    "class Render:\n",
    "    def __init__(self, program, dir=\"../../web\",template = \"../templates\"):\n",
    "        self.program = program\n",
    "        self.outputdir = os.path.join(dir,program.name)\n",
    "        self.template = template\n",
    "        \n",
    "        self.file_loader = FileSystemLoader(self.template)\n",
    "        self.env = Environment(loader=self.file_loader)\n",
    "        self.resources = \"resources\"\n",
    "\n",
    "        \n",
    "    def basePath(self):\n",
    "        return self.outputdir\n",
    "    \n",
    "    def renderLesson(self,sub,lesson):\n",
    "        makePriorsForSubject(sub)\n",
    "        template = self.env.get_template(\"lesson.html\")\n",
    "        resDir = \"../../..\"\n",
    "        \n",
    "        output = template.render(item=sub,\n",
    "                                 resDir=resDir,\n",
    "                                 less=lesson,\n",
    "                                 program = self.program,\n",
    "                                 styleDir=os.path.join(\"..\",self.resources))\n",
    "        subDir = os.path.join(self.outputdir,sub.name)\n",
    "        \n",
    "        if not os.path.exists(subDir):\n",
    "            os.mkdir(subDir)\n",
    "        f = open(os.path.join(subDir,\"vid_\" +str(lesson.key) + \".html\"), \"w\")\n",
    "        f.write(output)\n",
    "        \n",
    "    def renderSubject(self,sub):\n",
    "        makePriorsForSubject(sub)\n",
    "        template = self.env.get_template(\"subject.html\")\n",
    "        videos = [x for x in sub.lessons if x.fileName.endswith(\".mp4\")] \n",
    "        resources = [x for x in sub.lessons if not x.fileName.endswith(\".mp4\")]\n",
    "        for x in sub.lessons:\n",
    "            self.renderLesson(sub,x)\n",
    "        resDir = \"../../..\"\n",
    "        #print(sub.sequences)\n",
    "        output = template.render(item=sub,\n",
    "                                 videos=videos,\n",
    "                                 res=resources,\n",
    "                                 resDir=resDir,\n",
    "                                 program = self.program,\n",
    "                                 styleDir=os.path.join(\"..\",self.resources))\n",
    "        subDir = os.path.join(self.outputdir,sub.name)\n",
    "        \n",
    "        if not os.path.exists(subDir):\n",
    "            os.mkdir(subDir)\n",
    "        f = open(os.path.join(subDir,\"index.html\"), \"w\")\n",
    "        f.write(output)\n",
    "        \n",
    "    def renderSchool(self):\n",
    "        \n",
    "        foo = self.program.subjects\n",
    "        seq = sorted(foo, key=lambda x: x.name)\n",
    "\n",
    "        if not os.path.exists(self.outputdir):\n",
    "            os.mkdir(self.outputdir)\n",
    "            \n",
    "        for x in seq:\n",
    "            self.renderSubject(x)\n",
    "            \n",
    "        template = self.env.get_template(\"school.html\")\n",
    "        output = template.render(program=self.program,\n",
    "                                 seq=seq,\n",
    "                                 styleDir=os.path.join(\".\",self.resources))\n",
    "        \n",
    "        f = open(os.path.join(self.outputdir,\"index.html\"), \"w\")\n",
    "        f.write(output)\n",
    "        f.close()\n",
    "        \n",
    "        self.addResources()\n",
    "        \n",
    "    def addResources(self):\n",
    "        resDir = os.path.join(self.outputdir,self.resources)\n",
    "        if not os.path.exists(resDir):\n",
    "            os.mkdir(resDir)\n",
    "        startDir = os.path.join(\".\", self.resources)\n",
    "        src_files = os.listdir(startDir)\n",
    "        \n",
    "        for file_name in src_files:\n",
    "            full_file_name = os.path.join(startDir, file_name)\n",
    "            if os.path.isfile(full_file_name):\n",
    "                shutil.copy(full_file_name, os.path.join(resDir, file_name))\n",
    "                \n",
    "        \n"
   ]
  },
  {
   "cell_type": "code",
   "execution_count": 14,
   "metadata": {},
   "outputs": [],
   "source": [
    "#hide\n",
    "baseRender = Render(cath)\n",
    "baseRender.renderSchool()\n",
    "#style = \"background-color: #ABAD9E;\""
   ]
  }
 ],
 "metadata": {
  "kernelspec": {
   "display_name": "Python 3",
   "language": "python",
   "name": "python3"
  },
  "language_info": {
   "codemirror_mode": {
    "name": "ipython",
    "version": 3
   },
   "file_extension": ".py",
   "mimetype": "text/x-python",
   "name": "python",
   "nbconvert_exporter": "python",
   "pygments_lexer": "ipython3",
   "version": "3.8.2"
  }
 },
 "nbformat": 4,
 "nbformat_minor": 4
}
