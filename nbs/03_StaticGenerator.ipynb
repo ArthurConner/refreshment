{
 "cells": [
  {
   "cell_type": "code",
   "execution_count": 18,
   "metadata": {},
   "outputs": [],
   "source": [
    "# default_exp Web"
   ]
  },
  {
   "cell_type": "code",
   "execution_count": 19,
   "metadata": {},
   "outputs": [
    {
     "name": "stdout",
     "output_type": "stream",
     "text": [
      "The autoreload extension is already loaded. To reload it, use:\n",
      "  %reload_ext autoreload\n"
     ]
    }
   ],
   "source": [
    "%load_ext autoreload\n",
    "%autoreload 2\n",
    "\n",
    "%matplotlib inline"
   ]
  },
  {
   "cell_type": "code",
   "execution_count": 20,
   "metadata": {},
   "outputs": [],
   "source": [
    "#export\n",
    "import os\n",
    "import sys\n",
    "import shutil\n",
    "from jinja2 import Environment, FileSystemLoader, Template"
   ]
  },
  {
   "cell_type": "markdown",
   "metadata": {},
   "source": [
    "# Web functions \n",
    "\n",
    "> API details."
   ]
  },
  {
   "cell_type": "code",
   "execution_count": 21,
   "metadata": {},
   "outputs": [],
   "source": [
    "#hide\n",
    "from nbdev.showdoc import *\n",
    "\n",
    "cPath = os.path.dirname(os.getcwd())\n",
    "cPath\n",
    "sys.path.insert(0,cPath)"
   ]
  },
  {
   "cell_type": "code",
   "execution_count": null,
   "metadata": {},
   "outputs": [],
   "source": []
  },
  {
   "cell_type": "code",
   "execution_count": 22,
   "metadata": {},
   "outputs": [],
   "source": [
    "#export\n",
    "from refreshment.School import StudySystem\n",
    "from refreshment.Program import Program, Subject, Record, Lesson\n",
    "from refreshment.munge import makePriorsForSubject, removeAuthor, dateGrid,initials"
   ]
  },
  {
   "cell_type": "code",
   "execution_count": 23,
   "metadata": {},
   "outputs": [
    {
     "name": "stdout",
     "output_type": "stream",
     "text": [
      "Cathedral\n",
      "\"Cathedral\",\"Reading\"\n",
      "\"Cathedral\",\"Music\"\n",
      "\"Cathedral\",\"Chapel\"\n",
      "\"Cathedral\",\"Science\"\n",
      "\"Cathedral\",\"HealthAndExercise\"\n",
      "\"Cathedral\",\"Schedules\"\n",
      "\"Cathedral\",\"Math\"\n",
      "\"Cathedral\",\"Mindful\"\n",
      "\"Cathedral\",\"EmotionalLearning\"\n",
      "\"Cathedral\",\"Writing\"\n"
     ]
    }
   ],
   "source": [
    "#hide\n",
    "guide = StudySystem.load(\"./data/programs.json\")\n",
    "for x in guide.programs:\n",
    "    print(x.name)\n",
    "    for y in x.subjects:\n",
    "        print(\"\\\"\" + x.name + \"\\\",\\\"\" + y.name + \"\\\"\")"
   ]
  },
  {
   "cell_type": "code",
   "execution_count": 24,
   "metadata": {},
   "outputs": [
    {
     "data": {
      "text/plain": [
       "[Chapel; [CSB Lower School Distance Chapel March 31th, 2020|1|1|CSB Lower School Distance Chapel March 31th, 2020.mp4,CSB Lower School Distance Chapel April 7th, 2020|2|2|CSB Lower School Distance Chapel April 7th, 2020.mp4,CSB Lower School Distance Chapel April 21st, 2020|3|3|CSB Lower School Distance Chapel April 21st, 2020.mp4,CSB Lower School Distance Chapel April 28th, 2020|4|4|CSB Lower School Distance Chapel April 28th, 2020.mp4,CSB Lower School Distance Chapel May 5th, 2020|5|5|CSB Lower School Distance Chapel May 5th, 2020.mp4,Kindergarten Readiness - Lower School Chapel|6|6|Kindergarten Readiness - Lower School Chapel.mp4,CSB Lower School Distance Chapel May 12th, 2020|7|7|CSB Lower School Distance Chapel May 12th, 2020.mp4],\n",
       " EmotionalLearning; [Emotions|1|1|Emotions.mp4,Fillbucket|2|2|Fillbucket.mp4,Creative|3|3|Creative.mp4,Introducing Kimochis Bug|4|4|IntroducingKimochisBug.mp4,Gratitude|5|5|Gratitude.mp4,Gratitude 422|6|6|Gratitude 422.mp4,Gratitude.4.21|7|7|Gratitude.4.21.mp4,Sharing Picture|8|8|SharingPicture.mp4,Gratitude Tree|9|9|GratitudeTree.mp4,Kimochis Clovers Kindness|10|10|KimochisCloversKindness.mp4,Kimochis Clover|11|11|KimochisClover.mp4,Being Bravelike Kimochis Bug|12|12|BeingBravelikeKimochis Bug.mp4,Rain Shadow|13|13|RainShadow.mp4]]"
      ]
     },
     "execution_count": 24,
     "metadata": {},
     "output_type": "execute_result"
    }
   ],
   "source": [
    "#hide\n",
    "cath = guide.programs[0]\n",
    "foo = cath.subjects\n",
    "sorted(foo, key=lambda x: x.name)[:2]"
   ]
  },
  {
   "cell_type": "code",
   "execution_count": 25,
   "metadata": {},
   "outputs": [
    {
     "data": {
      "text/plain": [
       "'Hello Cathedral!'"
      ]
     },
     "execution_count": 25,
     "metadata": {},
     "output_type": "execute_result"
    }
   ],
   "source": [
    "#hide\n",
    "template = Template('Hello {{ name }}!')\n",
    "template.render(name=cath.name)"
   ]
  },
  {
   "cell_type": "code",
   "execution_count": null,
   "metadata": {},
   "outputs": [],
   "source": []
  },
  {
   "cell_type": "code",
   "execution_count": null,
   "metadata": {},
   "outputs": [],
   "source": []
  },
  {
   "cell_type": "code",
   "execution_count": 26,
   "metadata": {},
   "outputs": [],
   "source": [
    "#export\n",
    "\n",
    "class Render:\n",
    "    def __init__(self, program, guide , dir=\"../../web\",template = \"../templates\"):\n",
    "       \n",
    "        self.guide = guide\n",
    "        self.program = [x for x in guide.programs if x.name == program][0]\n",
    "        print(\"loaded program \" + self.program.name)\n",
    "        self.outputdir = os.path.join(dir,self.program.name)\n",
    "        self.template = template\n",
    "        \n",
    "        self.file_loader = FileSystemLoader(self.template)\n",
    "        self.env = Environment(loader=self.file_loader)\n",
    "        self.resources = \"resources\"\n",
    "\n",
    "        \n",
    "    def basePath(self):\n",
    "        return self.outputdir\n",
    "    \n",
    "    def renderLesson(self,sub,lesson):\n",
    "        makePriorsForSubject(sub)\n",
    "        template = self.env.get_template(\"lesson.html\")\n",
    "        resDir = \"../../..\"\n",
    "        \n",
    "        output = template.render(item=sub,\n",
    "                                 resDir=resDir,\n",
    "                                 less=lesson,\n",
    "                                 program = self.program,\n",
    "                                 styleDir=os.path.join(\"..\",self.resources))\n",
    "        subDir = os.path.join(self.outputdir,sub.name)\n",
    "        \n",
    "        if not os.path.exists(subDir):\n",
    "            os.mkdir(subDir)\n",
    "        f = open(os.path.join(subDir,\"vid_\" +str(lesson.key) + \".html\"), \"w\")\n",
    "        f.write(output)\n",
    "        \n",
    "    def renderSubject(self,sub):\n",
    "        makePriorsForSubject(sub)\n",
    "        template = self.env.get_template(\"subject.html\")\n",
    "        videos = [x for x in sub.lessons if x.fileName.endswith(\".mp4\")] \n",
    "        resources = [x for x in sub.lessons if not x.fileName.endswith(\".mp4\")]\n",
    "        for x in sub.lessons:\n",
    "            self.renderLesson(sub,x)\n",
    "        resDir = \"../../..\"\n",
    "        #print(sub.sequences)\n",
    "        output = template.render(item=sub,\n",
    "                                 videos=videos,\n",
    "                                 res=resources,\n",
    "                                 resDir=resDir,\n",
    "                                 program = self.program,\n",
    "                                 styleDir=os.path.join(\"..\",self.resources))\n",
    "        subDir = os.path.join(self.outputdir,sub.name)\n",
    "        \n",
    "        if not os.path.exists(subDir):\n",
    "            os.mkdir(subDir)\n",
    "        f = open(os.path.join(subDir,\"index.html\"), \"w\")\n",
    "        f.write(output)\n",
    "       \n",
    "    def renderCalendar(self):\n",
    "        \n",
    "        grid = reversed(dateGrid(self.program))\n",
    "\n",
    "        if not os.path.exists(self.outputdir):\n",
    "            os.mkdir(self.outputdir)\n",
    "  \n",
    "        template = self.env.get_template(\"calendar.html\")\n",
    "        output = template.render(program=self.program,\n",
    "                                 grid=grid,\n",
    "                                 styleDir=os.path.join(\".\",self.resources))\n",
    "        \n",
    "        f = open(os.path.join(self.outputdir,\"calendar.html\"), \"w\")\n",
    "        f.write(output)\n",
    "        f.close()\n",
    "        \n",
    "    def renderSchool(self):\n",
    "        \n",
    "        foo = self.program.subjects\n",
    "        seq = sorted(foo, key=lambda x: x.name)\n",
    "\n",
    "        if not os.path.exists(self.outputdir):\n",
    "            os.mkdir(self.outputdir)\n",
    "            \n",
    "        for x in seq:\n",
    "            self.renderSubject(x)\n",
    "            \n",
    "        template = self.env.get_template(\"school.html\")\n",
    "        output = template.render(program=self.program,\n",
    "                                 seq=seq,\n",
    "                                 styleDir=os.path.join(\".\",self.resources))\n",
    "        \n",
    "        f = open(os.path.join(self.outputdir,\"index.html\"), \"w\")\n",
    "        f.write(output)\n",
    "        f.close()\n",
    "        \n",
    "        self.addResources()\n",
    "        \n",
    "    def addResources(self):\n",
    "        resDir = os.path.join(self.outputdir,self.resources)\n",
    "        if not os.path.exists(resDir):\n",
    "            os.mkdir(resDir)\n",
    "        startDir = os.path.join(\".\", self.resources)\n",
    "        src_files = os.listdir(startDir)\n",
    "        \n",
    "        for file_name in src_files:\n",
    "            full_file_name = os.path.join(startDir, file_name)\n",
    "            if os.path.isfile(full_file_name):\n",
    "                shutil.copy(full_file_name, os.path.join(resDir, file_name))\n",
    "       \n",
    "    def addFiles(self):\n",
    "        for sub in self.program.subjects:\n",
    "            for lesson in sub.lessons:\n",
    "                source = os.path.join(self.guide.origin, self.program.name,sub.name,lesson.fileName)\n",
    "                dest = os.path.join(self.outputdir,sub.name,lesson.fileName)\n",
    "                \n",
    "                if not os.path.isfile(dest):\n",
    "                    print(\"found \" + dest)\n",
    "                    shutil.copy(source, dest)\n",
    "        \n"
   ]
  },
  {
   "cell_type": "code",
   "execution_count": 27,
   "metadata": {},
   "outputs": [
    {
     "name": "stdout",
     "output_type": "stream",
     "text": [
      "loaded program Cathedral\n"
     ]
    }
   ],
   "source": [
    "#hide\n",
    "guide.loadDirectory()\n",
    "cath = guide.programs[0]\n",
    "removeAuthor(guide)\n",
    "baseRender = Render(\"Cathedral\",guide)\n",
    "baseRender.renderSchool()\n",
    "#style = \"background-color: #ABAD9E;\""
   ]
  },
  {
   "cell_type": "code",
   "execution_count": 28,
   "metadata": {},
   "outputs": [
    {
     "name": "stdout",
     "output_type": "stream",
     "text": [
      "loaded program Cathedral\n",
      "found ../../web/Cathedral/Writing/WritingAReview.mp4\n"
     ]
    }
   ],
   "source": [
    "#hide\n",
    "baseRender = Render(\"Cathedral\",guide)\n",
    "baseRender.addFiles()"
   ]
  },
  {
   "cell_type": "code",
   "execution_count": 29,
   "metadata": {},
   "outputs": [],
   "source": [
    "baseRender.renderCalendar()"
   ]
  },
  {
   "cell_type": "code",
   "execution_count": 30,
   "metadata": {},
   "outputs": [],
   "source": [
    "import json\n",
    "#print(json.dumps(guide.toDict(), sort_keys=True, indent=4)) "
   ]
  },
  {
   "cell_type": "code",
   "execution_count": 31,
   "metadata": {},
   "outputs": [
    {
     "data": {
      "text/plain": [
       "'../..'"
      ]
     },
     "execution_count": 31,
     "metadata": {},
     "output_type": "execute_result"
    }
   ],
   "source": [
    "guide.origin"
   ]
  }
 ],
 "metadata": {
  "kernelspec": {
   "display_name": "Python 3",
   "language": "python",
   "name": "python3"
  },
  "language_info": {
   "codemirror_mode": {
    "name": "ipython",
    "version": 3
   },
   "file_extension": ".py",
   "mimetype": "text/x-python",
   "name": "python",
   "nbconvert_exporter": "python",
   "pygments_lexer": "ipython3",
   "version": "3.8.2"
  }
 },
 "nbformat": 4,
 "nbformat_minor": 4
}
