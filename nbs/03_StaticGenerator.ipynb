{
 "cells": [
  {
   "cell_type": "code",
   "execution_count": 1,
   "metadata": {},
   "outputs": [],
   "source": [
    "# default_exp Web"
   ]
  },
  {
   "cell_type": "code",
   "execution_count": 2,
   "metadata": {},
   "outputs": [],
   "source": [
    "%load_ext autoreload\n",
    "%autoreload 2\n",
    "\n",
    "%matplotlib inline"
   ]
  },
  {
   "cell_type": "code",
   "execution_count": 3,
   "metadata": {},
   "outputs": [],
   "source": [
    "#export\n",
    "import os\n",
    "import sys\n",
    "import shutil\n",
    "import json\n",
    "from jinja2 import Environment, FileSystemLoader, Template"
   ]
  },
  {
   "cell_type": "markdown",
   "metadata": {},
   "source": [
    "# Web functions \n",
    "\n",
    "> API details."
   ]
  },
  {
   "cell_type": "code",
   "execution_count": 4,
   "metadata": {},
   "outputs": [],
   "source": [
    "#hide\n",
    "from nbdev.showdoc import *\n",
    "\n",
    "cPath = os.path.dirname(os.getcwd())\n",
    "cPath\n",
    "sys.path.insert(0,cPath)"
   ]
  },
  {
   "cell_type": "code",
   "execution_count": null,
   "metadata": {},
   "outputs": [],
   "source": []
  },
  {
   "cell_type": "code",
   "execution_count": 21,
   "metadata": {},
   "outputs": [],
   "source": [
    "#export\n",
    "from refreshment.School import StudySystem\n",
    "from refreshment.Program import Program, Subject, Record, Lesson\n",
    "from refreshment.munge import  dateGrid, processGuide, unassignedForSubject, printAllUnassigned"
   ]
  },
  {
   "cell_type": "code",
   "execution_count": 6,
   "metadata": {},
   "outputs": [],
   "source": [
    "#hide\n",
    "guide = StudySystem(\"./data/programs.json\")\n",
    "for x in guide.programs:\n",
    "    print(x.name)\n",
    "    for y in x.subjects:\n",
    "        print(\"\\\"\" + x.name + \"\\\",\\\"\" + y.name + \"\\\"\")"
   ]
  },
  {
   "cell_type": "code",
   "execution_count": 7,
   "metadata": {},
   "outputs": [
    {
     "name": "stdout",
     "output_type": "stream",
     "text": [
      "Cathedral\n",
      "\"Cathedral\",\"Reading\"\n",
      "\"Cathedral\",\"Music\"\n",
      "\"Cathedral\",\"Chapel\"\n",
      "\"Cathedral\",\"Science\"\n",
      "\"Cathedral\",\"HealthAndExercise\"\n",
      "\"Cathedral\",\"Schedules\"\n",
      "\"Cathedral\",\"Math\"\n",
      "\"Cathedral\",\"Mindful\"\n",
      "\"Cathedral\",\"EmotionalLearning\"\n",
      "\"Cathedral\",\"Conners\"\n",
      "\"Cathedral\",\"Writing\"\n",
      "web\n",
      "\"web\",\"Cathedral\"\n",
      "Lemonade\n",
      "\"Lemonade\",\"Lemonade\"\n",
      "\"Lemonade\",\"Lemonade.xcodeproj\"\n",
      "\"Lemonade\",\"LemonadeTests\"\n",
      "\"Lemonade\",\".git\"\n"
     ]
    }
   ],
   "source": [
    "guide.loadDirectory()\n",
    "for x in guide.programs:\n",
    "    print(x.name)\n",
    "    for y in x.subjects:\n",
    "        print(\"\\\"\" + x.name + \"\\\",\\\"\" + y.name + \"\\\"\")"
   ]
  },
  {
   "cell_type": "code",
   "execution_count": 8,
   "metadata": {},
   "outputs": [
    {
     "data": {
      "text/plain": [
       "[Chapel; [CSB Lower School Distance Chapel March 31th, 2020.mp4|1|1|CSB Lower School Distance Chapel March 31th, 2020.mp4,CSB Lower School Distance Chapel April 7th, 2020.mp4|2|2|CSB Lower School Distance Chapel April 7th, 2020.mp4,CSB Lower School Distance Chapel April 21st, 2020.mp4|3|3|CSB Lower School Distance Chapel April 21st, 2020.mp4,CSB Lower School Distance Chapel April 28th, 2020.mp4|4|4|CSB Lower School Distance Chapel April 28th, 2020.mp4,CSB Lower School Distance Chapel May 5th, 2020.mp4|5|5|CSB Lower School Distance Chapel May 5th, 2020.mp4,Kindergarten Readiness - Lower School Chapel.mp4|6|6|Kindergarten Readiness - Lower School Chapel.mp4,CSB Lower School Distance Chapel May 12th, 2020.mp4|7|7|CSB Lower School Distance Chapel May 12th, 2020.mp4],\n",
       " Conners; [Edward C Class Code.pdf|1|1|Edward C Class Code.pdf,Kindergarten Family Directory 20-21.pdf|2|2|Kindergarten Family Directory 20-21.pdf,EdwardLetterConceptV.mp4|3|3|EdwardLetterConceptV.mp4,EdwardKingdomOfY.mp4|4|4|EdwardKingdomOfY.mp4]]"
      ]
     },
     "execution_count": 8,
     "metadata": {},
     "output_type": "execute_result"
    }
   ],
   "source": [
    "#hide\n",
    "cath = guide.programs[0]\n",
    "foo = cath.subjects\n",
    "sorted(foo, key=lambda x: x.name)[:2]"
   ]
  },
  {
   "cell_type": "code",
   "execution_count": 9,
   "metadata": {},
   "outputs": [
    {
     "name": "stdout",
     "output_type": "stream",
     "text": [
      "SnapByFor.mp4\n",
      "ThreePart.03.31.mp4\n",
      "Fortunately.mp4\n",
      "LittleBlueTruck.mp4\n",
      "ThreePart.03.25.mp4\n",
      "5SightWords.mp4\n",
      "truestory.mp4\n",
      "VisitMusem.mp4\n",
      "MOWiliiams.mp4\n",
      "ReadAloud.mp4\n",
      "LetterConceptE.mp4\n",
      "LetterEScavenegerHunt.mp4\n",
      "ThreePart.4.7.20.mp4\n",
      "AmosMcGee.mp4\n",
      "WhatBooks.mp4\n",
      "DavidTellsJoke.mp4\n",
      "SnapWordsMemory..mp4\n",
      "SnapWords.mp4\n",
      "aChairForMyMother.mp4\n",
      "FantasticElasticBrain.mp4\n",
      "FrogToad.mp4\n",
      "LetterConceptS.mp4\n",
      "ThreePart.04.21.mp4\n",
      "LetterConceptSH.mp4\n",
      "HowToBabySitAGrandPa.mp4\n",
      "ReadingFromHome.mp4\n",
      "ThreePartDrill.4.23.20.mp4\n",
      "LetterConceptTH.mp4\n",
      "ThreePart.4.28.mp4\n",
      "LetterConceptW.mp4\n",
      "AvidReader.mp4\n",
      "ThreePart.4.30.mp4\n",
      "LetterConceptY.mp4\n",
      "ThreePartDrill.05.06.mp4\n",
      "BearsFeelScared.mp4\n",
      "Reading-BookReview.pdf\n",
      "BigHugsLittleHugs.mp4\n",
      "LetterConceptV.mp4\n",
      "ThreePartDrill.5.12.20.mp4\n",
      "Review Writing 5_12.pdf\n",
      "Find the rhymes.m4a\n",
      "LetterConceptX.mp4\n",
      "ThreePart.05.14.mp4\n",
      "LetterConceptZ.mp4\n",
      "FrogAndToad.mp4\n",
      "SW Bingo .pdf\n"
     ]
    }
   ],
   "source": [
    "reading = [x  for x in cath.subjects if x.name == \"Reading\"][0]\n",
    "for less in reading.lessons:\n",
    "    print(less.fileName)"
   ]
  },
  {
   "cell_type": "code",
   "execution_count": 10,
   "metadata": {},
   "outputs": [
    {
     "data": {
      "text/plain": [
       "'Hello Cathedral!'"
      ]
     },
     "execution_count": 10,
     "metadata": {},
     "output_type": "execute_result"
    }
   ],
   "source": [
    "#hide\n",
    "template = Template('Hello {{ name }}!')\n",
    "template.render(name=cath.name)"
   ]
  },
  {
   "cell_type": "code",
   "execution_count": 11,
   "metadata": {},
   "outputs": [],
   "source": [
    "#hide\n",
    "guide = StudySystem(\"./data/programs.json\")\n",
    "for x in guide.programs:\n",
    "    print(x.name)\n",
    "    for y in x.subjects:\n",
    "        print(\"\\\"\" + x.name + \"\\\",\\\"\" + y.name + \"\\\"\")"
   ]
  },
  {
   "cell_type": "code",
   "execution_count": null,
   "metadata": {},
   "outputs": [],
   "source": []
  },
  {
   "cell_type": "code",
   "execution_count": 12,
   "metadata": {},
   "outputs": [],
   "source": [
    "#export\n",
    "\n",
    "class Render:\n",
    "    def __init__(self, program, guide , dir=\"../../web\",template = \"../templates\"):\n",
    "       \n",
    "        self.guide = guide\n",
    "        self.program = [x for x in guide.programs if x.name == program][0]\n",
    "        print(\"loaded program \" + self.program.name)\n",
    "        self.outputdir = os.path.join(dir,self.program.name)\n",
    "        self.template = template\n",
    "        \n",
    "        self.file_loader = FileSystemLoader(self.template)\n",
    "        self.env = Environment(loader=self.file_loader)\n",
    "        self.resources = \"resources\"\n",
    "\n",
    "        \n",
    "    def basePath(self):\n",
    "        return self.outputdir\n",
    "    \n",
    "    def renderLesson(self,sub,lesson):\n",
    "        template = self.env.get_template(\"lesson.html\")\n",
    "        resDir = \"../../..\"\n",
    "        \n",
    "        output = template.render(item=sub,\n",
    "                                 resDir=resDir,\n",
    "                                 less=lesson,\n",
    "                                 program = self.program,\n",
    "                                 styleDir=os.path.join(\"..\",self.resources))\n",
    "        subDir = os.path.join(self.outputdir,sub.name)\n",
    "        \n",
    "        if not os.path.exists(subDir):\n",
    "            os.mkdir(subDir)\n",
    "        f = open(os.path.join(subDir,\"vid_\" +str(lesson.key) + \".html\"), \"w\")\n",
    "        f.write(output)\n",
    "        \n",
    "    def renderSubject(self,sub):\n",
    "        template = self.env.get_template(\"subject.html\")\n",
    "        videos = [x for x in sub.lessons if x.fileName.endswith(\".mp4\")] \n",
    "        resources = [x for x in sub.lessons if not x.fileName.endswith(\".mp4\")]\n",
    "        for x in sub.lessons:\n",
    "            self.renderLesson(sub,x)\n",
    "        resDir = \"../../..\"\n",
    "        #print(sub.sequences)\n",
    "        output = template.render(item=sub,\n",
    "                                 videos=videos,\n",
    "                                 res=resources,\n",
    "                                 resDir=resDir,\n",
    "                                 program = self.program,\n",
    "                                 grid = reversed(dateGrid(self.program,subject=sub.name)),\n",
    "                                 styleDir=os.path.join(\"..\",self.resources))\n",
    "        subDir = os.path.join(self.outputdir,sub.name)\n",
    "        \n",
    "        if not os.path.exists(subDir):\n",
    "            os.mkdir(subDir)\n",
    "        f = open(os.path.join(subDir,\"index.html\"), \"w\")\n",
    "        f.write(output)\n",
    "       \n",
    "    def renderCalendar(self):\n",
    "        \n",
    "        grid = reversed(dateGrid(self.program))\n",
    "\n",
    "        if not os.path.exists(self.outputdir):\n",
    "            os.mkdir(self.outputdir)\n",
    "  \n",
    "        template = self.env.get_template(\"calendar.html\")\n",
    "        output = template.render(program=self.program,\n",
    "                                 grid=grid,\n",
    "                                 styleDir=os.path.join(\".\",self.resources))\n",
    "        \n",
    "        f = open(os.path.join(self.outputdir,\"calendar.html\"), \"w\")\n",
    "        f.write(output)\n",
    "        f.close()\n",
    "        \n",
    "    def renderSchool(self):\n",
    "        \n",
    "        foo = self.program.subjects\n",
    "        seq = sorted(foo, key=lambda x: x.name)\n",
    "\n",
    "        if not os.path.exists(self.outputdir):\n",
    "            os.mkdir(self.outputdir)\n",
    "            \n",
    "        for x in seq:\n",
    "            self.renderSubject(x)\n",
    "            \n",
    "        template = self.env.get_template(\"school.html\")\n",
    "        output = template.render(program=self.program,\n",
    "                                 seq=seq,\n",
    "                                 styleDir=os.path.join(\".\",self.resources))\n",
    "        \n",
    "        f = open(os.path.join(self.outputdir,\"index.html\"), \"w\")\n",
    "        f.write(output)\n",
    "        f.close()\n",
    "        \n",
    "        self.addResources()\n",
    "        \n",
    "    def addResources(self):\n",
    "        resDir = os.path.join(self.outputdir,self.resources)\n",
    "        if not os.path.exists(resDir):\n",
    "            os.mkdir(resDir)\n",
    "        startDir = os.path.join(\".\", self.resources)\n",
    "        src_files = os.listdir(startDir)\n",
    "        \n",
    "        for file_name in src_files:\n",
    "            full_file_name = os.path.join(startDir, file_name)\n",
    "            if os.path.isfile(full_file_name):\n",
    "                shutil.copy(full_file_name, os.path.join(resDir, file_name))\n",
    "        \n",
    "        with open(os.path.join(resDir, \"lemonade.json\"), \"w\") as dataFile:\n",
    "            json.dump(self.program.toDict(), dataFile, indent=4, sort_keys=True)\n",
    "       \n",
    "    def addFiles(self):\n",
    "        for sub in self.program.subjects:\n",
    "            for lesson in sub.lessons:\n",
    "                source = os.path.join(self.guide.origin, self.program.name,sub.name,lesson.fileName)\n",
    "                dest = os.path.join(self.outputdir,sub.name,lesson.fileName)\n",
    "                \n",
    "                if not os.path.isfile(dest):\n",
    "                    print(\"found \" + dest)\n",
    "                    shutil.copy(source, dest)\n",
    "        \n"
   ]
  },
  {
   "cell_type": "code",
   "execution_count": 23,
   "metadata": {},
   "outputs": [],
   "source": [
    "#hide\n",
    "guide.loadDirectory()\n",
    "processGuide(guide)\n",
    "cath = guide.programs[0]\n"
   ]
  },
  {
   "cell_type": "code",
   "execution_count": 24,
   "metadata": {},
   "outputs": [
    {
     "name": "stdout",
     "output_type": "stream",
     "text": [
      "\n",
      "Reading\n",
      "['truestory.mp4', 'VisitMusem.mp4', 'LetterEScavenegerHunt.mp4', 'WhatBooks.mp4', 'SnapWords.mp4', 'FantasticElasticBrain.mp4', 'ReadingFromHome.mp4', 'AvidReader.mp4', 'Reading-BookReview.pdf', 'Review Writing 5_12.pdf', 'Find the rhymes.m4a', 'SW Bingo .pdf']\n",
      "\n",
      "Emotional Learning\n",
      "['Emotions.mp4', 'Fillbucket.mp4', 'Creative.mp4', 'Gratitude.mp4', 'Gratitude 422.mp4', 'Gratitude.4.21.mp4', 'SharingPicture.mp4', 'GratitudeTree.mp4', 'RainShadow.mp4']\n",
      "\n",
      "Writing\n",
      "['VirtualMuseum.mp4', 'EnjoyAboutDistanceLearning.mp4', 'FeelGood.mp4', 'GK_PC_BK_Box4Lines.pdf', 'imaging.seesaw.me.png']\n"
     ]
    }
   ],
   "source": [
    "printAllUnassigned(prog=cath)"
   ]
  },
  {
   "cell_type": "code",
   "execution_count": null,
   "metadata": {},
   "outputs": [],
   "source": []
  },
  {
   "cell_type": "code",
   "execution_count": 25,
   "metadata": {},
   "outputs": [],
   "source": [
    "#export\n",
    "def makeSite(school,programName):\n",
    "    baseRender = Render(programName,school)\n",
    "    baseRender.renderSchool()\n",
    "    school.save()\n",
    "    baseRender.addFiles()\n",
    "    baseRender.addResources()\n",
    "    baseRender.renderCalendar()"
   ]
  },
  {
   "cell_type": "code",
   "execution_count": 26,
   "metadata": {},
   "outputs": [
    {
     "name": "stdout",
     "output_type": "stream",
     "text": [
      "loaded program Cathedral\n",
      "found ../../web/Cathedral/EmotionalLearning/KimochiBellaRose.mp4\n"
     ]
    }
   ],
   "source": [
    "#hide\n",
    "makeSite(school=guide,programName=\"Cathedral\")"
   ]
  },
  {
   "cell_type": "code",
   "execution_count": 16,
   "metadata": {},
   "outputs": [],
   "source": [
    "#import json\n",
    "#print(json.dumps(guide.toDict(), sort_keys=True, indent=4)) "
   ]
  },
  {
   "cell_type": "code",
   "execution_count": null,
   "metadata": {},
   "outputs": [],
   "source": []
  }
 ],
 "metadata": {
  "kernelspec": {
   "display_name": "Python 3",
   "language": "python",
   "name": "python3"
  },
  "language_info": {
   "codemirror_mode": {
    "name": "ipython",
    "version": 3
   },
   "file_extension": ".py",
   "mimetype": "text/x-python",
   "name": "python",
   "nbconvert_exporter": "python",
   "pygments_lexer": "ipython3",
   "version": "3.8.2"
  }
 },
 "nbformat": 4,
 "nbformat_minor": 4
}
