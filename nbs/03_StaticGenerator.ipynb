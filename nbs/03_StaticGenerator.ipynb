{
 "cells": [
  {
   "cell_type": "code",
   "execution_count": null,
   "metadata": {},
   "outputs": [],
   "source": [
    "# default_exp Web"
   ]
  },
  {
   "cell_type": "code",
   "execution_count": 1,
   "metadata": {},
   "outputs": [],
   "source": [
    "%load_ext autoreload\n",
    "%autoreload 2\n",
    "\n",
    "%matplotlib inline"
   ]
  },
  {
   "cell_type": "code",
   "execution_count": 2,
   "metadata": {},
   "outputs": [],
   "source": [
    "#export\n",
    "import os\n",
    "import sys\n",
    "import shutil\n",
    "import json\n",
    "from jinja2 import Environment, FileSystemLoader, Template"
   ]
  },
  {
   "cell_type": "markdown",
   "metadata": {},
   "source": [
    "# Web functions \n",
    "\n",
    "> API details."
   ]
  },
  {
   "cell_type": "code",
   "execution_count": 3,
   "metadata": {},
   "outputs": [],
   "source": [
    "#hide\n",
    "from nbdev.showdoc import *\n",
    "\n",
    "cPath = os.path.dirname(os.getcwd())\n",
    "cPath\n",
    "sys.path.insert(0,cPath)"
   ]
  },
  {
   "cell_type": "code",
   "execution_count": null,
   "metadata": {},
   "outputs": [],
   "source": []
  },
  {
   "cell_type": "code",
   "execution_count": 9,
   "metadata": {},
   "outputs": [],
   "source": [
    "#export\n",
    "from refreshment.School import StudySystem\n",
    "from refreshment.Program import Program, Subject, Record, Lesson\n",
    "from refreshment.munge import  dateGrid, processGuide"
   ]
  },
  {
   "cell_type": "code",
   "execution_count": 46,
   "metadata": {},
   "outputs": [],
   "source": [
    "#hide\n",
    "guide = StudySystem(\"./data/programs.json\")\n",
    "for x in guide.programs:\n",
    "    print(x.name)\n",
    "    for y in x.subjects:\n",
    "        print(\"\\\"\" + x.name + \"\\\",\\\"\" + y.name + \"\\\"\")"
   ]
  },
  {
   "cell_type": "code",
   "execution_count": 47,
   "metadata": {},
   "outputs": [
    {
     "name": "stdout",
     "output_type": "stream",
     "text": [
      "Cathedral\n",
      "\"Cathedral\",\"Reading\"\n",
      "\"Cathedral\",\"Music\"\n",
      "\"Cathedral\",\"Chapel\"\n",
      "\"Cathedral\",\"Science\"\n",
      "\"Cathedral\",\"HealthAndExercise\"\n",
      "\"Cathedral\",\"Schedules\"\n",
      "\"Cathedral\",\"Math\"\n",
      "\"Cathedral\",\"Mindful\"\n",
      "\"Cathedral\",\"EmotionalLearning\"\n",
      "\"Cathedral\",\"Conners\"\n",
      "\"Cathedral\",\"Writing\"\n",
      "web\n",
      "\"web\",\"Cathedral\"\n",
      "\"web\",\"back\"\n",
      "Lemonade\n",
      "\"Lemonade\",\"Lemonade\"\n",
      "\"Lemonade\",\"Lemonade.xcodeproj\"\n",
      "\"Lemonade\",\"LemonadeTests\"\n",
      "\"Lemonade\",\".git\"\n"
     ]
    }
   ],
   "source": [
    "guide.loadDirectory()\n",
    "for x in guide.programs:\n",
    "    print(x.name)\n",
    "    for y in x.subjects:\n",
    "        print(\"\\\"\" + x.name + \"\\\",\\\"\" + y.name + \"\\\"\")"
   ]
  },
  {
   "cell_type": "code",
   "execution_count": 48,
   "metadata": {},
   "outputs": [
    {
     "data": {
      "text/plain": [
       "[Chapel; [CSB Lower School Distance Chapel March 31th, 2020.mp4|1|1|CSB Lower School Distance Chapel March 31th, 2020.mp4,CSB Lower School Distance Chapel April 7th, 2020.mp4|2|2|CSB Lower School Distance Chapel April 7th, 2020.mp4,CSB Lower School Distance Chapel April 21st, 2020.mp4|3|3|CSB Lower School Distance Chapel April 21st, 2020.mp4,CSB Lower School Distance Chapel April 28th, 2020.mp4|4|4|CSB Lower School Distance Chapel April 28th, 2020.mp4,CSB Lower School Distance Chapel May 5th, 2020.mp4|5|5|CSB Lower School Distance Chapel May 5th, 2020.mp4,Kindergarten Readiness - Lower School Chapel.mp4|6|6|Kindergarten Readiness - Lower School Chapel.mp4,CSB Lower School Distance Chapel May 12th, 2020.mp4|7|7|CSB Lower School Distance Chapel May 12th, 2020.mp4],\n",
       " Conners; [Edward C Class Code.pdf|1|1|Edward C Class Code.pdf,Kindergarten Family Directory 20-21.pdf|2|2|Kindergarten Family Directory 20-21.pdf,EdwardLetterConceptV.mp4|3|3|EdwardLetterConceptV.mp4,EdwardKingdomOfY.mp4|4|4|EdwardKingdomOfY.mp4]]"
      ]
     },
     "execution_count": 48,
     "metadata": {},
     "output_type": "execute_result"
    }
   ],
   "source": [
    "#hide\n",
    "cath = guide.programs[0]\n",
    "foo = cath.subjects\n",
    "sorted(foo, key=lambda x: x.name)[:2]"
   ]
  },
  {
   "cell_type": "code",
   "execution_count": 49,
   "metadata": {},
   "outputs": [
    {
     "name": "stdout",
     "output_type": "stream",
     "text": [
      "SnapByFor.mp4\n",
      "ThreePart.03.31.mp4\n",
      "Fortunately.mp4\n",
      "LittleBlueTruck.mp4\n",
      "ThreePart.03.25.mp4\n",
      "5SightWords.mp4\n",
      "truestory.mp4\n",
      "VisitMusem.mp4\n",
      "MOWiliiams.mp4\n",
      "ReadAloud.mp4\n",
      "LetterConceptE.mp4\n",
      "LetterEScavenegerHunt.mp4\n",
      "ThreePart.4.7.20.mp4\n",
      "AmosMcGee.mp4\n",
      "WhatBooks.mp4\n",
      "DavidTellsJoke.mp4\n",
      "SnapWordsMemory..mp4\n",
      "SnapWords.mp4\n",
      "aChairForMyMother.mp4\n",
      "FantasticElasticBrain.mp4\n",
      "FrogToad.mp4\n",
      "LetterConceptS.mp4\n",
      "ThreePart.04.21.mp4\n",
      "LetterConceptSH.mp4\n",
      "HowToBabySitAGrandPa.mp4\n",
      "ReadingFromHome.mp4\n",
      "ThreePartDrill.4.23.20.mp4\n",
      "LetterConceptTH.mp4\n",
      "ThreePart.4.28.mp4\n",
      "LetterConceptW.mp4\n",
      "AvidReader.mp4\n",
      "ThreePart.4.30.mp4\n",
      "LetterConceptY.mp4\n",
      "ThreePartDrill.05.06.mp4\n",
      "BearsFeelScared.mp4\n",
      "Reading-BookReview.pdf\n",
      "BigHugsLittleHugs.mp4\n",
      "LetterConceptV.mp4\n",
      "ThreePartDrill.5.12.20.mp4\n",
      "Review Writing 5_12.pdf\n",
      "Find the rhymes.m4a\n",
      "LetterConceptX.mp4\n",
      "ThreePart.05.14.mp4\n",
      "LetterConceptZ.mp4\n",
      "FrogAndToad.mp4\n"
     ]
    }
   ],
   "source": [
    "reading = [x  for x in cath.subjects if x.name == \"Reading\"][0]\n",
    "for less in reading.lessons:\n",
    "    print(less.fileName)"
   ]
  },
  {
   "cell_type": "code",
   "execution_count": 50,
   "metadata": {},
   "outputs": [
    {
     "data": {
      "text/plain": [
       "'Hello Cathedral!'"
      ]
     },
     "execution_count": 50,
     "metadata": {},
     "output_type": "execute_result"
    }
   ],
   "source": [
    "#hide\n",
    "template = Template('Hello {{ name }}!')\n",
    "template.render(name=cath.name)"
   ]
  },
  {
   "cell_type": "code",
   "execution_count": 51,
   "metadata": {},
   "outputs": [],
   "source": [
    "#hide\n",
    "guide = StudySystem(\"./data/programs.json\")\n",
    "for x in guide.programs:\n",
    "    print(x.name)\n",
    "    for y in x.subjects:\n",
    "        print(\"\\\"\" + x.name + \"\\\",\\\"\" + y.name + \"\\\"\")"
   ]
  },
  {
   "cell_type": "code",
   "execution_count": null,
   "metadata": {},
   "outputs": [],
   "source": []
  },
  {
   "cell_type": "code",
   "execution_count": 52,
   "metadata": {},
   "outputs": [],
   "source": [
    "#export\n",
    "\n",
    "class Render:\n",
    "    def __init__(self, program, guide , dir=\"../../web\",template = \"../templates\"):\n",
    "       \n",
    "        self.guide = guide\n",
    "        self.program = [x for x in guide.programs if x.name == program][0]\n",
    "        print(\"loaded program \" + self.program.name)\n",
    "        self.outputdir = os.path.join(dir,self.program.name)\n",
    "        self.template = template\n",
    "        \n",
    "        self.file_loader = FileSystemLoader(self.template)\n",
    "        self.env = Environment(loader=self.file_loader)\n",
    "        self.resources = \"resources\"\n",
    "\n",
    "        \n",
    "    def basePath(self):\n",
    "        return self.outputdir\n",
    "    \n",
    "    def renderLesson(self,sub,lesson):\n",
    "        template = self.env.get_template(\"lesson.html\")\n",
    "        resDir = \"../../..\"\n",
    "        \n",
    "        output = template.render(item=sub,\n",
    "                                 resDir=resDir,\n",
    "                                 less=lesson,\n",
    "                                 program = self.program,\n",
    "                                 styleDir=os.path.join(\"..\",self.resources))\n",
    "        subDir = os.path.join(self.outputdir,sub.name)\n",
    "        \n",
    "        if not os.path.exists(subDir):\n",
    "            os.mkdir(subDir)\n",
    "        f = open(os.path.join(subDir,\"vid_\" +str(lesson.key) + \".html\"), \"w\")\n",
    "        f.write(output)\n",
    "        \n",
    "    def renderSubject(self,sub):\n",
    "        template = self.env.get_template(\"subject.html\")\n",
    "        videos = [x for x in sub.lessons if x.fileName.endswith(\".mp4\")] \n",
    "        resources = [x for x in sub.lessons if not x.fileName.endswith(\".mp4\")]\n",
    "        for x in sub.lessons:\n",
    "            self.renderLesson(sub,x)\n",
    "        resDir = \"../../..\"\n",
    "        #print(sub.sequences)\n",
    "        output = template.render(item=sub,\n",
    "                                 videos=videos,\n",
    "                                 res=resources,\n",
    "                                 resDir=resDir,\n",
    "                                 program = self.program,\n",
    "                                 grid = reversed(dateGrid(self.program,subject=sub.name)),\n",
    "                                 styleDir=os.path.join(\"..\",self.resources))\n",
    "        subDir = os.path.join(self.outputdir,sub.name)\n",
    "        \n",
    "        if not os.path.exists(subDir):\n",
    "            os.mkdir(subDir)\n",
    "        f = open(os.path.join(subDir,\"index.html\"), \"w\")\n",
    "        f.write(output)\n",
    "       \n",
    "    def renderCalendar(self):\n",
    "        \n",
    "        grid = reversed(dateGrid(self.program))\n",
    "\n",
    "        if not os.path.exists(self.outputdir):\n",
    "            os.mkdir(self.outputdir)\n",
    "  \n",
    "        template = self.env.get_template(\"calendar.html\")\n",
    "        output = template.render(program=self.program,\n",
    "                                 grid=grid,\n",
    "                                 styleDir=os.path.join(\".\",self.resources))\n",
    "        \n",
    "        f = open(os.path.join(self.outputdir,\"calendar.html\"), \"w\")\n",
    "        f.write(output)\n",
    "        f.close()\n",
    "        \n",
    "    def renderSchool(self):\n",
    "        \n",
    "        foo = self.program.subjects\n",
    "        seq = sorted(foo, key=lambda x: x.name)\n",
    "\n",
    "        if not os.path.exists(self.outputdir):\n",
    "            os.mkdir(self.outputdir)\n",
    "            \n",
    "        for x in seq:\n",
    "            self.renderSubject(x)\n",
    "            \n",
    "        template = self.env.get_template(\"school.html\")\n",
    "        output = template.render(program=self.program,\n",
    "                                 seq=seq,\n",
    "                                 styleDir=os.path.join(\".\",self.resources))\n",
    "        \n",
    "        f = open(os.path.join(self.outputdir,\"index.html\"), \"w\")\n",
    "        f.write(output)\n",
    "        f.close()\n",
    "        \n",
    "        self.addResources()\n",
    "        \n",
    "    def addResources(self):\n",
    "        resDir = os.path.join(self.outputdir,self.resources)\n",
    "        if not os.path.exists(resDir):\n",
    "            os.mkdir(resDir)\n",
    "        startDir = os.path.join(\".\", self.resources)\n",
    "        src_files = os.listdir(startDir)\n",
    "        \n",
    "        for file_name in src_files:\n",
    "            full_file_name = os.path.join(startDir, file_name)\n",
    "            if os.path.isfile(full_file_name):\n",
    "                shutil.copy(full_file_name, os.path.join(resDir, file_name))\n",
    "        \n",
    "        with open(os.path.join(resDir, \"lemonade.json\"), \"w\") as dataFile:\n",
    "            json.dump(self.program.toDict(), dataFile, indent=4, sort_keys=True)\n",
    "       \n",
    "    def addFiles(self):\n",
    "        for sub in self.program.subjects:\n",
    "            for lesson in sub.lessons:\n",
    "                source = os.path.join(self.guide.origin, self.program.name,sub.name,lesson.fileName)\n",
    "                dest = os.path.join(self.outputdir,sub.name,lesson.fileName)\n",
    "                \n",
    "                if not os.path.isfile(dest):\n",
    "                    print(\"found \" + dest)\n",
    "                    shutil.copy(source, dest)\n",
    "        \n"
   ]
  },
  {
   "cell_type": "code",
   "execution_count": 53,
   "metadata": {},
   "outputs": [
    {
     "name": "stdout",
     "output_type": "stream",
     "text": [
      "loaded program Cathedral\n"
     ]
    }
   ],
   "source": [
    "#hide\n",
    "guide.loadDirectory()\n",
    "processGuide(guide)\n",
    "cath = guide.programs[0]\n",
    "baseRender = Render(\"Cathedral\",guide)\n",
    "baseRender.renderSchool()\n",
    "guide.save()\n",
    "#style = \"background-color: #ABAD9E;\""
   ]
  },
  {
   "cell_type": "code",
   "execution_count": 54,
   "metadata": {},
   "outputs": [
    {
     "name": "stdout",
     "output_type": "stream",
     "text": [
      "found ../../web/Cathedral/Reading/LetterConceptE.mp4\n",
      "found ../../web/Cathedral/Reading/LetterEScavenegerHunt.mp4\n",
      "found ../../web/Cathedral/Reading/ThreePart.4.7.20.mp4\n",
      "found ../../web/Cathedral/Reading/AmosMcGee.mp4\n",
      "found ../../web/Cathedral/Reading/WhatBooks.mp4\n",
      "found ../../web/Cathedral/Reading/DavidTellsJoke.mp4\n",
      "found ../../web/Cathedral/Reading/SnapWordsMemory..mp4\n",
      "found ../../web/Cathedral/Reading/SnapWords.mp4\n",
      "found ../../web/Cathedral/Reading/aChairForMyMother.mp4\n",
      "found ../../web/Cathedral/Reading/FantasticElasticBrain.mp4\n",
      "found ../../web/Cathedral/Reading/FrogToad.mp4\n",
      "found ../../web/Cathedral/Reading/LetterConceptS.mp4\n",
      "found ../../web/Cathedral/Reading/ThreePart.04.21.mp4\n",
      "found ../../web/Cathedral/Reading/LetterConceptSH.mp4\n",
      "found ../../web/Cathedral/Reading/HowToBabySitAGrandPa.mp4\n",
      "found ../../web/Cathedral/Reading/ReadingFromHome.mp4\n",
      "found ../../web/Cathedral/Reading/ThreePartDrill.4.23.20.mp4\n",
      "found ../../web/Cathedral/Reading/LetterConceptTH.mp4\n",
      "found ../../web/Cathedral/Reading/ThreePart.4.28.mp4\n",
      "found ../../web/Cathedral/Reading/LetterConceptW.mp4\n",
      "found ../../web/Cathedral/Reading/AvidReader.mp4\n",
      "found ../../web/Cathedral/Reading/ThreePart.4.30.mp4\n",
      "found ../../web/Cathedral/Reading/LetterConceptY.mp4\n",
      "found ../../web/Cathedral/Reading/ThreePartDrill.05.06.mp4\n",
      "found ../../web/Cathedral/Reading/BearsFeelScared.mp4\n",
      "found ../../web/Cathedral/Reading/Reading-BookReview.pdf\n",
      "found ../../web/Cathedral/Reading/BigHugsLittleHugs.mp4\n",
      "found ../../web/Cathedral/Reading/LetterConceptV.mp4\n",
      "found ../../web/Cathedral/Reading/ThreePartDrill.5.12.20.mp4\n",
      "found ../../web/Cathedral/Reading/Review Writing 5_12.pdf\n",
      "found ../../web/Cathedral/Reading/Find the rhymes.m4a\n",
      "found ../../web/Cathedral/Reading/LetterConceptX.mp4\n",
      "found ../../web/Cathedral/Reading/ThreePart.05.14.mp4\n",
      "found ../../web/Cathedral/Reading/LetterConceptZ.mp4\n",
      "found ../../web/Cathedral/Reading/FrogAndToad.mp4\n",
      "found ../../web/Cathedral/Music/NoExcuse.mp4\n",
      "found ../../web/Cathedral/Music/Kindergarten Music Lesson 05 - Good Night Robbers & Quakers.mp4\n",
      "found ../../web/Cathedral/Music/Lemonade.mp4\n",
      "found ../../web/Cathedral/Music/LittleLightOfMine.mp4\n",
      "found ../../web/Cathedral/Music/Spotlight on Music 02 - Ludwig Van Beethoven.mp4\n",
      "found ../../web/Cathedral/Music/Kindergarten Performing Arts Lesson 07 - AckaBacka.mp4\n",
      "found ../../web/Cathedral/Music/Kindergarten Performing Arts Lesson 07 - Come By Here.mp4\n",
      "found ../../web/Cathedral/Chapel/CSB Lower School Distance Chapel March 31th, 2020.mp4\n",
      "found ../../web/Cathedral/Chapel/CSB Lower School Distance Chapel April 7th, 2020.mp4\n",
      "found ../../web/Cathedral/Chapel/CSB Lower School Distance Chapel April 21st, 2020.mp4\n",
      "found ../../web/Cathedral/Chapel/CSB Lower School Distance Chapel April 28th, 2020.mp4\n",
      "found ../../web/Cathedral/Chapel/CSB Lower School Distance Chapel May 5th, 2020.mp4\n",
      "found ../../web/Cathedral/Chapel/Kindergarten Readiness - Lower School Chapel.mp4\n",
      "found ../../web/Cathedral/Chapel/CSB Lower School Distance Chapel May 12th, 2020.mp4\n",
      "found ../../web/Cathedral/Science/Biomes.mp4\n",
      "found ../../web/Cathedral/Science/ MayTheForcesBeWithYou.mp4\n",
      "found ../../web/Cathedral/Science/Pressed flower making video .mov\n",
      "found ../../web/Cathedral/HealthAndExercise/MakeBed.mp4\n",
      "found ../../web/Cathedral/HealthAndExercise/Animal warmup 1.mp4\n",
      "found ../../web/Cathedral/HealthAndExercise/FullSizeRender.mp4\n",
      "found ../../web/Cathedral/HealthAndExercise/lower body_core workout pe.mp4\n",
      "found ../../web/Cathedral/HealthAndExercise/joke.mp4\n",
      "found ../../web/Cathedral/HealthAndExercise/5 Little Monkeys.MOV\n",
      "found ../../web/Cathedral/Schedules/Kindergarten Schedule 4_6-4_9 copy.pdf\n",
      "found ../../web/Cathedral/Schedules/Edward C Class Code copy.pdf\n",
      "found ../../web/Cathedral/Schedules/InventorScavengerHunt.mp4\n",
      "found ../../web/Cathedral/Schedules/Cathedral's Lower School Spring Break Schedule.pdf\n",
      "found ../../web/Cathedral/Schedules/Kindergarten Schedule 4_20_20.pdf\n",
      "found ../../web/Cathedral/Schedules/Kindergarten, April 20th, 2020.pdf\n",
      "found ../../web/Cathedral/Schedules/Kindergarten Schedule 4_26_20.pdf\n",
      "found ../../web/Cathedral/Schedules/April 27, 2020.pdf\n",
      "found ../../web/Cathedral/Schedules/April 28-29, 2020.pdf\n",
      "found ../../web/Cathedral/Schedules/Kindergarten, April 30-May 1.pdf\n",
      "found ../../web/Cathedral/Schedules/Kindergarten Schedule 5_4_2020.pdf\n",
      "found ../../web/Cathedral/Schedules/May 4, 2020.pdf\n",
      "found ../../web/Cathedral/Schedules/Kindergarten May 5-6, 2020.pdf\n",
      "found ../../web/Cathedral/Schedules/Kindergarten, May 7-8 2020.pdf\n",
      "found ../../web/Cathedral/Schedules/Kindergarten May 11, 2020.pdf\n",
      "found ../../web/Cathedral/Schedules/Kindergarten Schedule 5_11_2020.pdf\n",
      "found ../../web/Cathedral/Schedules/Kindergarten May 12-15, 2020.pdf\n",
      "found ../../web/Cathedral/Math/ColorByNumber.pdf\n",
      "found ../../web/Cathedral/Math/TenFrameCards.mp4\n",
      "found ../../web/Cathedral/Math/Grade0AoD_Week5Day2_WODB-SampleResponses - Google Docs.pdf\n",
      "found ../../web/Cathedral/Math/double ten frame cards.pdf\n",
      "found ../../web/Cathedral/Math/k6.1.pdf\n",
      "found ../../web/Cathedral/Math/KinderBridges-HomeLearning-Unit5Mod1.pdf\n",
      "found ../../web/Cathedral/Math/POD April 29th.pdf\n",
      "found ../../web/Cathedral/Math/GradePKAoD_Week5Day5_MiOW.pdf\n",
      "found ../../web/Cathedral/Math/Spoons.pdf\n",
      "found ../../web/Cathedral/Math/ku6m3.pdf\n",
      "found ../../web/Cathedral/Math/WhatComesNext.pdf\n",
      "found ../../web/Cathedral/Math/14NumberOfDay.pdf\n",
      "found ../../web/Cathedral/Math/HowMany.pdf\n",
      "found ../../web/Cathedral/Math/MathHowMany.pdf\n",
      "found ../../web/Cathedral/Math/Kindergarten May 12-15, 2020.pdf\n",
      "found ../../web/Cathedral/Math/DoubleTenFrames.pdf\n",
      "found ../../web/Cathedral/Math/Number Combos 1.jpg\n",
      "found ../../web/Cathedral/Math/NumberCombos 2.jpg\n",
      "found ../../web/Cathedral/Math/Kindergarten Readiness - Math.mp4\n",
      "found ../../web/Cathedral/Math/PreKMath.pdf\n",
      "found ../../web/Cathedral/Math/WhatDoYouSee.pdf\n",
      "found ../../web/Cathedral/Mindful/BellyBreath.mp4\n",
      "found ../../web/Cathedral/Mindful/ChillSong.mp4\n",
      "found ../../web/Cathedral/Mindful/InhaleUniverse.mp4\n",
      "found ../../web/Cathedral/Mindful/CandleBreath.mp4\n",
      "found ../../web/Cathedral/Mindful/TreePose.mp4\n",
      "found ../../web/Cathedral/Mindful/SilentMoment.mp4\n",
      "found ../../web/Cathedral/Mindful/LegsAtWall.mp4\n",
      "found ../../web/Cathedral/Mindful/LovingKindness.mp4\n",
      "found ../../web/Cathedral/Mindful/GetOutside.mp4\n",
      "found ../../web/Cathedral/Mindful/MindCastle.mp4\n",
      "found ../../web/Cathedral/Mindful/MindBubbles.mp4\n",
      "found ../../web/Cathedral/Mindful/BalancedBreathing.mp4\n",
      "found ../../web/Cathedral/Mindful/SunriseBreaths.mp4\n",
      "found ../../web/Cathedral/Mindful/SunSalutations.mp4\n",
      "found ../../web/Cathedral/Mindful/LionsBreath.mp4\n",
      "found ../../web/Cathedral/Mindful/Figure8.mp4\n",
      "found ../../web/Cathedral/Mindful/FoldingFlower.mp4\n",
      "found ../../web/Cathedral/Mindful/StarFishBreath.mp4\n",
      "found ../../web/Cathedral/Mindful/SharpEyes.mp4\n",
      "found ../../web/Cathedral/Mindful/TakeWalk.mp4\n",
      "found ../../web/Cathedral/Mindful/CloudBurst.mp4\n",
      "found ../../web/Cathedral/Mindful/HappyHelm.mp4\n",
      "found ../../web/Cathedral/Mindful/MoveOurBodies.mp4\n",
      "found ../../web/Cathedral/EmotionalLearning/Emotions.mp4\n",
      "found ../../web/Cathedral/EmotionalLearning/Fillbucket.mp4\n",
      "found ../../web/Cathedral/EmotionalLearning/Creative.mp4\n",
      "found ../../web/Cathedral/EmotionalLearning/IntroducingKimochisBug.mp4\n",
      "found ../../web/Cathedral/EmotionalLearning/Gratitude.mp4\n",
      "found ../../web/Cathedral/EmotionalLearning/Gratitude 422.mp4\n",
      "found ../../web/Cathedral/EmotionalLearning/Gratitude.4.21.mp4\n",
      "found ../../web/Cathedral/EmotionalLearning/SharingPicture.mp4\n",
      "found ../../web/Cathedral/EmotionalLearning/GratitudeTree.mp4\n",
      "found ../../web/Cathedral/EmotionalLearning/KimochisCloversKindness.mp4\n",
      "found ../../web/Cathedral/EmotionalLearning/KimochisClover.mp4\n",
      "found ../../web/Cathedral/EmotionalLearning/BeingBravelikeKimochis Bug.mp4\n",
      "found ../../web/Cathedral/EmotionalLearning/RainShadow.mp4\n",
      "found ../../web/Cathedral/Writing/ThreeWishes.mp4\n",
      "found ../../web/Cathedral/Writing/WhatDidYouDoWeekend.mp4\n",
      "found ../../web/Cathedral/Writing/Laugh.mp4\n",
      "found ../../web/Cathedral/Writing/VirtualMuseum.mp4\n",
      "found ../../web/Cathedral/Writing/EnjoyAboutDistanceLearning.mp4\n",
      "found ../../web/Cathedral/Writing/FeelGood.mp4\n",
      "found ../../web/Cathedral/Writing/VirtualDictitation.mp4\n",
      "found ../../web/Cathedral/Writing/TrueStory.mp4\n",
      "found ../../web/Cathedral/Writing/NoticeWonder.mp4\n",
      "found ../../web/Cathedral/Writing/HowToThinkiningWhatToWrite.mp4\n",
      "found ../../web/Cathedral/Writing/PlannigHowToBook.mp4\n",
      "found ../../web/Cathedral/Writing/WritingPlan.mp4\n",
      "found ../../web/Cathedral/Writing/GK_PC_BK_Box4Lines.pdf\n",
      "found ../../web/Cathedral/Writing/SketchingIdeas.mp4\n",
      "found ../../web/Cathedral/Writing/HowToDetails.mp4\n",
      "found ../../web/Cathedral/Writing/Dictation.mp4\n",
      "found ../../web/Cathedral/Writing/HowToEdit.mp4\n",
      "found ../../web/Cathedral/Writing/OptionalDictation.mp4\n",
      "found ../../web/Cathedral/Writing/HowToCovers.mp4\n",
      "found ../../web/Cathedral/Writing/HowToChoosingRightWords.mp4\n",
      "found ../../web/Cathedral/Writing/HowToListenToReaders.mp4\n",
      "found ../../web/Cathedral/Writing/WorkOnHowTo.mp4\n",
      "found ../../web/Cathedral/Writing/imaging.seesaw.me.png\n",
      "found ../../web/Cathedral/Writing/BestGuessSpelling.mp4\n",
      "found ../../web/Cathedral/Writing/WriteLoveLetter.mp4\n",
      "found ../../web/Cathedral/Writing/ParentWriteReview.mp4\n",
      "found ../../web/Cathedral/Writing/Review Writing.mp4\n",
      "found ../../web/Cathedral/Writing/WritingAReview.mp4\n"
     ]
    }
   ],
   "source": [
    "#hide\n",
    "baseRender.addFiles()"
   ]
  },
  {
   "cell_type": "code",
   "execution_count": null,
   "metadata": {},
   "outputs": [],
   "source": []
  },
  {
   "cell_type": "code",
   "execution_count": null,
   "metadata": {},
   "outputs": [],
   "source": []
  },
  {
   "cell_type": "code",
   "execution_count": 55,
   "metadata": {},
   "outputs": [],
   "source": [
    "#hide\n",
    "baseRender.addResources()\n",
    "baseRender.renderCalendar()"
   ]
  },
  {
   "cell_type": "code",
   "execution_count": null,
   "metadata": {},
   "outputs": [],
   "source": [
    "#import json\n",
    "#print(json.dumps(guide.toDict(), sort_keys=True, indent=4)) "
   ]
  },
  {
   "cell_type": "code",
   "execution_count": null,
   "metadata": {},
   "outputs": [],
   "source": []
  }
 ],
 "metadata": {
  "kernelspec": {
   "display_name": "Python 3",
   "language": "python",
   "name": "python3"
  },
  "language_info": {
   "codemirror_mode": {
    "name": "ipython",
    "version": 3
   },
   "file_extension": ".py",
   "mimetype": "text/x-python",
   "name": "python",
   "nbconvert_exporter": "python",
   "pygments_lexer": "ipython3",
   "version": "3.8.2"
  }
 },
 "nbformat": 4,
 "nbformat_minor": 4
}
