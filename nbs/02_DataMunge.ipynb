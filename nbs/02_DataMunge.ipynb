{
 "cells": [
  {
   "cell_type": "code",
   "execution_count": null,
   "metadata": {},
   "outputs": [],
   "source": [
    "# default_exp munge"
   ]
  },
  {
   "cell_type": "markdown",
   "metadata": {},
   "source": [
    "# Processing the files \n",
    "\n",
    "> API details."
   ]
  },
  {
   "cell_type": "code",
   "execution_count": 1,
   "metadata": {},
   "outputs": [],
   "source": [
    "%load_ext autoreload\n",
    "%autoreload 2\n",
    "\n",
    "%matplotlib inline"
   ]
  },
  {
   "cell_type": "code",
   "execution_count": 2,
   "metadata": {},
   "outputs": [],
   "source": [
    "#export\n",
    "import os\n",
    "import sys\n",
    "import pandas as pd\n",
    "import re\n",
    "from time import gmtime, strftime, ctime\n",
    "from datetime import datetime, timedelta\n",
    "from collections import defaultdict"
   ]
  },
  {
   "cell_type": "code",
   "execution_count": 3,
   "metadata": {},
   "outputs": [],
   "source": [
    "#hide\n",
    "from nbdev.showdoc import *\n",
    "\n",
    "cPath = os.path.dirname(os.getcwd())\n",
    "cPath\n",
    "sys.path.insert(0,cPath)"
   ]
  },
  {
   "cell_type": "code",
   "execution_count": 4,
   "metadata": {},
   "outputs": [],
   "source": [
    "#export\n",
    "from refreshment.School import StudySystem,subjectFromPath\n",
    "from refreshment.Program import Program, Subject, Record, Lesson"
   ]
  },
  {
   "cell_type": "code",
   "execution_count": 5,
   "metadata": {},
   "outputs": [
    {
     "data": {
      "text/plain": [
       "StudySystem|1|1"
      ]
     },
     "execution_count": 5,
     "metadata": {},
     "output_type": "execute_result"
    }
   ],
   "source": [
    "#hide\n",
    "guide = StudySystem()\n",
    "for x in guide.programs:\n",
    "    print(x.name)\n",
    "guide"
   ]
  },
  {
   "cell_type": "code",
   "execution_count": 6,
   "metadata": {},
   "outputs": [
    {
     "name": "stdout",
     "output_type": "stream",
     "text": [
      "Cathedral\n",
      "\"Cathedral\",\"Reading\"\n",
      "\"Cathedral\",\"Music\"\n",
      "\"Cathedral\",\"Chapel\"\n",
      "\"Cathedral\",\"HealthAndExercise\"\n",
      "\"Cathedral\",\"Shedules\"\n",
      "\"Cathedral\",\"Math\"\n",
      "\"Cathedral\",\"Mindful\"\n",
      "\"Cathedral\",\"Specialist\"\n",
      "\"Cathedral\",\"EmotionalLearning\"\n",
      "\"Cathedral\",\"Writing\"\n"
     ]
    }
   ],
   "source": [
    "#hide\n",
    "guide = StudySystem.load(\"./data/programs.json\")\n",
    "for x in guide.programs:\n",
    "    print(x.name)\n",
    "    for y in x.subjects:\n",
    "        print(\"\\\"\" + x.name + \"\\\",\\\"\" + y.name + \"\\\"\")\n",
    "        \n"
   ]
  },
  {
   "cell_type": "code",
   "execution_count": 28,
   "metadata": {},
   "outputs": [],
   "source": [
    "#hide\n",
    "#guide = StudySystem(\"./data/programs.json\")\n",
    "#guide.loadDirectory()"
   ]
  },
  {
   "cell_type": "code",
   "execution_count": 29,
   "metadata": {},
   "outputs": [
    {
     "name": "stdout",
     "output_type": "stream",
     "text": [
      "Cathedral\n",
      "\"Cathedral\",\"Reading\"\n",
      "\"Cathedral\",\"Music\"\n",
      "\"Cathedral\",\"Chapel\"\n",
      "\"Cathedral\",\"HealthAndExercise\"\n",
      "\"Cathedral\",\"Shedules\"\n",
      "\"Cathedral\",\"Math\"\n",
      "\"Cathedral\",\"Mindful\"\n",
      "\"Cathedral\",\"Specialist\"\n",
      "\"Cathedral\",\"EmotionalLearning\"\n",
      "\"Cathedral\",\"Writing\"\n"
     ]
    }
   ],
   "source": [
    "#hide\n",
    "for x in guide.programs:\n",
    "    x.subjects = [y for y in x.subjects if y.name != \"Conners\"]\n",
    "    x.fixPaths()\n",
    "    \n",
    "for x in guide.programs:\n",
    "    print(x.name)\n",
    "    for y in x.subjects:\n",
    "        print(\"\\\"\" + x.name + \"\\\",\\\"\" + y.name + \"\\\"\")"
   ]
  },
  {
   "cell_type": "code",
   "execution_count": 30,
   "metadata": {},
   "outputs": [],
   "source": [
    "#export\n",
    "\n",
    "def cleanLesson(less):\n",
    "    for l in less.lessons:\n",
    "\n",
    "        label = re.sub(r'((?<=[a-z])[A-Z]|(?<!\\A)[A-Z](?=[a-z]))', r' \\1', l.fileName)\n",
    "        if label[-4] == \".\":\n",
    "            label = label[:-4]\n",
    "        label = re.sub(' +', ' ', label)\n",
    "        if l.name == l.fileName:\n",
    "            l.name = label\n",
    "\n"
   ]
  },
  {
   "cell_type": "code",
   "execution_count": 31,
   "metadata": {},
   "outputs": [
    {
     "data": {
      "text/plain": [
       "{'key': 'Mindful|0|0',\n",
       " 'lessons': [{'key': 'Belly Breath|1|1|BellyBreath.mp4',\n",
       "   'modifyTime': 1585844372.0,\n",
       "   'fileName': 'BellyBreath.mp4',\n",
       "   'indexPath': []},\n",
       "  {'key': 'Chill Song|2|2|ChillSong.mp4',\n",
       "   'modifyTime': 1585844573.0,\n",
       "   'fileName': 'ChillSong.mp4',\n",
       "   'indexPath': []},\n",
       "  {'key': 'Inhale Universe|3|3|InhaleUniverse.mp4',\n",
       "   'modifyTime': 1585850454.0,\n",
       "   'fileName': 'InhaleUniverse.mp4',\n",
       "   'indexPath': []},\n",
       "  {'key': 'candle|4|4|candle.mp4',\n",
       "   'modifyTime': 1585850497.0,\n",
       "   'fileName': 'candle.mp4',\n",
       "   'indexPath': []},\n",
       "  {'key': 'Tree|5|5|Tree.mp4',\n",
       "   'modifyTime': 1585850954.0,\n",
       "   'fileName': 'Tree.mp4',\n",
       "   'indexPath': []},\n",
       "  {'key': 'Silent Moment|6|6|SilentMoment.mp4',\n",
       "   'modifyTime': 1586187483.5847385,\n",
       "   'fileName': 'SilentMoment.mp4',\n",
       "   'indexPath': []},\n",
       "  {'key': 'legswall|7|7|legswall.mp4',\n",
       "   'modifyTime': 1586273534.3305132,\n",
       "   'fileName': 'legswall.mp4',\n",
       "   'indexPath': []},\n",
       "  {'key': 'Loving Kindness|8|8|LovingKindness.mp4',\n",
       "   'modifyTime': 1586359549.2449093,\n",
       "   'fileName': 'LovingKindness.mp4',\n",
       "   'indexPath': []},\n",
       "  {'key': 'Get Outside|9|9|GetOutside.mp4',\n",
       "   'modifyTime': 1586444996.3638506,\n",
       "   'fileName': 'GetOutside.mp4',\n",
       "   'indexPath': []},\n",
       "  {'key': 'Mind Castle|10|10|MindCastle.mp4',\n",
       "   'modifyTime': 1587573500.2164845,\n",
       "   'fileName': 'MindCastle.mp4',\n",
       "   'indexPath': []},\n",
       "  {'key': 'Mind Bubbles|11|11|MindBubbles.mp4',\n",
       "   'modifyTime': 1587573749.5938618,\n",
       "   'fileName': 'MindBubbles.mp4',\n",
       "   'indexPath': []},\n",
       "  {'key': 'Balanced Breathing|12|12|BalancedBreathing.mp4',\n",
       "   'modifyTime': 1587656435.7181826,\n",
       "   'fileName': 'BalancedBreathing.mp4',\n",
       "   'indexPath': []},\n",
       "  {'key': 'Sunrise Breaths|13|13|SunriseBreaths.mp4',\n",
       "   'modifyTime': 1587744164.3250923,\n",
       "   'fileName': 'SunriseBreaths.mp4',\n",
       "   'indexPath': []},\n",
       "  {'key': 'Sun Salutations|14|14|SunSalutations.mp4',\n",
       "   'modifyTime': 1588008544.7799766,\n",
       "   'fileName': 'SunSalutations.mp4',\n",
       "   'indexPath': []},\n",
       "  {'key': 'Lions Breath|15|15|LionsBreath.mp4',\n",
       "   'modifyTime': 1588205159.878294,\n",
       "   'fileName': 'LionsBreath.mp4',\n",
       "   'indexPath': []},\n",
       "  {'key': 'Figure8|16|16|Figure8.mp4',\n",
       "   'modifyTime': 1588205255.2920933,\n",
       "   'fileName': 'Figure8.mp4',\n",
       "   'indexPath': []},\n",
       "  {'key': 'Folding Flower|17|17|FoldingFlower.mp4',\n",
       "   'modifyTime': 1588605607.038485,\n",
       "   'fileName': 'FoldingFlower.mp4',\n",
       "   'indexPath': []},\n",
       "  {'key': 'Star Fish Breath|18|18|StarFishBreath.mp4',\n",
       "   'modifyTime': 1588800964.7840798,\n",
       "   'fileName': 'StarFishBreath.mp4',\n",
       "   'indexPath': []},\n",
       "  {'key': 'Sharp Eyes|19|19|SharpEyes.mp4',\n",
       "   'modifyTime': 1588869272.2020016,\n",
       "   'fileName': 'SharpEyes.mp4',\n",
       "   'indexPath': []},\n",
       "  {'key': 'Take Walk|20|20|TakeWalk.mp4',\n",
       "   'modifyTime': 1588976257.9479213,\n",
       "   'fileName': 'TakeWalk.mp4',\n",
       "   'indexPath': []}],\n",
       " 'sequences': {},\n",
       " 'img': ''}"
      ]
     },
     "execution_count": 31,
     "metadata": {},
     "output_type": "execute_result"
    }
   ],
   "source": [
    "#hide\n",
    "mindful = subjectFromPath(\"Cathedral\",\"Mindful\",guide.programs)\n",
    "cleanLesson(mindful) \n",
    "mindful.toDict()"
   ]
  },
  {
   "cell_type": "code",
   "execution_count": 32,
   "metadata": {},
   "outputs": [
    {
     "name": "stdout",
     "output_type": "stream",
     "text": [
      "1 BellyBreath.mp4 Belly Breath\n",
      "2 ChillSong.mp4 Chill Song\n",
      "3 InhaleUniverse.mp4 Inhale Universe\n",
      "4 candle.mp4 candle\n",
      "5 Tree.mp4 Tree\n",
      "6 SilentMoment.mp4 Silent Moment\n",
      "7 legswall.mp4 legswall\n",
      "8 LovingKindness.mp4 Loving Kindness\n",
      "9 GetOutside.mp4 Get Outside\n",
      "10 MindCastle.mp4 Mind Castle\n",
      "11 MindBubbles.mp4 Mind Bubbles\n",
      "12 BalancedBreathing.mp4 Balanced Breathing\n",
      "13 SunriseBreaths.mp4 Sunrise Breaths\n",
      "14 SunSalutations.mp4 Sun Salutations\n",
      "15 LionsBreath.mp4 Lions Breath\n",
      "16 Figure8.mp4 Figure8\n",
      "17 FoldingFlower.mp4 Folding Flower\n",
      "18 StarFishBreath.mp4 Star Fish Breath\n",
      "19 SharpEyes.mp4 Sharp Eyes\n",
      "20 TakeWalk.mp4 Take Walk\n"
     ]
    }
   ],
   "source": [
    "#hide\n",
    "guide.save()\n",
    "guide = StudySystem.load(\"./data/programs.json\")\n",
    "mindful = subjectFromPath(\"Cathedral\",\"Mindful\",guide.programs)\n",
    "for l in mindful.lessons:\n",
    "    print(l.key,l.fileName,l.name)"
   ]
  },
  {
   "cell_type": "code",
   "execution_count": 33,
   "metadata": {},
   "outputs": [],
   "source": [
    "#hide\n",
    "for x in guide.programs:\n",
    "    for y in x.subjects:\n",
    "        cleanLesson(y)\n",
    "guide.save()"
   ]
  },
  {
   "cell_type": "markdown",
   "metadata": {},
   "source": [
    "### Working With cathedral"
   ]
  },
  {
   "cell_type": "code",
   "execution_count": 34,
   "metadata": {},
   "outputs": [
    {
     "data": {
      "text/plain": [
       "CathedralProgram, Subjects[Reading|0|0;Music|0|0;Chapel|0|0;HealthAndExercise|0|0;Shedules|0|0;Math|0|0;Mindful|0|0;Specialist|0|0;EmotionalLearning|0|0;Writing|0|0]"
      ]
     },
     "execution_count": 34,
     "metadata": {},
     "output_type": "execute_result"
    }
   ],
   "source": [
    "#hide\n",
    "cath = [x for x in guide.programs if x.name == \"Cathedral\"][0]\n",
    "cath.title = \"K\"\n",
    "cath"
   ]
  },
  {
   "cell_type": "code",
   "execution_count": 35,
   "metadata": {},
   "outputs": [],
   "source": [
    "#hide\n",
    "cath.img = \"CathedralSchool_Logo_Horizontal_White.png\""
   ]
  },
  {
   "cell_type": "code",
   "execution_count": 36,
   "metadata": {},
   "outputs": [
    {
     "data": {
      "text/plain": [
       "([Three Part.03.31|2|2|ThreePart.03.31.mp4,\n",
       "  Three Part.03.25|5|5|ThreePart.03.25.mp4,\n",
       "  Three Part.4.7.20|13|13|ThreePart.4.7.20.mp4,\n",
       "  Three Part.04.21|22|22|ThreePart.04.21.mp4,\n",
       "  Three Part Drill.4.23.20|26|26|ThreePartDrill.4.23.20.mp4,\n",
       "  Three Part.4.28|28|28|ThreePart.4.28.mp4,\n",
       "  Three Part.4.30|31|31|ThreePart.4.30.mp4,\n",
       "  Three Part Drill.05.06|32|32|ThreePartDrill.05.06.mp4],\n",
       " defaultdict(list, {'Three Part Drill': [2, 5, 13, 22, 26, 28, 31, 32]}))"
      ]
     },
     "execution_count": 36,
     "metadata": {},
     "output_type": "execute_result"
    }
   ],
   "source": [
    "#hide\n",
    "reading = [x for x in cath.subjects if x.name == \"Reading\"][0]\n",
    "threePart = [x for x in reading.lessons if \"hree\" in x.name]\n",
    "threePart.sort(key=Lesson.sBase)\n",
    "reading.sequences[\"Three Part Drill\"] = [x.key for x in threePart]\n",
    "threePart, reading.sequences"
   ]
  },
  {
   "cell_type": "code",
   "execution_count": 37,
   "metadata": {},
   "outputs": [],
   "source": [
    "#hide\n",
    "guide.save()"
   ]
  },
  {
   "cell_type": "code",
   "execution_count": 38,
   "metadata": {},
   "outputs": [],
   "source": [
    "#export\n",
    "def makePriorsForSubject(sub):\n",
    "    skips = {}\n",
    "    for (key, seq) in sub.sequences.items():\n",
    "        i = 0\n",
    "        for x in seq:\n",
    "            less = sub.lookup[x]\n",
    "            less.prior = seq[:i]\n",
    "            less.next = seq[i+1:]\n",
    "            i += 1\n",
    "            skips[x] = 1\n",
    "    \n",
    "    unassigned = [x.key for x in sub.lessons if not x.key in skips]\n",
    "    i = 0\n",
    "    for x in unassigned:\n",
    "        less = sub.lookup[x]\n",
    "        less.prior = unassigned[:i]\n",
    "        less.next = unassigned[i+1:]\n",
    "        i += 1\n",
    "\n"
   ]
  },
  {
   "cell_type": "code",
   "execution_count": 39,
   "metadata": {},
   "outputs": [
    {
     "name": "stdout",
     "output_type": "stream",
     "text": [
      "[] [3, 4, 6, 7, 8, 9, 10, 11, 12, 14, 15, 16, 17, 18, 19, 20, 21, 23, 24, 25, 27, 29, 30, 33, 34, 35]\n",
      "[] [5, 13, 22, 26, 28, 31, 32]\n",
      "[1] [4, 6, 7, 8, 9, 10, 11, 12, 14, 15, 16, 17, 18, 19, 20, 21, 23, 24, 25, 27, 29, 30, 33, 34, 35]\n",
      "[1, 3] [6, 7, 8, 9, 10, 11, 12, 14, 15, 16, 17, 18, 19, 20, 21, 23, 24, 25, 27, 29, 30, 33, 34, 35]\n",
      "[2] [13, 22, 26, 28, 31, 32]\n",
      "[1, 3, 4] [7, 8, 9, 10, 11, 12, 14, 15, 16, 17, 18, 19, 20, 21, 23, 24, 25, 27, 29, 30, 33, 34, 35]\n",
      "[1, 3, 4, 6] [8, 9, 10, 11, 12, 14, 15, 16, 17, 18, 19, 20, 21, 23, 24, 25, 27, 29, 30, 33, 34, 35]\n",
      "[1, 3, 4, 6, 7] [9, 10, 11, 12, 14, 15, 16, 17, 18, 19, 20, 21, 23, 24, 25, 27, 29, 30, 33, 34, 35]\n",
      "[1, 3, 4, 6, 7, 8] [10, 11, 12, 14, 15, 16, 17, 18, 19, 20, 21, 23, 24, 25, 27, 29, 30, 33, 34, 35]\n",
      "[1, 3, 4, 6, 7, 8, 9] [11, 12, 14, 15, 16, 17, 18, 19, 20, 21, 23, 24, 25, 27, 29, 30, 33, 34, 35]\n",
      "[1, 3, 4, 6, 7, 8, 9, 10] [12, 14, 15, 16, 17, 18, 19, 20, 21, 23, 24, 25, 27, 29, 30, 33, 34, 35]\n",
      "[1, 3, 4, 6, 7, 8, 9, 10, 11] [14, 15, 16, 17, 18, 19, 20, 21, 23, 24, 25, 27, 29, 30, 33, 34, 35]\n",
      "[2, 5] [22, 26, 28, 31, 32]\n",
      "[1, 3, 4, 6, 7, 8, 9, 10, 11, 12] [15, 16, 17, 18, 19, 20, 21, 23, 24, 25, 27, 29, 30, 33, 34, 35]\n",
      "[1, 3, 4, 6, 7, 8, 9, 10, 11, 12, 14] [16, 17, 18, 19, 20, 21, 23, 24, 25, 27, 29, 30, 33, 34, 35]\n",
      "[1, 3, 4, 6, 7, 8, 9, 10, 11, 12, 14, 15] [17, 18, 19, 20, 21, 23, 24, 25, 27, 29, 30, 33, 34, 35]\n",
      "[1, 3, 4, 6, 7, 8, 9, 10, 11, 12, 14, 15, 16] [18, 19, 20, 21, 23, 24, 25, 27, 29, 30, 33, 34, 35]\n",
      "[1, 3, 4, 6, 7, 8, 9, 10, 11, 12, 14, 15, 16, 17] [19, 20, 21, 23, 24, 25, 27, 29, 30, 33, 34, 35]\n",
      "[1, 3, 4, 6, 7, 8, 9, 10, 11, 12, 14, 15, 16, 17, 18] [20, 21, 23, 24, 25, 27, 29, 30, 33, 34, 35]\n",
      "[1, 3, 4, 6, 7, 8, 9, 10, 11, 12, 14, 15, 16, 17, 18, 19] [21, 23, 24, 25, 27, 29, 30, 33, 34, 35]\n",
      "[1, 3, 4, 6, 7, 8, 9, 10, 11, 12, 14, 15, 16, 17, 18, 19, 20] [23, 24, 25, 27, 29, 30, 33, 34, 35]\n",
      "[2, 5, 13] [26, 28, 31, 32]\n",
      "[1, 3, 4, 6, 7, 8, 9, 10, 11, 12, 14, 15, 16, 17, 18, 19, 20, 21] [24, 25, 27, 29, 30, 33, 34, 35]\n",
      "[1, 3, 4, 6, 7, 8, 9, 10, 11, 12, 14, 15, 16, 17, 18, 19, 20, 21, 23] [25, 27, 29, 30, 33, 34, 35]\n",
      "[1, 3, 4, 6, 7, 8, 9, 10, 11, 12, 14, 15, 16, 17, 18, 19, 20, 21, 23, 24] [27, 29, 30, 33, 34, 35]\n",
      "[2, 5, 13, 22] [28, 31, 32]\n",
      "[1, 3, 4, 6, 7, 8, 9, 10, 11, 12, 14, 15, 16, 17, 18, 19, 20, 21, 23, 24, 25] [29, 30, 33, 34, 35]\n",
      "[2, 5, 13, 22, 26] [31, 32]\n",
      "[1, 3, 4, 6, 7, 8, 9, 10, 11, 12, 14, 15, 16, 17, 18, 19, 20, 21, 23, 24, 25, 27] [30, 33, 34, 35]\n",
      "[1, 3, 4, 6, 7, 8, 9, 10, 11, 12, 14, 15, 16, 17, 18, 19, 20, 21, 23, 24, 25, 27, 29] [33, 34, 35]\n",
      "[2, 5, 13, 22, 26, 28] [32]\n",
      "[2, 5, 13, 22, 26, 28, 31] []\n",
      "[1, 3, 4, 6, 7, 8, 9, 10, 11, 12, 14, 15, 16, 17, 18, 19, 20, 21, 23, 24, 25, 27, 29, 30] [34, 35]\n",
      "[1, 3, 4, 6, 7, 8, 9, 10, 11, 12, 14, 15, 16, 17, 18, 19, 20, 21, 23, 24, 25, 27, 29, 30, 33] [35]\n",
      "[1, 3, 4, 6, 7, 8, 9, 10, 11, 12, 14, 15, 16, 17, 18, 19, 20, 21, 23, 24, 25, 27, 29, 30, 33, 34] []\n"
     ]
    }
   ],
   "source": [
    "#hide\n",
    "makePriorsForSubject(reading)\n",
    "for x in reading.lessons:\n",
    "    if len(x.prior) + len(x.next) > 0:\n",
    "        print(x.prior,x.next)"
   ]
  },
  {
   "cell_type": "markdown",
   "metadata": {},
   "source": [
    "### Work on reading"
   ]
  },
  {
   "cell_type": "code",
   "execution_count": 40,
   "metadata": {},
   "outputs": [
    {
     "data": {
      "text/plain": [
       "['SnapByFor.mp4',\n",
       " 'Fortunately.mp4',\n",
       " 'LittleBlueTruck.mp4',\n",
       " '5SightWords.mp4',\n",
       " 'truestory.mp4',\n",
       " 'VisitMusem.mp4',\n",
       " 'MOWiliiams.mp4',\n",
       " 'ReadAloud.mp4',\n",
       " 'conceptE.mp4',\n",
       " 'LetterEScavenegerHunt.mp4',\n",
       " 'AmosMcGee.mp4',\n",
       " 'WhatBooks.mp4',\n",
       " 'DavidTellsJoke.mp4',\n",
       " 'SnapWordsMemory..mp4',\n",
       " 'aChairForMyMother.mp4',\n",
       " 'FantasticElasticBrain.mp4',\n",
       " 'FrogToad.mp4',\n",
       " 'LetterS.mp4',\n",
       " 'ShSound.mp4',\n",
       " 'HowToBabySitAGrandPa.mp4',\n",
       " 'ReadingFromHome.mp4',\n",
       " 'thSound.mp4',\n",
       " 'WLetterConcept.mp4',\n",
       " 'AvidReader.mp4',\n",
       " 'BearsFeelScared.mp4',\n",
       " 'Reading-BookReview.pdf',\n",
       " 'BigHugsLittleHugs.mp4']"
      ]
     },
     "execution_count": 40,
     "metadata": {},
     "output_type": "execute_result"
    }
   ],
   "source": [
    "#export\n",
    "def unassignedForSubject(sub):\n",
    "    skips = {}\n",
    "    for (key, seq) in sub.sequences.items():\n",
    "        i = 0\n",
    "        for x in seq:\n",
    "            skips[x] = 1\n",
    "    \n",
    "    return [x for x in sub.lessons if not x.key in skips]\n",
    "[x.fileName for x in unassignedForSubject(reading)]"
   ]
  },
  {
   "cell_type": "code",
   "execution_count": 41,
   "metadata": {},
   "outputs": [],
   "source": [
    "#hide\n",
    "assignments = {}\n",
    "assignments[\"Read Aloud\"] = ['Fortunately.mp4','LittleBlueTruck.mp4','MOWiliiams.mp4',\n",
    "                             'ReadAloud.mp4','AmosMcGee.mp4','DavidTellsJoke.mp4', 'aChairForMyMother.mp4','FrogToad.mp4', \n",
    "                             'HowToBabySitAGrandPa.mp4','BearsFeelScared.mp4','BigHugsLittleHugs.mp4']"
   ]
  },
  {
   "cell_type": "code",
   "execution_count": 42,
   "metadata": {},
   "outputs": [],
   "source": [
    "#hide\n",
    "assignments[\"Words\"] =['SnapByFor.mp4','5SightWords.mp4','SnapWordsMemory..mp4']"
   ]
  },
  {
   "cell_type": "code",
   "execution_count": 43,
   "metadata": {},
   "outputs": [],
   "source": [
    "#hide\n",
    "assignments[\"Letter Concepts\"] =['conceptE.mp4','LetterEScavenegerHunt.mp4', 'LetterS.mp4',\n",
    " 'ShSound.mp4', 'thSound.mp4',\"WLetterConcept.mp4\"]"
   ]
  },
  {
   "cell_type": "code",
   "execution_count": 44,
   "metadata": {},
   "outputs": [],
   "source": [
    "#export\n",
    "def assignCategoriesToSubject(sub,cats):\n",
    "    nameLookUp = {}\n",
    "    for x in sub.lessons:\n",
    "        nameLookUp[x.fileName] = x.key\n",
    "    for (k,v) in assignments.items():\n",
    "        reading.sequences[k] = [ nameLookUp[x] for x in v]\n"
   ]
  },
  {
   "cell_type": "code",
   "execution_count": 45,
   "metadata": {},
   "outputs": [
    {
     "data": {
      "text/plain": [
       "(['truestory.mp4',\n",
       "  'VisitMusem.mp4',\n",
       "  'WhatBooks.mp4',\n",
       "  'FantasticElasticBrain.mp4',\n",
       "  'ReadingFromHome.mp4',\n",
       "  'AvidReader.mp4',\n",
       "  'Reading-BookReview.pdf'],\n",
       " defaultdict(list,\n",
       "             {'Three Part Drill': [2, 5, 13, 22, 26, 28, 31, 32],\n",
       "              'Read Aloud': [3, 4, 9, 10, 14, 16, 18, 20, 24, 33, 35],\n",
       "              'Words': [1, 6, 17],\n",
       "              'Letter Concepts': [11, 12, 21, 23, 27, 29]}))"
      ]
     },
     "execution_count": 45,
     "metadata": {},
     "output_type": "execute_result"
    }
   ],
   "source": [
    "#hide\n",
    "assignCategoriesToSubject(reading,assignments)\n",
    "[x.fileName for x in unassignedForSubject(reading)]    ,reading.sequences  \n"
   ]
  },
  {
   "cell_type": "code",
   "execution_count": 46,
   "metadata": {},
   "outputs": [],
   "source": [
    "#hide\n",
    "guide.save()"
   ]
  },
  {
   "cell_type": "code",
   "execution_count": null,
   "metadata": {},
   "outputs": [],
   "source": []
  },
  {
   "cell_type": "markdown",
   "metadata": {},
   "source": [
    "## Grouping by date"
   ]
  },
  {
   "cell_type": "code",
   "execution_count": null,
   "metadata": {},
   "outputs": [],
   "source": [
    "#allLessons =  \n",
    "\n",
    "allLessons = defaultdict(list)\n",
    "startDate = datetime(year=3000,month=1,day=1)\n",
    "endDate = datetime(year=1900,month=1,day=1)\n",
    "\n",
    "def keyFromDate(d):\n",
    "    return str(d.year) + \".\" + str(d.month) + \".\" + str(d.day)\n",
    "    \n",
    "for x in guide.programs:\n",
    "    for y in x.subjects:\n",
    "        for z in y.lessons:\n",
    "            if z.fileName.endswith(\".mp4\"):\n",
    "                dt_object = datetime.fromtimestamp(z.modifyTime)\n",
    "                if dt_object < startDate:\n",
    "                    startDate = dt_object\n",
    "                if dt_object > endDate:\n",
    "                    endDate = dt_object\n",
    "                    \n",
    "                key = keyFromDate(dt_object)\n",
    "                allLessons[key].append({\"program\":x.key,\"subject\":y.key,\"lesson\":z})\n",
    "\n",
    "days = list(allLessons.keys())\n",
    "days.sort()\n",
    "days,keyFromDate(startDate),keyFromDate(endDate)\n"
   ]
  },
  {
   "cell_type": "code",
   "execution_count": null,
   "metadata": {},
   "outputs": [],
   "source": [
    "currentDate = startDate\n",
    "weeks=[]\n",
    "currentWeek = []\n",
    "delta = timedelta(days=1)\n",
    "\n",
    "def dataFromDate(aDate):\n",
    "    key = keyFromDate(aDate)\n",
    "    return {\"key\":key,\"size\":len(allLessons[key]) }\n",
    "\n",
    "\n",
    "while keyFromDate(endDate) != keyFromDate(currentDate):\n",
    "    currentWeek.append(dataFromDate(currentDate))\n",
    "    if len(currentWeek)==7:\n",
    "        weeks.append(currentWeek)\n",
    "        currentWeek = []\n",
    "    currentDate += delta\n",
    "\n",
    "\n",
    "currentWeek.append(dataFromDate(endDate))\n",
    "weeks.append(currentWeek)\n",
    "weeks"
   ]
  },
  {
   "cell_type": "code",
   "execution_count": null,
   "metadata": {},
   "outputs": [],
   "source": []
  }
 ],
 "metadata": {
  "kernelspec": {
   "display_name": "Python 3",
   "language": "python",
   "name": "python3"
  },
  "language_info": {
   "codemirror_mode": {
    "name": "ipython",
    "version": 3
   },
   "file_extension": ".py",
   "mimetype": "text/x-python",
   "name": "python",
   "nbconvert_exporter": "python",
   "pygments_lexer": "ipython3",
   "version": "3.8.2"
  }
 },
 "nbformat": 4,
 "nbformat_minor": 4
}
