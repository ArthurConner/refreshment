{
 "cells": [
  {
   "cell_type": "code",
   "execution_count": 1,
   "metadata": {},
   "outputs": [],
   "source": [
    "# default_exp Munge"
   ]
  },
  {
   "cell_type": "markdown",
   "metadata": {},
   "source": [
    "# Processing the files \n",
    "\n",
    "> API details."
   ]
  },
  {
   "cell_type": "code",
   "execution_count": 1,
   "metadata": {},
   "outputs": [],
   "source": [
    "%load_ext autoreload\n",
    "%autoreload 2\n",
    "\n",
    "%matplotlib inline"
   ]
  },
  {
   "cell_type": "code",
   "execution_count": 2,
   "metadata": {},
   "outputs": [],
   "source": [
    "#export\n",
    "import os\n",
    "import sys\n",
    "import pandas as pd\n",
    "import re\n",
    "from time import gmtime, strftime, ctime\n",
    "from datetime import datetime, timedelta\n",
    "import json\n",
    "from collections import defaultdict"
   ]
  },
  {
   "cell_type": "code",
   "execution_count": 3,
   "metadata": {},
   "outputs": [],
   "source": [
    "#hide\n",
    "from nbdev.showdoc import *\n",
    "\n",
    "cPath = os.path.dirname(os.getcwd())\n",
    "cPath\n",
    "sys.path.insert(0,cPath)"
   ]
  },
  {
   "cell_type": "code",
   "execution_count": 4,
   "metadata": {},
   "outputs": [],
   "source": [
    "#export\n",
    "from refreshment.School import StudySystem,subjectFromPath\n",
    "from refreshment.Program import Program, Subject, Record, Lesson"
   ]
  },
  {
   "cell_type": "code",
   "execution_count": 5,
   "metadata": {},
   "outputs": [
    {
     "data": {
      "text/plain": [
       "StudySystem|1|1"
      ]
     },
     "execution_count": 5,
     "metadata": {},
     "output_type": "execute_result"
    }
   ],
   "source": [
    "#hide\n",
    "guide = StudySystem()\n",
    "for x in guide.programs:\n",
    "    print(x.name)\n",
    "guide"
   ]
  },
  {
   "cell_type": "code",
   "execution_count": 6,
   "metadata": {},
   "outputs": [
    {
     "name": "stdout",
     "output_type": "stream",
     "text": [
      "Cathedral\n",
      "\"Cathedral\",\"Reading\"1\n",
      "\"Cathedral\",\"Music\"2\n",
      "\"Cathedral\",\"Chapel\"3\n",
      "\"Cathedral\",\"Science\"4\n",
      "\"Cathedral\",\"HealthAndExercise\"5\n",
      "\"Cathedral\",\"Schedules\"6\n",
      "\"Cathedral\",\"Math\"7\n",
      "\"Cathedral\",\"Mindful\"8\n",
      "\"Cathedral\",\"EmotionalLearning\"9\n",
      "\"Cathedral\",\"Writing\"11\n"
     ]
    }
   ],
   "source": [
    "#hide\n",
    "guide = StudySystem.load(\"./data/programs.json\")\n",
    "for x in guide.programs:\n",
    "    print(x.name)\n",
    "    for y in x.subjects:\n",
    "        print(\"\\\"\" + x.name + \"\\\",\\\"\" + y.name + \"\\\"\" + str(y.key))\n",
    "        \n"
   ]
  },
  {
   "cell_type": "code",
   "execution_count": 7,
   "metadata": {},
   "outputs": [],
   "source": [
    "#hide\n",
    "#guide = StudySystem(\"./data/programs.json\")\n",
    "guide.loadDirectory()\n",
    "guide.save()"
   ]
  },
  {
   "cell_type": "code",
   "execution_count": 8,
   "metadata": {},
   "outputs": [],
   "source": [
    "#export\n",
    "def removeAuthor(cl):\n",
    "    cl.programs = [x for x in cl.programs if x.name in [\"Cathedral\"]]\n",
    "    for x in cl.programs:\n",
    "        x.subjects = [y for y in x.subjects if y.name != \"Conners\"]\n",
    "        x.fixPaths()"
   ]
  },
  {
   "cell_type": "code",
   "execution_count": 9,
   "metadata": {},
   "outputs": [
    {
     "name": "stdout",
     "output_type": "stream",
     "text": [
      "Cathedral\n",
      "\"Cathedral\",\"Reading\"\n",
      "\"Cathedral\",\"Music\"\n",
      "\"Cathedral\",\"Chapel\"\n",
      "\"Cathedral\",\"Science\"\n",
      "\"Cathedral\",\"HealthAndExercise\"\n",
      "\"Cathedral\",\"Schedules\"\n",
      "\"Cathedral\",\"Math\"\n",
      "\"Cathedral\",\"Mindful\"\n",
      "\"Cathedral\",\"EmotionalLearning\"\n",
      "\"Cathedral\",\"Writing\"\n"
     ]
    }
   ],
   "source": [
    "#hide\n",
    "removeAuthor(guide)\n",
    "for x in guide.programs:\n",
    "    print(x.name)\n",
    "    for y in x.subjects:\n",
    "        print(\"\\\"\" + x.name + \"\\\",\\\"\" + y.name + \"\\\"\")"
   ]
  },
  {
   "cell_type": "code",
   "execution_count": null,
   "metadata": {},
   "outputs": [],
   "source": []
  },
  {
   "cell_type": "code",
   "execution_count": null,
   "metadata": {},
   "outputs": [],
   "source": []
  },
  {
   "cell_type": "code",
   "execution_count": 10,
   "metadata": {},
   "outputs": [],
   "source": [
    "#export\n",
    "def cleanName(x,removeExtension=True):\n",
    "    label = re.sub(r'((?<=[a-z])[A-Z]|(?<!\\A)[A-Z](?=[a-z]))', r' \\1', x)\n",
    "    if removeExtension and label[-4] == \".\":\n",
    "        label = label[:-4]\n",
    "    label = re.sub(' +', ' ', label)\n",
    "    \n",
    "    return label\n",
    "        \n",
    "def cleanLesson(less):\n",
    "    for l in less.lessons:\n",
    "\n",
    "        label = cleanName(l.fileName)\n",
    "        if l.name == l.fileName:\n",
    "            l.name = label\n",
    "\n"
   ]
  },
  {
   "cell_type": "code",
   "execution_count": 11,
   "metadata": {},
   "outputs": [
    {
     "data": {
      "text/plain": [
       "{'name': 'Mindful',\n",
       " 'key': 8,\n",
       " 'sort': 8,\n",
       " 'lessons': [{'name': 'Belly Breath',\n",
       "   'key': 1,\n",
       "   'sort': 1,\n",
       "   'modifyTime': 1585844372.0,\n",
       "   'fileName': 'BellyBreath.mp4',\n",
       "   'indexPath': [8, 1]},\n",
       "  {'name': 'Chill Song',\n",
       "   'key': 2,\n",
       "   'sort': 2,\n",
       "   'modifyTime': 1585844573.0,\n",
       "   'fileName': 'ChillSong.mp4',\n",
       "   'indexPath': [8, 2]},\n",
       "  {'name': 'Inhale Universe',\n",
       "   'key': 3,\n",
       "   'sort': 3,\n",
       "   'modifyTime': 1585850454.0,\n",
       "   'fileName': 'InhaleUniverse.mp4',\n",
       "   'indexPath': [8, 3]},\n",
       "  {'name': 'Candle Breath',\n",
       "   'key': 4,\n",
       "   'sort': 4,\n",
       "   'modifyTime': 1585850497.0,\n",
       "   'fileName': 'CandleBreath.mp4',\n",
       "   'indexPath': [8, 4]},\n",
       "  {'name': 'Tree Pose',\n",
       "   'key': 5,\n",
       "   'sort': 5,\n",
       "   'modifyTime': 1585850954.0,\n",
       "   'fileName': 'TreePose.mp4',\n",
       "   'indexPath': [8, 5]},\n",
       "  {'name': 'Silent Moment',\n",
       "   'key': 6,\n",
       "   'sort': 6,\n",
       "   'modifyTime': 1586187483.5847385,\n",
       "   'fileName': 'SilentMoment.mp4',\n",
       "   'indexPath': [8, 6]},\n",
       "  {'name': 'Legs At Wall',\n",
       "   'key': 7,\n",
       "   'sort': 7,\n",
       "   'modifyTime': 1586273534.3305132,\n",
       "   'fileName': 'LegsAtWall.mp4',\n",
       "   'indexPath': [8, 7]},\n",
       "  {'name': 'Loving Kindness',\n",
       "   'key': 8,\n",
       "   'sort': 8,\n",
       "   'modifyTime': 1586359549.2449093,\n",
       "   'fileName': 'LovingKindness.mp4',\n",
       "   'indexPath': [8, 8]},\n",
       "  {'name': 'Get Outside',\n",
       "   'key': 9,\n",
       "   'sort': 9,\n",
       "   'modifyTime': 1586444996.3638506,\n",
       "   'fileName': 'GetOutside.mp4',\n",
       "   'indexPath': [8, 9]},\n",
       "  {'name': 'Mind Castle',\n",
       "   'key': 10,\n",
       "   'sort': 10,\n",
       "   'modifyTime': 1587573500.2164845,\n",
       "   'fileName': 'MindCastle.mp4',\n",
       "   'indexPath': [8, 10]},\n",
       "  {'name': 'Mind Bubbles',\n",
       "   'key': 11,\n",
       "   'sort': 11,\n",
       "   'modifyTime': 1587573749.5938618,\n",
       "   'fileName': 'MindBubbles.mp4',\n",
       "   'indexPath': [8, 11]},\n",
       "  {'name': 'Balanced Breathing',\n",
       "   'key': 12,\n",
       "   'sort': 12,\n",
       "   'modifyTime': 1587656435.7181826,\n",
       "   'fileName': 'BalancedBreathing.mp4',\n",
       "   'indexPath': [8, 12]},\n",
       "  {'name': 'Sunrise Breaths',\n",
       "   'key': 13,\n",
       "   'sort': 13,\n",
       "   'modifyTime': 1587744164.3250923,\n",
       "   'fileName': 'SunriseBreaths.mp4',\n",
       "   'indexPath': [8, 13]},\n",
       "  {'name': 'Sun Salutations',\n",
       "   'key': 14,\n",
       "   'sort': 14,\n",
       "   'modifyTime': 1588008544.7799766,\n",
       "   'fileName': 'SunSalutations.mp4',\n",
       "   'indexPath': [8, 14]},\n",
       "  {'name': 'Lions Breath',\n",
       "   'key': 15,\n",
       "   'sort': 15,\n",
       "   'modifyTime': 1588205159.878294,\n",
       "   'fileName': 'LionsBreath.mp4',\n",
       "   'indexPath': [8, 15]},\n",
       "  {'name': 'Figure8',\n",
       "   'key': 16,\n",
       "   'sort': 16,\n",
       "   'modifyTime': 1588205255.2920933,\n",
       "   'fileName': 'Figure8.mp4',\n",
       "   'indexPath': [8, 16]},\n",
       "  {'name': 'Folding Flower',\n",
       "   'key': 17,\n",
       "   'sort': 17,\n",
       "   'modifyTime': 1588605607.038485,\n",
       "   'fileName': 'FoldingFlower.mp4',\n",
       "   'indexPath': [8, 17]},\n",
       "  {'name': 'Star Fish Breath',\n",
       "   'key': 18,\n",
       "   'sort': 18,\n",
       "   'modifyTime': 1588800964.7840798,\n",
       "   'fileName': 'StarFishBreath.mp4',\n",
       "   'indexPath': [8, 18]},\n",
       "  {'name': 'Sharp Eyes',\n",
       "   'key': 19,\n",
       "   'sort': 19,\n",
       "   'modifyTime': 1588869272.2020016,\n",
       "   'fileName': 'SharpEyes.mp4',\n",
       "   'indexPath': [8, 19]},\n",
       "  {'name': 'Take Walk',\n",
       "   'key': 20,\n",
       "   'sort': 20,\n",
       "   'modifyTime': 1588976257.9479213,\n",
       "   'fileName': 'TakeWalk.mp4',\n",
       "   'indexPath': [8, 20]},\n",
       "  {'name': 'Cloud Burst',\n",
       "   'key': 21,\n",
       "   'sort': 21,\n",
       "   'modifyTime': 1589296992.2729015,\n",
       "   'fileName': 'CloudBurst.mp4',\n",
       "   'indexPath': [8, 21]},\n",
       "  {'name': 'Happy Helm',\n",
       "   'key': 22,\n",
       "   'sort': 22,\n",
       "   'modifyTime': 1589478849.8163028,\n",
       "   'fileName': 'HappyHelm.mp4',\n",
       "   'indexPath': [8, 22]},\n",
       "  {'name': 'Move Our Bodies',\n",
       "   'key': 23,\n",
       "   'sort': 23,\n",
       "   'modifyTime': 1589558714.32329,\n",
       "   'fileName': 'MoveOurBodies.mp4',\n",
       "   'indexPath': [8, 23]}],\n",
       " 'sequences': {},\n",
       " 'img': '',\n",
       " 'title': 'Mindful'}"
      ]
     },
     "execution_count": 11,
     "metadata": {},
     "output_type": "execute_result"
    }
   ],
   "source": [
    "#hide\n",
    "mindful = subjectFromPath(\"Cathedral\",\"Mindful\",guide.programs)\n",
    "cleanLesson(mindful) \n",
    "mindful.toDict()"
   ]
  },
  {
   "cell_type": "code",
   "execution_count": 12,
   "metadata": {},
   "outputs": [
    {
     "name": "stdout",
     "output_type": "stream",
     "text": [
      "1 BellyBreath.mp4 Belly Breath\n",
      "2 ChillSong.mp4 Chill Song\n",
      "3 InhaleUniverse.mp4 Inhale Universe\n",
      "4 CandleBreath.mp4 Candle Breath\n",
      "5 TreePose.mp4 Tree Pose\n",
      "6 SilentMoment.mp4 Silent Moment\n",
      "7 LegsAtWall.mp4 Legs At Wall\n",
      "8 LovingKindness.mp4 Loving Kindness\n",
      "9 GetOutside.mp4 Get Outside\n",
      "10 MindCastle.mp4 Mind Castle\n",
      "11 MindBubbles.mp4 Mind Bubbles\n",
      "12 BalancedBreathing.mp4 Balanced Breathing\n",
      "13 SunriseBreaths.mp4 Sunrise Breaths\n",
      "14 SunSalutations.mp4 Sun Salutations\n",
      "15 LionsBreath.mp4 Lions Breath\n",
      "16 Figure8.mp4 Figure8\n",
      "17 FoldingFlower.mp4 Folding Flower\n",
      "18 StarFishBreath.mp4 Star Fish Breath\n",
      "19 SharpEyes.mp4 Sharp Eyes\n",
      "20 TakeWalk.mp4 Take Walk\n",
      "21 CloudBurst.mp4 Cloud Burst\n",
      "22 HappyHelm.mp4 Happy Helm\n",
      "23 MoveOurBodies.mp4 Move Our Bodies\n"
     ]
    }
   ],
   "source": [
    "#hide\n",
    "guide.save()\n",
    "guide = StudySystem.load(\"./data/programs.json\")\n",
    "mindful = subjectFromPath(\"Cathedral\",\"Mindful\",guide.programs)\n",
    "for l in mindful.lessons:\n",
    "    print(l.key,l.fileName,l.name)"
   ]
  },
  {
   "cell_type": "code",
   "execution_count": 13,
   "metadata": {},
   "outputs": [],
   "source": [
    "#hide\n",
    "for x in guide.programs:\n",
    "    for y in x.subjects:\n",
    "        y.title =  cleanName(y.name,removeExtension=False)\n",
    "        cleanLesson(y)\n",
    "guide.save()"
   ]
  },
  {
   "cell_type": "markdown",
   "metadata": {},
   "source": [
    "### Working With cathedral"
   ]
  },
  {
   "cell_type": "code",
   "execution_count": 14,
   "metadata": {},
   "outputs": [
    {
     "data": {
      "text/plain": [
       "CathedralProgram, Subjects[Reading|1|1;Music|2|2;Chapel|3|3;Science|4|4;HealthAndExercise|5|5;Schedules|6|6;Math|7|7;Mindful|8|8;EmotionalLearning|9|9;Writing|11|11]"
      ]
     },
     "execution_count": 14,
     "metadata": {},
     "output_type": "execute_result"
    }
   ],
   "source": [
    "#hide\n",
    "cath = [x for x in guide.programs if x.name == \"Cathedral\"][0]\n",
    "cath.title = \"K\"\n",
    "cath"
   ]
  },
  {
   "cell_type": "code",
   "execution_count": 15,
   "metadata": {},
   "outputs": [],
   "source": [
    "#hide\n",
    "cath.img = \"CathedralSchool_Logo_Horizontal_White.png\""
   ]
  },
  {
   "cell_type": "code",
   "execution_count": 16,
   "metadata": {},
   "outputs": [],
   "source": [
    "#export\n",
    "def subjectWithName(prog,name):\n",
    "    return [x for x in prog.subjects if x.name ==name][0]\n",
    "\n",
    "def assignLessonsWithName(sub,express):\n",
    "    howTo = [x for x in sub.lessons if express in x.name]\n",
    "    howTo.sort(key=Lesson.sBase)\n",
    "    return [x.key for x in howTo]\n"
   ]
  },
  {
   "cell_type": "code",
   "execution_count": 17,
   "metadata": {},
   "outputs": [
    {
     "data": {
      "text/plain": [
       "[2, 5, 13, 23, 27, 29, 32, 34, 39, 43]"
      ]
     },
     "execution_count": 17,
     "metadata": {},
     "output_type": "execute_result"
    }
   ],
   "source": [
    "#hide\n",
    "reading = subjectWithName(cath,\"Reading\")\n",
    "reading.sequences[\"Three Part Drill\"] = assignLessonsWithName(reading,\"hree\")\n",
    "reading.sequences[\"Three Part Drill\"]"
   ]
  },
  {
   "cell_type": "code",
   "execution_count": 18,
   "metadata": {},
   "outputs": [],
   "source": [
    "#hide\n",
    "guide.save()"
   ]
  },
  {
   "cell_type": "code",
   "execution_count": 19,
   "metadata": {},
   "outputs": [],
   "source": [
    "#export\n",
    "def makePriorsForSubject(sub):\n",
    "    skips = {}\n",
    "    for (key, seq) in sub.sequences.items():\n",
    "        i = 0\n",
    "        for x in seq:\n",
    "            less = sub.lookup[x]\n",
    "            less.prior = seq[:i]\n",
    "            less.next = seq[i+1:]\n",
    "            i += 1\n",
    "            skips[x] = 1\n",
    "    \n",
    "    unassigned = [x.key for x in sub.lessons if not x.key in skips]\n",
    "    i = 0\n",
    "    for x in unassigned:\n",
    "        less = sub.lookup[x]\n",
    "        less.prior = unassigned[:i]\n",
    "        less.next = unassigned[i+1:]\n",
    "        i += 1\n",
    "\n"
   ]
  },
  {
   "cell_type": "code",
   "execution_count": 20,
   "metadata": {},
   "outputs": [
    {
     "name": "stdout",
     "output_type": "stream",
     "text": [
      "[] [6, 17]\n",
      "[] [5, 13, 23, 27, 29, 32, 34, 39, 43]\n",
      "[] [4, 9, 10, 14, 16, 19, 21, 25, 35, 37, 45]\n",
      "[3] [9, 10, 14, 16, 19, 21, 25, 35, 37, 45]\n",
      "[2] [13, 23, 27, 29, 32, 34, 39, 43]\n",
      "[1] [17]\n",
      "[] [8, 12, 15, 18, 20, 26, 31, 36, 40, 41, 46]\n",
      "[7] [12, 15, 18, 20, 26, 31, 36, 40, 41, 46]\n",
      "[3, 4] [10, 14, 16, 19, 21, 25, 35, 37, 45]\n",
      "[3, 4, 9] [14, 16, 19, 21, 25, 35, 37, 45]\n",
      "[] [22, 24, 28, 30, 33, 38, 42, 44]\n",
      "[7, 8] [15, 18, 20, 26, 31, 36, 40, 41, 46]\n",
      "[2, 5] [23, 27, 29, 32, 34, 39, 43]\n",
      "[3, 4, 9, 10] [16, 19, 21, 25, 35, 37, 45]\n",
      "[7, 8, 12] [18, 20, 26, 31, 36, 40, 41, 46]\n",
      "[3, 4, 9, 10, 14] [19, 21, 25, 35, 37, 45]\n",
      "[1, 6] []\n",
      "[7, 8, 12, 15] [20, 26, 31, 36, 40, 41, 46]\n",
      "[3, 4, 9, 10, 14, 16] [21, 25, 35, 37, 45]\n",
      "[7, 8, 12, 15, 18] [26, 31, 36, 40, 41, 46]\n",
      "[3, 4, 9, 10, 14, 16, 19] [25, 35, 37, 45]\n",
      "[11] [24, 28, 30, 33, 38, 42, 44]\n",
      "[2, 5, 13] [27, 29, 32, 34, 39, 43]\n",
      "[11, 22] [28, 30, 33, 38, 42, 44]\n",
      "[3, 4, 9, 10, 14, 16, 19, 21] [35, 37, 45]\n",
      "[7, 8, 12, 15, 18, 20] [31, 36, 40, 41, 46]\n",
      "[2, 5, 13, 23] [29, 32, 34, 39, 43]\n",
      "[11, 22, 24] [30, 33, 38, 42, 44]\n",
      "[2, 5, 13, 23, 27] [32, 34, 39, 43]\n",
      "[11, 22, 24, 28] [33, 38, 42, 44]\n",
      "[7, 8, 12, 15, 18, 20, 26] [36, 40, 41, 46]\n",
      "[2, 5, 13, 23, 27, 29] [34, 39, 43]\n",
      "[11, 22, 24, 28, 30] [38, 42, 44]\n",
      "[2, 5, 13, 23, 27, 29, 32] [39, 43]\n",
      "[3, 4, 9, 10, 14, 16, 19, 21, 25] [37, 45]\n",
      "[7, 8, 12, 15, 18, 20, 26, 31] [40, 41, 46]\n",
      "[3, 4, 9, 10, 14, 16, 19, 21, 25, 35] [45]\n",
      "[11, 22, 24, 28, 30, 33] [42, 44]\n",
      "[2, 5, 13, 23, 27, 29, 32, 34] [43]\n",
      "[7, 8, 12, 15, 18, 20, 26, 31, 36] [41, 46]\n",
      "[7, 8, 12, 15, 18, 20, 26, 31, 36, 40] [46]\n",
      "[11, 22, 24, 28, 30, 33, 38] [44]\n",
      "[2, 5, 13, 23, 27, 29, 32, 34, 39] []\n",
      "[11, 22, 24, 28, 30, 33, 38, 42] []\n",
      "[3, 4, 9, 10, 14, 16, 19, 21, 25, 35, 37] []\n",
      "[7, 8, 12, 15, 18, 20, 26, 31, 36, 40, 41] []\n"
     ]
    }
   ],
   "source": [
    "#hide\n",
    "makePriorsForSubject(reading)\n",
    "for x in reading.lessons:\n",
    "    if len(x.prior) + len(x.next) > 0:\n",
    "        print(x.prior,x.next)"
   ]
  },
  {
   "cell_type": "markdown",
   "metadata": {},
   "source": []
  },
  {
   "cell_type": "code",
   "execution_count": 21,
   "metadata": {},
   "outputs": [],
   "source": [
    "#export\n",
    "def unassignedForSubject(sub):\n",
    "    skips = {}\n",
    "    for (key, seq) in sub.sequences.items():\n",
    "        i = 0\n",
    "        for x in seq:\n",
    "            skips[x] = 1\n",
    "    \n",
    "    return [x for x in sub.lessons if not x.key in skips]\n"
   ]
  },
  {
   "cell_type": "code",
   "execution_count": 22,
   "metadata": {},
   "outputs": [
    {
     "data": {
      "text/plain": [
       "['truestory.mp4',\n",
       " 'VisitMusem.mp4',\n",
       " 'LetterEScavenegerHunt.mp4',\n",
       " 'WhatBooks.mp4',\n",
       " 'SnapWords.mp4',\n",
       " 'FantasticElasticBrain.mp4',\n",
       " 'ReadingFromHome.mp4',\n",
       " 'AvidReader.mp4',\n",
       " 'Reading-BookReview.pdf',\n",
       " 'Review Writing 5_12.pdf',\n",
       " 'Find the rhymes.m4a',\n",
       " 'SW Bingo .pdf']"
      ]
     },
     "execution_count": 22,
     "metadata": {},
     "output_type": "execute_result"
    }
   ],
   "source": [
    "#hide\n",
    "[x.fileName for x in unassignedForSubject(reading)]"
   ]
  },
  {
   "cell_type": "code",
   "execution_count": 59,
   "metadata": {},
   "outputs": [],
   "source": [
    "#export\n",
    "def printAllUnassigned(prog):\n",
    "    for sub in prog.subjects:\n",
    "        if len(sub.sequences) > 0:\n",
    "            print()\n",
    "            print(sub.title)\n",
    "            print([x.fileName for x in unassignedForSubject(sub)])\n"
   ]
  },
  {
   "cell_type": "code",
   "execution_count": 28,
   "metadata": {},
   "outputs": [
    {
     "name": "stdout",
     "output_type": "stream",
     "text": [
      "\n",
      "Reading\n",
      "['truestory.mp4', 'VisitMusem.mp4', 'LetterEScavenegerHunt.mp4', 'WhatBooks.mp4', 'SnapWords.mp4', 'FantasticElasticBrain.mp4', 'ReadingFromHome.mp4', 'AvidReader.mp4', 'Reading-BookReview.pdf', 'Review Writing 5_12.pdf', 'Find the rhymes.m4a', 'SW Bingo .pdf']\n",
      "\n",
      "Writing\n",
      "['VirtualMuseum.mp4', 'EnjoyAboutDistanceLearning.mp4', 'FeelGood.mp4', 'GK_PC_BK_Box4Lines.pdf', 'imaging.seesaw.me.png']\n"
     ]
    }
   ],
   "source": [
    "printAllUnassigned(cath)"
   ]
  },
  {
   "cell_type": "code",
   "execution_count": 52,
   "metadata": {},
   "outputs": [],
   "source": [
    "#export\n",
    "def filePathForMeta(guide,program,subject,filename=\"meta.json\"):\n",
    "    return os.path.join(guide.origin,program.name,subject.name,filename)\n",
    "\n",
    "def assignCategoriesToSubject(sub,cats):\n",
    "    nameLookUp = {}\n",
    "    for x in sub.lessons:\n",
    "        nameLookUp[x.fileName] = x.key\n",
    "    for (k,v) in cats.items():\n",
    "        sub.sequences[k] = [ nameLookUp[x] for x in v]\n",
    "        \n",
    "def loadMetaFile(guide,program,subject,filename=\"meta.json\"):\n",
    "    ret = {}\n",
    "    metaPath = filePathForMeta(guide,program,subject,filename)\n",
    "    if os.path.exists(metaPath):\n",
    "        with open(metaPath) as json_file:\n",
    "            \n",
    "            trans = json.load(json_file)\n",
    "            expressions = trans[\"expressions\"]\n",
    "            for (k,v) in expressions.items():\n",
    "                subject.sequences[k] = assignLessonsWithName(subject,v)\n",
    "            assignCategoriesToSubject(subject,trans[\"assignments\"])\n",
    "            ret = trans\n",
    "    return ret\n",
    "\n",
    "def writeMetaFile(guide,program,subject,assignments):\n",
    "    with open(filePathForMeta(guide,program,subject), \"w\") as dataFile:\n",
    "        json.dump(assignments, dataFile,  indent=4, sort_keys=True)"
   ]
  },
  {
   "cell_type": "code",
   "execution_count": 41,
   "metadata": {},
   "outputs": [
    {
     "data": {
      "text/plain": [
       "{'assignments': {'Read Aloud': ['Fortunately.mp4',\n",
       "   'LittleBlueTruck.mp4',\n",
       "   'MOWiliiams.mp4',\n",
       "   'ReadAloud.mp4',\n",
       "   'AmosMcGee.mp4',\n",
       "   'DavidTellsJoke.mp4',\n",
       "   'aChairForMyMother.mp4',\n",
       "   'FrogToad.mp4',\n",
       "   'HowToBabySitAGrandPa.mp4',\n",
       "   'BearsFeelScared.mp4',\n",
       "   'BigHugsLittleHugs.mp4',\n",
       "   'FrogAndToad.mp4'],\n",
       "  'Words': ['SnapByFor.mp4', '5SightWords.mp4', 'SnapWordsMemory..mp4']},\n",
       " 'expressions': {'Three Part Drill': 'hree', 'Letter Concept': 'oncept'}}"
      ]
     },
     "execution_count": 41,
     "metadata": {},
     "output_type": "execute_result"
    }
   ],
   "source": [
    "#hide\n",
    "filePathForMeta(guide,cath,reading)\n",
    "readDict = loadMetaFile(guide,cath,reading)\n",
    "readDict"
   ]
  },
  {
   "cell_type": "code",
   "execution_count": 45,
   "metadata": {},
   "outputs": [],
   "source": [
    "#hide\n",
    "def assignmentsForEmotions():\n",
    "    assignments = {} \n",
    "    expressions = {}\n",
    "    expressions[\"Kimochis\"] = \"imochi\"\n",
    "    return {\"assignments\":assignments,\"expressions\":expressions}"
   ]
  },
  {
   "cell_type": "code",
   "execution_count": 46,
   "metadata": {},
   "outputs": [
    {
     "data": {
      "text/plain": [
       "[Emotions|1|1|Emotions.mp4,\n",
       " Fillbucket|2|2|Fillbucket.mp4,\n",
       " Creative|3|3|Creative.mp4,\n",
       " Introducing Kimochis Bug|4|4|IntroducingKimochisBug.mp4,\n",
       " Gratitude|5|5|Gratitude.mp4,\n",
       " Gratitude 422|6|6|Gratitude 422.mp4,\n",
       " Gratitude.4.21|7|7|Gratitude.4.21.mp4,\n",
       " Sharing Picture|8|8|SharingPicture.mp4,\n",
       " Gratitude Tree|9|9|GratitudeTree.mp4,\n",
       " Kimochis Clovers Kindness|10|10|KimochisCloversKindness.mp4,\n",
       " Kimochis Clover|11|11|KimochisClover.mp4,\n",
       " Being Bravelike Kimochis Bug|12|12|BeingBravelikeKimochis Bug.mp4,\n",
       " Rain Shadow|13|13|RainShadow.mp4]"
      ]
     },
     "execution_count": 46,
     "metadata": {},
     "output_type": "execute_result"
    }
   ],
   "source": [
    "#hide\n",
    "eLearning = subjectWithName(cath,\"EmotionalLearning\")\n",
    "unassignedForSubject(eLearning)"
   ]
  },
  {
   "cell_type": "code",
   "execution_count": 56,
   "metadata": {},
   "outputs": [
    {
     "data": {
      "text/plain": [
       "[Emotions|1|1|Emotions.mp4,\n",
       " Fillbucket|2|2|Fillbucket.mp4,\n",
       " Creative|3|3|Creative.mp4,\n",
       " Gratitude|5|5|Gratitude.mp4,\n",
       " Gratitude 422|6|6|Gratitude 422.mp4,\n",
       " Gratitude.4.21|7|7|Gratitude.4.21.mp4,\n",
       " Sharing Picture|8|8|SharingPicture.mp4,\n",
       " Gratitude Tree|9|9|GratitudeTree.mp4,\n",
       " Rain Shadow|13|13|RainShadow.mp4]"
      ]
     },
     "execution_count": 56,
     "metadata": {},
     "output_type": "execute_result"
    }
   ],
   "source": [
    "#hide\n",
    "eAss = assignmentsForEmotions()\n",
    "writeMetaFile(guide,cath,eLearning,eAss)\n",
    "unassignedForSubject(eLearning)"
   ]
  },
  {
   "cell_type": "code",
   "execution_count": 60,
   "metadata": {},
   "outputs": [
    {
     "name": "stdout",
     "output_type": "stream",
     "text": [
      "\n",
      "Reading\n",
      "['truestory.mp4', 'VisitMusem.mp4', 'LetterEScavenegerHunt.mp4', 'WhatBooks.mp4', 'SnapWords.mp4', 'FantasticElasticBrain.mp4', 'ReadingFromHome.mp4', 'AvidReader.mp4', 'Reading-BookReview.pdf', 'Review Writing 5_12.pdf', 'Find the rhymes.m4a', 'SW Bingo .pdf']\n",
      "\n",
      "Emotional Learning\n",
      "['Emotions.mp4', 'Fillbucket.mp4', 'Creative.mp4', 'Gratitude.mp4', 'Gratitude 422.mp4', 'Gratitude.4.21.mp4', 'SharingPicture.mp4', 'GratitudeTree.mp4', 'RainShadow.mp4']\n",
      "\n",
      "Writing\n",
      "['VirtualMuseum.mp4', 'EnjoyAboutDistanceLearning.mp4', 'FeelGood.mp4', 'GK_PC_BK_Box4Lines.pdf', 'imaging.seesaw.me.png']\n"
     ]
    }
   ],
   "source": [
    "printAllUnassigned(cath)"
   ]
  },
  {
   "cell_type": "code",
   "execution_count": 41,
   "metadata": {},
   "outputs": [],
   "source": [
    "#export\n",
    "def processGuide(gu):\n",
    "    removeAuthor(gu)\n",
    "    for prog in gu.programs:\n",
    "        prog.title = cleanName(prog.name,removeExtension=False)\n",
    "        for sub in prog.subjects:\n",
    "            sub.title =  cleanName(sub.name,removeExtension=False)\n",
    "            cleanLesson(sub)\n",
    "            loadMetaFile(gu,prog,sub)\n",
    "            makePriorsForSubject(sub)\n",
    "\n",
    "    cath = [x for x in gu.programs if x.name == \"Cathedral\"][0]\n",
    "    cath.title = \"K\"\n",
    "    cath.img = \"CathedralSchool_Logo_Horizontal_White.png\"\n",
    "\n",
    "        "
   ]
  },
  {
   "cell_type": "code",
   "execution_count": null,
   "metadata": {},
   "outputs": [],
   "source": []
  },
  {
   "cell_type": "code",
   "execution_count": null,
   "metadata": {},
   "outputs": [],
   "source": []
  },
  {
   "cell_type": "markdown",
   "metadata": {},
   "source": [
    "### Working with writing"
   ]
  },
  {
   "cell_type": "code",
   "execution_count": null,
   "metadata": {},
   "outputs": [],
   "source": []
  },
  {
   "cell_type": "code",
   "execution_count": null,
   "metadata": {},
   "outputs": [],
   "source": [
    "guide.save()"
   ]
  },
  {
   "cell_type": "code",
   "execution_count": null,
   "metadata": {},
   "outputs": [],
   "source": []
  },
  {
   "cell_type": "markdown",
   "metadata": {},
   "source": [
    "## Grouping by date"
   ]
  },
  {
   "cell_type": "code",
   "execution_count": null,
   "metadata": {},
   "outputs": [],
   "source": [
    "guide = StudySystem(\"./data/programs.json\")\n",
    "guide.loadDirectory()\n",
    "cath = guide.programs[0]"
   ]
  },
  {
   "cell_type": "code",
   "execution_count": null,
   "metadata": {},
   "outputs": [],
   "source": [
    "#export\n",
    "def initials(x):\n",
    "    ret = []\n",
    "    i = 0\n",
    "    addLower = False\n",
    "    for c in x:\n",
    "        i = i + 1\n",
    "        if c.isupper():\n",
    "            ret.append(c)\n",
    "            if i < len(x) and x[i].islower():\n",
    "                ret.append(x[i])\n",
    "                if i + 1 < len(x) and x[i+1].islower():\n",
    "                    ret.append(x[i+1])\n",
    "    return  \"\".join(ret)     "
   ]
  },
  {
   "cell_type": "code",
   "execution_count": null,
   "metadata": {},
   "outputs": [],
   "source": [
    "#hide\n",
    "for x in cath.subjects:\n",
    "    print(initials(x.name),x.name)"
   ]
  },
  {
   "cell_type": "code",
   "execution_count": null,
   "metadata": {},
   "outputs": [],
   "source": []
  },
  {
   "cell_type": "code",
   "execution_count": null,
   "metadata": {},
   "outputs": [],
   "source": [
    "#export\n",
    "def keyFromDate(d):\n",
    "    return str(d.year) + \".\" + str(100 + d.month) + \".\" + str(100 +d.day)\n",
    " \n",
    "\n",
    "def dataFromDate(aDate,less,res):\n",
    "    key = keyFromDate(aDate)\n",
    "    return {\"date\":aDate.strftime(\"%B %d, %Y\"),\"lessons\":less[key],\"resources\":res[key] }\n",
    " \n",
    "\n",
    "def dateGrid(prog,subject=\"\"):\n",
    "    allLessons = defaultdict(lambda: defaultdict(list))\n",
    "    resources = defaultdict(lambda: defaultdict(list))\n",
    "    \n",
    "\n",
    "    startDate = datetime(year=3000,month=1,day=1)\n",
    "    endDate = datetime(year=1900,month=1,day=1)\n",
    "    for y in prog.subjects:\n",
    "        if subject == \"\" or subject == y.name:\n",
    "            for z in y.lessons:\n",
    "                dt_object = datetime.fromtimestamp(z.modifyTime)\n",
    "                if dt_object < startDate:\n",
    "                    startDate = dt_object\n",
    "                if dt_object > endDate:\n",
    "                        endDate = dt_object\n",
    "                key = keyFromDate(dt_object)\n",
    "                if z.fileName.endswith(\".mp4\"): \n",
    "                    allLessons[key][y.name].append(z)\n",
    "                else:\n",
    "                    resources[key][y.name].append(z)\n",
    "                \n",
    "                \n",
    "    days = list(allLessons.keys())\n",
    "    days.sort()\n",
    "    \n",
    "    \n",
    "    currentDate = startDate\n",
    "    weeks=[]\n",
    "    currentWeek = []\n",
    "    delta = timedelta(days=1)\n",
    "\n",
    "\n",
    "    while keyFromDate(endDate) != keyFromDate(currentDate):\n",
    "        currentWeek.append(dataFromDate(currentDate,allLessons,res=resources))\n",
    "        if currentDate.strftime(\"%w\")==\"0\":\n",
    "            weeks.append(currentWeek)\n",
    "            currentWeek = []\n",
    "        currentDate += delta\n",
    "\n",
    "\n",
    "    currentWeek.append(dataFromDate(endDate,allLessons,res=resources))\n",
    "    weeks.append(currentWeek)\n",
    "    \n",
    "    return weeks\n",
    "\n",
    "\n",
    "\n"
   ]
  },
  {
   "cell_type": "code",
   "execution_count": null,
   "metadata": {},
   "outputs": [],
   "source": []
  },
  {
   "cell_type": "code",
   "execution_count": null,
   "metadata": {},
   "outputs": [],
   "source": [
    "#hide\n",
    "weeks = dateGrid(cath)\n",
    "readGrid = dateGrid(cath,subject='Math')\n",
    "readGrid"
   ]
  },
  {
   "cell_type": "code",
   "execution_count": null,
   "metadata": {},
   "outputs": [],
   "source": [
    "      \n",
    "                 "
   ]
  },
  {
   "cell_type": "code",
   "execution_count": null,
   "metadata": {},
   "outputs": [],
   "source": []
  }
 ],
 "metadata": {
  "kernelspec": {
   "display_name": "Python 3",
   "language": "python",
   "name": "python3"
  },
  "language_info": {
   "codemirror_mode": {
    "name": "ipython",
    "version": 3
   },
   "file_extension": ".py",
   "mimetype": "text/x-python",
   "name": "python",
   "nbconvert_exporter": "python",
   "pygments_lexer": "ipython3",
   "version": "3.8.2"
  }
 },
 "nbformat": 4,
 "nbformat_minor": 4
}
