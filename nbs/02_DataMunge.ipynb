{
 "cells": [
  {
   "cell_type": "code",
   "execution_count": null,
   "metadata": {},
   "outputs": [],
   "source": [
    "# default_exp munge"
   ]
  },
  {
   "cell_type": "markdown",
   "metadata": {},
   "source": [
    "# Processing the files \n",
    "\n",
    "> API details."
   ]
  },
  {
   "cell_type": "code",
   "execution_count": 1,
   "metadata": {},
   "outputs": [],
   "source": [
    "%load_ext autoreload\n",
    "%autoreload 2\n",
    "\n",
    "%matplotlib inline"
   ]
  },
  {
   "cell_type": "code",
   "execution_count": 2,
   "metadata": {},
   "outputs": [],
   "source": [
    "#export\n",
    "import os\n",
    "import sys\n",
    "import pandas as pd\n",
    "import re\n",
    "from time import gmtime, strftime, ctime\n",
    "from datetime import datetime, timedelta\n",
    "from collections import defaultdict"
   ]
  },
  {
   "cell_type": "code",
   "execution_count": 3,
   "metadata": {},
   "outputs": [],
   "source": [
    "#hide\n",
    "from nbdev.showdoc import *\n",
    "\n",
    "cPath = os.path.dirname(os.getcwd())\n",
    "cPath\n",
    "sys.path.insert(0,cPath)"
   ]
  },
  {
   "cell_type": "code",
   "execution_count": 5,
   "metadata": {},
   "outputs": [],
   "source": [
    "#export\n",
    "from refreshment.School import StudySystem,subjectFromPath\n",
    "from refreshment.Program import Program, Subject, Record, Lesson"
   ]
  },
  {
   "cell_type": "code",
   "execution_count": 6,
   "metadata": {},
   "outputs": [
    {
     "data": {
      "text/plain": [
       "StudySystem|1|1"
      ]
     },
     "execution_count": 6,
     "metadata": {},
     "output_type": "execute_result"
    }
   ],
   "source": [
    "#hide\n",
    "guide = StudySystem()\n",
    "for x in guide.programs:\n",
    "    print(x.name)\n",
    "guide"
   ]
  },
  {
   "cell_type": "code",
   "execution_count": 7,
   "metadata": {},
   "outputs": [
    {
     "ename": "KeyError",
     "evalue": "'img'",
     "output_type": "error",
     "traceback": [
      "\u001b[0;31m---------------------------------------------------------------------------\u001b[0m",
      "\u001b[0;31mKeyError\u001b[0m                                  Traceback (most recent call last)",
      "\u001b[0;32m<ipython-input-7-9d55abc51061>\u001b[0m in \u001b[0;36m<module>\u001b[0;34m\u001b[0m\n\u001b[1;32m      1\u001b[0m \u001b[0;31m#hide\u001b[0m\u001b[0;34m\u001b[0m\u001b[0;34m\u001b[0m\u001b[0;34m\u001b[0m\u001b[0m\n\u001b[0;32m----> 2\u001b[0;31m \u001b[0mguide\u001b[0m \u001b[0;34m=\u001b[0m \u001b[0mStudySystem\u001b[0m\u001b[0;34m.\u001b[0m\u001b[0mload\u001b[0m\u001b[0;34m(\u001b[0m\u001b[0;34m\"./data/programs.json\"\u001b[0m\u001b[0;34m)\u001b[0m\u001b[0;34m\u001b[0m\u001b[0;34m\u001b[0m\u001b[0m\n\u001b[0m\u001b[1;32m      3\u001b[0m \u001b[0;32mfor\u001b[0m \u001b[0mx\u001b[0m \u001b[0;32min\u001b[0m \u001b[0mguide\u001b[0m\u001b[0;34m.\u001b[0m\u001b[0mprograms\u001b[0m\u001b[0;34m:\u001b[0m\u001b[0;34m\u001b[0m\u001b[0;34m\u001b[0m\u001b[0m\n\u001b[1;32m      4\u001b[0m     \u001b[0mprint\u001b[0m\u001b[0;34m(\u001b[0m\u001b[0mx\u001b[0m\u001b[0;34m.\u001b[0m\u001b[0mname\u001b[0m\u001b[0;34m)\u001b[0m\u001b[0;34m\u001b[0m\u001b[0;34m\u001b[0m\u001b[0m\n\u001b[1;32m      5\u001b[0m     \u001b[0;32mfor\u001b[0m \u001b[0my\u001b[0m \u001b[0;32min\u001b[0m \u001b[0mx\u001b[0m\u001b[0;34m.\u001b[0m\u001b[0msubjects\u001b[0m\u001b[0;34m:\u001b[0m\u001b[0;34m\u001b[0m\u001b[0;34m\u001b[0m\u001b[0m\n",
      "\u001b[0;32m~/code/2020Q/refreshment/refreshment/School.py\u001b[0m in \u001b[0;36mload\u001b[0;34m(p)\u001b[0m\n\u001b[1;32m    132\u001b[0m             \u001b[0mdata\u001b[0m \u001b[0;34m=\u001b[0m \u001b[0mjson\u001b[0m\u001b[0;34m.\u001b[0m\u001b[0mload\u001b[0m\u001b[0;34m(\u001b[0m\u001b[0mjson_file\u001b[0m\u001b[0;34m)\u001b[0m\u001b[0;34m\u001b[0m\u001b[0;34m\u001b[0m\u001b[0m\n\u001b[1;32m    133\u001b[0m             \u001b[0;31m#print(data)\u001b[0m\u001b[0;34m\u001b[0m\u001b[0;34m\u001b[0m\u001b[0;34m\u001b[0m\u001b[0m\n\u001b[0;32m--> 134\u001b[0;31m             \u001b[0mret\u001b[0m \u001b[0;34m=\u001b[0m \u001b[0mStudySystem\u001b[0m\u001b[0;34m.\u001b[0m\u001b[0mfromDict\u001b[0m\u001b[0;34m(\u001b[0m\u001b[0mdata\u001b[0m\u001b[0;34m)\u001b[0m\u001b[0;34m\u001b[0m\u001b[0;34m\u001b[0m\u001b[0m\n\u001b[0m\u001b[1;32m    135\u001b[0m \u001b[0;34m\u001b[0m\u001b[0m\n\u001b[1;32m    136\u001b[0m         \u001b[0;32mreturn\u001b[0m \u001b[0mret\u001b[0m\u001b[0;34m\u001b[0m\u001b[0;34m\u001b[0m\u001b[0m\n",
      "\u001b[0;32m~/code/2020Q/refreshment/refreshment/School.py\u001b[0m in \u001b[0;36mfromDict\u001b[0;34m(d)\u001b[0m\n\u001b[1;32m    118\u001b[0m         \u001b[0mret\u001b[0m \u001b[0;34m=\u001b[0m \u001b[0mStudySystem\u001b[0m\u001b[0;34m(\u001b[0m\u001b[0;34m\"\"\u001b[0m\u001b[0;34m)\u001b[0m\u001b[0;34m\u001b[0m\u001b[0;34m\u001b[0m\u001b[0m\n\u001b[1;32m    119\u001b[0m         \u001b[0mret\u001b[0m\u001b[0;34m.\u001b[0m\u001b[0madjustKey\u001b[0m\u001b[0;34m(\u001b[0m\u001b[0md\u001b[0m\u001b[0;34m[\u001b[0m\u001b[0;34m\"key\"\u001b[0m\u001b[0;34m]\u001b[0m\u001b[0;34m)\u001b[0m\u001b[0;34m\u001b[0m\u001b[0;34m\u001b[0m\u001b[0m\n\u001b[0;32m--> 120\u001b[0;31m         \u001b[0mret\u001b[0m\u001b[0;34m.\u001b[0m\u001b[0mprograms\u001b[0m \u001b[0;34m=\u001b[0m \u001b[0;34m[\u001b[0m\u001b[0mProgram\u001b[0m\u001b[0;34m.\u001b[0m\u001b[0mfromDict\u001b[0m\u001b[0;34m(\u001b[0m\u001b[0mx\u001b[0m\u001b[0;34m)\u001b[0m \u001b[0;32mfor\u001b[0m \u001b[0mx\u001b[0m \u001b[0;32min\u001b[0m \u001b[0md\u001b[0m\u001b[0;34m[\u001b[0m\u001b[0;34m\"programs\"\u001b[0m\u001b[0;34m]\u001b[0m\u001b[0;34m]\u001b[0m\u001b[0;34m\u001b[0m\u001b[0;34m\u001b[0m\u001b[0m\n\u001b[0m\u001b[1;32m    121\u001b[0m         \u001b[0mret\u001b[0m\u001b[0;34m.\u001b[0m\u001b[0morigin\u001b[0m \u001b[0;34m=\u001b[0m \u001b[0md\u001b[0m\u001b[0;34m[\u001b[0m\u001b[0;34m\"origin\"\u001b[0m\u001b[0;34m]\u001b[0m\u001b[0;34m\u001b[0m\u001b[0;34m\u001b[0m\u001b[0m\n\u001b[1;32m    122\u001b[0m         \u001b[0mret\u001b[0m\u001b[0;34m.\u001b[0m\u001b[0msavePath\u001b[0m \u001b[0;34m=\u001b[0m \u001b[0md\u001b[0m\u001b[0;34m[\u001b[0m\u001b[0;34m\"savePath\"\u001b[0m\u001b[0;34m]\u001b[0m\u001b[0;34m\u001b[0m\u001b[0;34m\u001b[0m\u001b[0m\n",
      "\u001b[0;32m~/code/2020Q/refreshment/refreshment/School.py\u001b[0m in \u001b[0;36m<listcomp>\u001b[0;34m(.0)\u001b[0m\n\u001b[1;32m    118\u001b[0m         \u001b[0mret\u001b[0m \u001b[0;34m=\u001b[0m \u001b[0mStudySystem\u001b[0m\u001b[0;34m(\u001b[0m\u001b[0;34m\"\"\u001b[0m\u001b[0;34m)\u001b[0m\u001b[0;34m\u001b[0m\u001b[0;34m\u001b[0m\u001b[0m\n\u001b[1;32m    119\u001b[0m         \u001b[0mret\u001b[0m\u001b[0;34m.\u001b[0m\u001b[0madjustKey\u001b[0m\u001b[0;34m(\u001b[0m\u001b[0md\u001b[0m\u001b[0;34m[\u001b[0m\u001b[0;34m\"key\"\u001b[0m\u001b[0;34m]\u001b[0m\u001b[0;34m)\u001b[0m\u001b[0;34m\u001b[0m\u001b[0;34m\u001b[0m\u001b[0m\n\u001b[0;32m--> 120\u001b[0;31m         \u001b[0mret\u001b[0m\u001b[0;34m.\u001b[0m\u001b[0mprograms\u001b[0m \u001b[0;34m=\u001b[0m \u001b[0;34m[\u001b[0m\u001b[0mProgram\u001b[0m\u001b[0;34m.\u001b[0m\u001b[0mfromDict\u001b[0m\u001b[0;34m(\u001b[0m\u001b[0mx\u001b[0m\u001b[0;34m)\u001b[0m \u001b[0;32mfor\u001b[0m \u001b[0mx\u001b[0m \u001b[0;32min\u001b[0m \u001b[0md\u001b[0m\u001b[0;34m[\u001b[0m\u001b[0;34m\"programs\"\u001b[0m\u001b[0;34m]\u001b[0m\u001b[0;34m]\u001b[0m\u001b[0;34m\u001b[0m\u001b[0;34m\u001b[0m\u001b[0m\n\u001b[0m\u001b[1;32m    121\u001b[0m         \u001b[0mret\u001b[0m\u001b[0;34m.\u001b[0m\u001b[0morigin\u001b[0m \u001b[0;34m=\u001b[0m \u001b[0md\u001b[0m\u001b[0;34m[\u001b[0m\u001b[0;34m\"origin\"\u001b[0m\u001b[0;34m]\u001b[0m\u001b[0;34m\u001b[0m\u001b[0;34m\u001b[0m\u001b[0m\n\u001b[1;32m    122\u001b[0m         \u001b[0mret\u001b[0m\u001b[0;34m.\u001b[0m\u001b[0msavePath\u001b[0m \u001b[0;34m=\u001b[0m \u001b[0md\u001b[0m\u001b[0;34m[\u001b[0m\u001b[0;34m\"savePath\"\u001b[0m\u001b[0;34m]\u001b[0m\u001b[0;34m\u001b[0m\u001b[0;34m\u001b[0m\u001b[0m\n",
      "\u001b[0;32m~/code/2020Q/refreshment/refreshment/Program.py\u001b[0m in \u001b[0;36mfromDict\u001b[0;34m(d)\u001b[0m\n\u001b[1;32m    165\u001b[0m         \u001b[0mret\u001b[0m \u001b[0;34m=\u001b[0m \u001b[0mProgram\u001b[0m\u001b[0;34m(\u001b[0m\u001b[0;34m\"\"\u001b[0m\u001b[0;34m)\u001b[0m\u001b[0;34m\u001b[0m\u001b[0;34m\u001b[0m\u001b[0m\n\u001b[1;32m    166\u001b[0m         \u001b[0mret\u001b[0m\u001b[0;34m.\u001b[0m\u001b[0madjustKey\u001b[0m\u001b[0;34m(\u001b[0m\u001b[0md\u001b[0m\u001b[0;34m[\u001b[0m\u001b[0;34m\"key\"\u001b[0m\u001b[0;34m]\u001b[0m\u001b[0;34m)\u001b[0m\u001b[0;34m\u001b[0m\u001b[0;34m\u001b[0m\u001b[0m\n\u001b[0;32m--> 167\u001b[0;31m         \u001b[0mret\u001b[0m\u001b[0;34m.\u001b[0m\u001b[0msubjects\u001b[0m \u001b[0;34m=\u001b[0m \u001b[0;34m[\u001b[0m\u001b[0mSubject\u001b[0m\u001b[0;34m.\u001b[0m\u001b[0mfromDict\u001b[0m\u001b[0;34m(\u001b[0m\u001b[0ms\u001b[0m\u001b[0;34m)\u001b[0m \u001b[0;32mfor\u001b[0m \u001b[0ms\u001b[0m \u001b[0;32min\u001b[0m \u001b[0md\u001b[0m\u001b[0;34m[\u001b[0m\u001b[0;34m\"subjects\"\u001b[0m\u001b[0;34m]\u001b[0m\u001b[0;34m]\u001b[0m\u001b[0;34m\u001b[0m\u001b[0;34m\u001b[0m\u001b[0m\n\u001b[0m\u001b[1;32m    168\u001b[0m         \u001b[0mret\u001b[0m\u001b[0;34m.\u001b[0m\u001b[0mtitle\u001b[0m \u001b[0;34m=\u001b[0m \u001b[0md\u001b[0m\u001b[0;34m[\u001b[0m\u001b[0;34m\"title\"\u001b[0m\u001b[0;34m]\u001b[0m\u001b[0;34m\u001b[0m\u001b[0;34m\u001b[0m\u001b[0m\n\u001b[1;32m    169\u001b[0m         \u001b[0;32mfor\u001b[0m \u001b[0mx\u001b[0m \u001b[0;32min\u001b[0m \u001b[0mret\u001b[0m\u001b[0;34m.\u001b[0m\u001b[0msubjects\u001b[0m\u001b[0;34m:\u001b[0m\u001b[0;34m\u001b[0m\u001b[0;34m\u001b[0m\u001b[0m\n",
      "\u001b[0;32m~/code/2020Q/refreshment/refreshment/Program.py\u001b[0m in \u001b[0;36m<listcomp>\u001b[0;34m(.0)\u001b[0m\n\u001b[1;32m    165\u001b[0m         \u001b[0mret\u001b[0m \u001b[0;34m=\u001b[0m \u001b[0mProgram\u001b[0m\u001b[0;34m(\u001b[0m\u001b[0;34m\"\"\u001b[0m\u001b[0;34m)\u001b[0m\u001b[0;34m\u001b[0m\u001b[0;34m\u001b[0m\u001b[0m\n\u001b[1;32m    166\u001b[0m         \u001b[0mret\u001b[0m\u001b[0;34m.\u001b[0m\u001b[0madjustKey\u001b[0m\u001b[0;34m(\u001b[0m\u001b[0md\u001b[0m\u001b[0;34m[\u001b[0m\u001b[0;34m\"key\"\u001b[0m\u001b[0;34m]\u001b[0m\u001b[0;34m)\u001b[0m\u001b[0;34m\u001b[0m\u001b[0;34m\u001b[0m\u001b[0m\n\u001b[0;32m--> 167\u001b[0;31m         \u001b[0mret\u001b[0m\u001b[0;34m.\u001b[0m\u001b[0msubjects\u001b[0m \u001b[0;34m=\u001b[0m \u001b[0;34m[\u001b[0m\u001b[0mSubject\u001b[0m\u001b[0;34m.\u001b[0m\u001b[0mfromDict\u001b[0m\u001b[0;34m(\u001b[0m\u001b[0ms\u001b[0m\u001b[0;34m)\u001b[0m \u001b[0;32mfor\u001b[0m \u001b[0ms\u001b[0m \u001b[0;32min\u001b[0m \u001b[0md\u001b[0m\u001b[0;34m[\u001b[0m\u001b[0;34m\"subjects\"\u001b[0m\u001b[0;34m]\u001b[0m\u001b[0;34m]\u001b[0m\u001b[0;34m\u001b[0m\u001b[0;34m\u001b[0m\u001b[0m\n\u001b[0m\u001b[1;32m    168\u001b[0m         \u001b[0mret\u001b[0m\u001b[0;34m.\u001b[0m\u001b[0mtitle\u001b[0m \u001b[0;34m=\u001b[0m \u001b[0md\u001b[0m\u001b[0;34m[\u001b[0m\u001b[0;34m\"title\"\u001b[0m\u001b[0;34m]\u001b[0m\u001b[0;34m\u001b[0m\u001b[0;34m\u001b[0m\u001b[0m\n\u001b[1;32m    169\u001b[0m         \u001b[0;32mfor\u001b[0m \u001b[0mx\u001b[0m \u001b[0;32min\u001b[0m \u001b[0mret\u001b[0m\u001b[0;34m.\u001b[0m\u001b[0msubjects\u001b[0m\u001b[0;34m:\u001b[0m\u001b[0;34m\u001b[0m\u001b[0;34m\u001b[0m\u001b[0m\n",
      "\u001b[0;32m~/code/2020Q/refreshment/refreshment/Program.py\u001b[0m in \u001b[0;36mfromDict\u001b[0;34m(d)\u001b[0m\n\u001b[1;32m    136\u001b[0m         \u001b[0;32mfor\u001b[0m \u001b[0mkey\u001b[0m\u001b[0;34m,\u001b[0m \u001b[0mvalue\u001b[0m \u001b[0;32min\u001b[0m \u001b[0md\u001b[0m\u001b[0;34m[\u001b[0m\u001b[0;34m\"sequences\"\u001b[0m\u001b[0;34m]\u001b[0m\u001b[0;34m.\u001b[0m\u001b[0mitems\u001b[0m\u001b[0;34m(\u001b[0m\u001b[0;34m)\u001b[0m\u001b[0;34m:\u001b[0m\u001b[0;34m\u001b[0m\u001b[0;34m\u001b[0m\u001b[0m\n\u001b[1;32m    137\u001b[0m             \u001b[0mret\u001b[0m\u001b[0;34m.\u001b[0m\u001b[0msequences\u001b[0m\u001b[0;34m[\u001b[0m\u001b[0mkey\u001b[0m\u001b[0;34m]\u001b[0m \u001b[0;34m=\u001b[0m \u001b[0mvalue\u001b[0m\u001b[0;34m\u001b[0m\u001b[0;34m\u001b[0m\u001b[0m\n\u001b[0;32m--> 138\u001b[0;31m         \u001b[0mret\u001b[0m\u001b[0;34m.\u001b[0m\u001b[0mimg\u001b[0m \u001b[0;34m=\u001b[0m \u001b[0md\u001b[0m\u001b[0;34m[\u001b[0m\u001b[0;34m\"img\"\u001b[0m\u001b[0;34m]\u001b[0m\u001b[0;34m\u001b[0m\u001b[0;34m\u001b[0m\u001b[0m\n\u001b[0m\u001b[1;32m    139\u001b[0m         \u001b[0;32mreturn\u001b[0m \u001b[0mret\u001b[0m\u001b[0;34m\u001b[0m\u001b[0;34m\u001b[0m\u001b[0m\n\u001b[1;32m    140\u001b[0m \u001b[0;34m\u001b[0m\u001b[0m\n",
      "\u001b[0;31mKeyError\u001b[0m: 'img'"
     ]
    }
   ],
   "source": [
    "#hide\n",
    "guide = StudySystem.load(\"./data/programs.json\")\n",
    "for x in guide.programs:\n",
    "    print(x.name)\n",
    "    for y in x.subjects:\n",
    "        print(\"\\\"\" + x.name + \"\\\",\\\"\" + y.name + \"\\\"\")\n",
    "        \n"
   ]
  },
  {
   "cell_type": "code",
   "execution_count": 12,
   "metadata": {},
   "outputs": [],
   "source": [
    "#hide\n",
    "#guide = StudySystem(\"./data/programs.json\")\n",
    "#guide.loadDirectory()"
   ]
  },
  {
   "cell_type": "code",
   "execution_count": 9,
   "metadata": {},
   "outputs": [
    {
     "name": "stdout",
     "output_type": "stream",
     "text": [
      "Cathedral\n",
      "\"Cathedral\",\"Reading\"\n",
      "\"Cathedral\",\"Music\"\n",
      "\"Cathedral\",\"Chapel\"\n",
      "\"Cathedral\",\"HealthAndExercise\"\n",
      "\"Cathedral\",\"Shedules\"\n",
      "\"Cathedral\",\"Math\"\n",
      "\"Cathedral\",\"Mindful\"\n",
      "\"Cathedral\",\"Specialist\"\n",
      "\"Cathedral\",\"EmotionalLearning\"\n",
      "\"Cathedral\",\"Writing\"\n"
     ]
    }
   ],
   "source": [
    "#hide\n",
    "for x in guide.programs:\n",
    "    x.subjects = [y for y in x.subjects if y.name != \"Conners\"]\n",
    "    x.fixPaths()\n",
    "    \n",
    "for x in guide.programs:\n",
    "    print(x.name)\n",
    "    for y in x.subjects:\n",
    "        print(\"\\\"\" + x.name + \"\\\",\\\"\" + y.name + \"\\\"\")"
   ]
  },
  {
   "cell_type": "code",
   "execution_count": 10,
   "metadata": {},
   "outputs": [],
   "source": [
    "#export\n",
    "\n",
    "def cleanLesson(less):\n",
    "    for l in less.lessons:\n",
    "\n",
    "        label = re.sub(r'((?<=[a-z])[A-Z]|(?<!\\A)[A-Z](?=[a-z]))', r' \\1', l.fileName)\n",
    "        if label[-4] == \".\":\n",
    "            label = label[:-4]\n",
    "        label = re.sub(' +', ' ', label)\n",
    "        if l.name == l.fileName:\n",
    "            l.name = label\n",
    "\n"
   ]
  },
  {
   "cell_type": "code",
   "execution_count": 13,
   "metadata": {},
   "outputs": [
    {
     "data": {
      "text/plain": [
       "{'key': 'Mindful|0|0',\n",
       " 'lessons': [{'key': 'Belly Breath|1|1|BellyBreath.mp4',\n",
       "   'modifyTime': 1585844372.0,\n",
       "   'fileName': 'BellyBreath.mp4',\n",
       "   'indexPath': []},\n",
       "  {'key': 'Chill Song|2|2|ChillSong.mp4',\n",
       "   'modifyTime': 1585844573.0,\n",
       "   'fileName': 'ChillSong.mp4',\n",
       "   'indexPath': []},\n",
       "  {'key': 'Inhale Universe|3|3|InhaleUniverse.mp4',\n",
       "   'modifyTime': 1585850454.0,\n",
       "   'fileName': 'InhaleUniverse.mp4',\n",
       "   'indexPath': []},\n",
       "  {'key': 'candle|4|4|candle.mp4',\n",
       "   'modifyTime': 1585850497.0,\n",
       "   'fileName': 'candle.mp4',\n",
       "   'indexPath': []},\n",
       "  {'key': 'Tree|5|5|Tree.mp4',\n",
       "   'modifyTime': 1585850954.0,\n",
       "   'fileName': 'Tree.mp4',\n",
       "   'indexPath': []},\n",
       "  {'key': 'Silent Moment|6|6|SilentMoment.mp4',\n",
       "   'modifyTime': 1586187483.5847385,\n",
       "   'fileName': 'SilentMoment.mp4',\n",
       "   'indexPath': []},\n",
       "  {'key': 'legswall|7|7|legswall.mp4',\n",
       "   'modifyTime': 1586273534.3305132,\n",
       "   'fileName': 'legswall.mp4',\n",
       "   'indexPath': []},\n",
       "  {'key': 'Loving Kindness|8|8|LovingKindness.mp4',\n",
       "   'modifyTime': 1586359549.2449093,\n",
       "   'fileName': 'LovingKindness.mp4',\n",
       "   'indexPath': []},\n",
       "  {'key': 'Get Outside|9|9|GetOutside.mp4',\n",
       "   'modifyTime': 1586444996.3638506,\n",
       "   'fileName': 'GetOutside.mp4',\n",
       "   'indexPath': []},\n",
       "  {'key': 'Mind Castle|10|10|MindCastle.mp4',\n",
       "   'modifyTime': 1587573500.2164845,\n",
       "   'fileName': 'MindCastle.mp4',\n",
       "   'indexPath': []},\n",
       "  {'key': 'Mind Bubbles|11|11|MindBubbles.mp4',\n",
       "   'modifyTime': 1587573749.5938618,\n",
       "   'fileName': 'MindBubbles.mp4',\n",
       "   'indexPath': []},\n",
       "  {'key': 'Balanced Breathing|12|12|BalancedBreathing.mp4',\n",
       "   'modifyTime': 1587656435.7181826,\n",
       "   'fileName': 'BalancedBreathing.mp4',\n",
       "   'indexPath': []},\n",
       "  {'key': 'Sunrise Breaths|13|13|SunriseBreaths.mp4',\n",
       "   'modifyTime': 1587744164.3250923,\n",
       "   'fileName': 'SunriseBreaths.mp4',\n",
       "   'indexPath': []},\n",
       "  {'key': 'Sun Salutations|14|14|SunSalutations.mp4',\n",
       "   'modifyTime': 1588008544.7799766,\n",
       "   'fileName': 'SunSalutations.mp4',\n",
       "   'indexPath': []},\n",
       "  {'key': 'Lions Breath|15|15|LionsBreath.mp4',\n",
       "   'modifyTime': 1588205159.878294,\n",
       "   'fileName': 'LionsBreath.mp4',\n",
       "   'indexPath': []},\n",
       "  {'key': 'Figure8|16|16|Figure8.mp4',\n",
       "   'modifyTime': 1588205255.2920933,\n",
       "   'fileName': 'Figure8.mp4',\n",
       "   'indexPath': []},\n",
       "  {'key': 'Folding Flower|17|17|FoldingFlower.mp4',\n",
       "   'modifyTime': 1588605607.038485,\n",
       "   'fileName': 'FoldingFlower.mp4',\n",
       "   'indexPath': []},\n",
       "  {'key': 'Star Fish Breath|18|18|StarFishBreath.mp4',\n",
       "   'modifyTime': 1588800964.7840798,\n",
       "   'fileName': 'StarFishBreath.mp4',\n",
       "   'indexPath': []},\n",
       "  {'key': 'Sharp Eyes|19|19|SharpEyes.mp4',\n",
       "   'modifyTime': 1588869272.2020016,\n",
       "   'fileName': 'SharpEyes.mp4',\n",
       "   'indexPath': []}],\n",
       " 'sequences': {},\n",
       " 'img': ''}"
      ]
     },
     "execution_count": 13,
     "metadata": {},
     "output_type": "execute_result"
    }
   ],
   "source": [
    "#hide\n",
    "mindful = subjectFromPath(\"Cathedral\",\"Mindful\",guide.programs)\n",
    "cleanLesson(mindful) \n",
    "mindful.toDict()"
   ]
  },
  {
   "cell_type": "code",
   "execution_count": 14,
   "metadata": {},
   "outputs": [
    {
     "name": "stdout",
     "output_type": "stream",
     "text": [
      "1 BellyBreath.mp4 Belly Breath\n",
      "2 ChillSong.mp4 Chill Song\n",
      "3 InhaleUniverse.mp4 Inhale Universe\n",
      "4 candle.mp4 candle\n",
      "5 Tree.mp4 Tree\n",
      "6 SilentMoment.mp4 Silent Moment\n",
      "7 legswall.mp4 legswall\n",
      "8 LovingKindness.mp4 Loving Kindness\n",
      "9 GetOutside.mp4 Get Outside\n",
      "10 MindCastle.mp4 Mind Castle\n",
      "11 MindBubbles.mp4 Mind Bubbles\n",
      "12 BalancedBreathing.mp4 Balanced Breathing\n",
      "13 SunriseBreaths.mp4 Sunrise Breaths\n",
      "14 SunSalutations.mp4 Sun Salutations\n",
      "15 LionsBreath.mp4 Lions Breath\n",
      "16 Figure8.mp4 Figure8\n",
      "17 FoldingFlower.mp4 Folding Flower\n",
      "18 StarFishBreath.mp4 Star Fish Breath\n",
      "19 SharpEyes.mp4 Sharp Eyes\n"
     ]
    }
   ],
   "source": [
    "#hide\n",
    "guide.save()\n",
    "guide = StudySystem.load(\"./data/programs.json\")\n",
    "mindful = subjectFromPath(\"Cathedral\",\"Mindful\",guide.programs)\n",
    "for l in mindful.lessons:\n",
    "    print(l.key,l.fileName,l.name)"
   ]
  },
  {
   "cell_type": "code",
   "execution_count": 15,
   "metadata": {},
   "outputs": [],
   "source": [
    "#hide\n",
    "for x in guide.programs:\n",
    "    for y in x.subjects:\n",
    "        cleanLesson(y)\n",
    "guide.save()"
   ]
  },
  {
   "cell_type": "markdown",
   "metadata": {},
   "source": [
    "### Working With cathedral"
   ]
  },
  {
   "cell_type": "code",
   "execution_count": 17,
   "metadata": {},
   "outputs": [
    {
     "data": {
      "text/plain": [
       "CathedralProgram, Subjects[Reading|0|0;Music|0|0;Chapel|0|0;HealthAndExercise|0|0;Shedules|0|0;Math|0|0;Mindful|0|0;Specialist|0|0;EmotionalLearning|0|0;Writing|0|0]"
      ]
     },
     "execution_count": 17,
     "metadata": {},
     "output_type": "execute_result"
    }
   ],
   "source": [
    "#hide\n",
    "cath = [x for x in guide.programs if x.name == \"Cathedral\"][0]\n",
    "cath"
   ]
  },
  {
   "cell_type": "code",
   "execution_count": 18,
   "metadata": {},
   "outputs": [],
   "source": [
    "#hide\n",
    "cath.img = \"CathedralSchool_Logo_Horizontal_White.png\""
   ]
  },
  {
   "cell_type": "code",
   "execution_count": 25,
   "metadata": {},
   "outputs": [
    {
     "data": {
      "text/plain": [
       "([Three Part.03.31|2|2|ThreePart.03.31.mp4,\n",
       "  Three Part.03.25|5|5|ThreePart.03.25.mp4,\n",
       "  Three Part.4.7.20|13|13|ThreePart.4.7.20.mp4,\n",
       "  Three Part.04.21|22|22|ThreePart.04.21.mp4,\n",
       "  Three Part Drill.4.23.20|26|26|ThreePartDrill.4.23.20.mp4,\n",
       "  Three Part.4.28|28|28|ThreePart.4.28.mp4,\n",
       "  Three Part.4.30|31|31|ThreePart.4.30.mp4,\n",
       "  Three Part Drill.05.06|32|32|ThreePartDrill.05.06.mp4],\n",
       " defaultdict(list, {'Three Part Drill': [2, 5, 13, 22, 26, 28, 31, 32]}))"
      ]
     },
     "execution_count": 25,
     "metadata": {},
     "output_type": "execute_result"
    }
   ],
   "source": [
    "#hide\n",
    "reading = [x for x in cath.subjects if x.name == \"Reading\"][0]\n",
    "threePart = [x for x in reading.lessons if \"hree\" in x.name]\n",
    "threePart.sort(key=Lesson.sBase)\n",
    "reading.sequences[\"Three Part Drill\"] = [x.key for x in threePart]\n",
    "threePart, reading.sequences"
   ]
  },
  {
   "cell_type": "code",
   "execution_count": 26,
   "metadata": {},
   "outputs": [],
   "source": [
    "#hide\n",
    "guide.save()"
   ]
  },
  {
   "cell_type": "code",
   "execution_count": null,
   "metadata": {},
   "outputs": [],
   "source": []
  },
  {
   "cell_type": "markdown",
   "metadata": {},
   "source": [
    "## Grouping by date"
   ]
  },
  {
   "cell_type": "code",
   "execution_count": null,
   "metadata": {},
   "outputs": [],
   "source": [
    "#allLessons =  \n",
    "\n",
    "allLessons = defaultdict(list)\n",
    "startDate = datetime(year=3000,month=1,day=1)\n",
    "endDate = datetime(year=1900,month=1,day=1)\n",
    "\n",
    "def keyFromDate(d):\n",
    "    return str(d.year) + \".\" + str(d.month) + \".\" + str(d.day)\n",
    "    \n",
    "for x in guide.programs:\n",
    "    for y in x.subjects:\n",
    "        for z in y.lessons:\n",
    "            if z.fileName.endswith(\".mp4\"):\n",
    "                dt_object = datetime.fromtimestamp(z.modifyTime)\n",
    "                if dt_object < startDate:\n",
    "                    startDate = dt_object\n",
    "                if dt_object > endDate:\n",
    "                    endDate = dt_object\n",
    "                    \n",
    "                key = keyFromDate(dt_object)\n",
    "                allLessons[key].append({\"program\":x.key,\"subject\":y.key,\"lesson\":z})\n",
    "\n",
    "days = list(allLessons.keys())\n",
    "days.sort()\n",
    "days,keyFromDate(startDate),keyFromDate(endDate)\n"
   ]
  },
  {
   "cell_type": "code",
   "execution_count": null,
   "metadata": {},
   "outputs": [],
   "source": [
    "currentDate = startDate\n",
    "weeks=[]\n",
    "currentWeek = []\n",
    "delta = timedelta(days=1)\n",
    "\n",
    "def dataFromDate(aDate):\n",
    "    key = keyFromDate(aDate)\n",
    "    return {\"key\":key,\"size\":len(allLessons[key]) }\n",
    "\n",
    "\n",
    "while keyFromDate(endDate) != keyFromDate(currentDate):\n",
    "    currentWeek.append(dataFromDate(currentDate))\n",
    "    if len(currentWeek)==7:\n",
    "        weeks.append(currentWeek)\n",
    "        currentWeek = []\n",
    "    currentDate += delta\n",
    "\n",
    "\n",
    "currentWeek.append(dataFromDate(endDate))\n",
    "weeks.append(currentWeek)\n",
    "weeks"
   ]
  },
  {
   "cell_type": "code",
   "execution_count": null,
   "metadata": {},
   "outputs": [],
   "source": []
  }
 ],
 "metadata": {
  "kernelspec": {
   "display_name": "Python 3",
   "language": "python",
   "name": "python3"
  },
  "language_info": {
   "codemirror_mode": {
    "name": "ipython",
    "version": 3
   },
   "file_extension": ".py",
   "mimetype": "text/x-python",
   "name": "python",
   "nbconvert_exporter": "python",
   "pygments_lexer": "ipython3",
   "version": "3.8.2"
  }
 },
 "nbformat": 4,
 "nbformat_minor": 4
}
