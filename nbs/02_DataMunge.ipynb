{
 "cells": [
  {
   "cell_type": "code",
   "execution_count": null,
   "metadata": {},
   "outputs": [],
   "source": [
    "# default_exp munge"
   ]
  },
  {
   "cell_type": "markdown",
   "metadata": {},
   "source": [
    "# Processing the files \n",
    "\n",
    "> API details."
   ]
  },
  {
   "cell_type": "code",
   "execution_count": 2,
   "metadata": {},
   "outputs": [],
   "source": [
    "%load_ext autoreload\n",
    "%autoreload 2\n",
    "\n",
    "%matplotlib inline"
   ]
  },
  {
   "cell_type": "code",
   "execution_count": 5,
   "metadata": {},
   "outputs": [],
   "source": [
    "#export\n",
    "import os\n",
    "import sys\n",
    "import pandas as pd\n",
    "import re\n",
    "from time import gmtime, strftime, ctime\n",
    "from datetime import datetime, timedelta\n",
    "from collections import defaultdict"
   ]
  },
  {
   "cell_type": "code",
   "execution_count": 6,
   "metadata": {},
   "outputs": [],
   "source": [
    "#hide\n",
    "from nbdev.showdoc import *\n",
    "\n",
    "cPath = os.path.dirname(os.getcwd())\n",
    "cPath\n",
    "sys.path.insert(0,cPath)"
   ]
  },
  {
   "cell_type": "code",
   "execution_count": 7,
   "metadata": {},
   "outputs": [],
   "source": [
    "#export\n",
    "from refreshment.School import StudySystem,subjectFromPath\n",
    "from refreshment.Program import Program, Subject, Record, Lesson"
   ]
  },
  {
   "cell_type": "code",
   "execution_count": 6,
   "metadata": {},
   "outputs": [
    {
     "data": {
      "text/plain": [
       "StudySystem|1|1"
      ]
     },
     "execution_count": 6,
     "metadata": {},
     "output_type": "execute_result"
    }
   ],
   "source": [
    "#hide\n",
    "guide = StudySystem()\n",
    "for x in guide.programs:\n",
    "    print(x.name)\n",
    "guide"
   ]
  },
  {
   "cell_type": "code",
   "execution_count": 7,
   "metadata": {},
   "outputs": [
    {
     "name": "stdout",
     "output_type": "stream",
     "text": [
      "Cathedral\n",
      "\"Cathedral\",\"Reading\"1\n",
      "\"Cathedral\",\"Music\"2\n",
      "\"Cathedral\",\"Chapel\"3\n",
      "\"Cathedral\",\"Science\"4\n",
      "\"Cathedral\",\"HealthAndExercise\"5\n",
      "\"Cathedral\",\"Schedules\"6\n",
      "\"Cathedral\",\"Math\"7\n",
      "\"Cathedral\",\"Mindful\"8\n",
      "\"Cathedral\",\"EmotionalLearning\"9\n",
      "\"Cathedral\",\"Writing\"11\n"
     ]
    }
   ],
   "source": [
    "#hide\n",
    "guide = StudySystem.load(\"./data/programs.json\")\n",
    "for x in guide.programs:\n",
    "    print(x.name)\n",
    "    for y in x.subjects:\n",
    "        print(\"\\\"\" + x.name + \"\\\",\\\"\" + y.name + \"\\\"\" + str(y.key))\n",
    "        \n"
   ]
  },
  {
   "cell_type": "code",
   "execution_count": 8,
   "metadata": {},
   "outputs": [],
   "source": [
    "#hide\n",
    "guide = StudySystem(\"./data/programs.json\")\n",
    "guide.loadDirectory()\n",
    "guide.save()"
   ]
  },
  {
   "cell_type": "code",
   "execution_count": 9,
   "metadata": {},
   "outputs": [],
   "source": [
    "#export\n",
    "def removeAuthor(cl):\n",
    "    for x in cl.programs:\n",
    "        x.subjects = [y for y in x.subjects if y.name != \"Conners\"]\n",
    "        x.fixPaths()"
   ]
  },
  {
   "cell_type": "code",
   "execution_count": 10,
   "metadata": {},
   "outputs": [
    {
     "name": "stdout",
     "output_type": "stream",
     "text": [
      "Cathedral\n",
      "\"Cathedral\",\"Reading\"\n",
      "\"Cathedral\",\"Music\"\n",
      "\"Cathedral\",\"Chapel\"\n",
      "\"Cathedral\",\"Science\"\n",
      "\"Cathedral\",\"HealthAndExercise\"\n",
      "\"Cathedral\",\"Schedules\"\n",
      "\"Cathedral\",\"Math\"\n",
      "\"Cathedral\",\"Mindful\"\n",
      "\"Cathedral\",\"EmotionalLearning\"\n",
      "\"Cathedral\",\"Writing\"\n"
     ]
    }
   ],
   "source": [
    "removeAuthor(guide)\n",
    "for x in guide.programs:\n",
    "    print(x.name)\n",
    "    for y in x.subjects:\n",
    "        print(\"\\\"\" + x.name + \"\\\",\\\"\" + y.name + \"\\\"\")"
   ]
  },
  {
   "cell_type": "code",
   "execution_count": 11,
   "metadata": {},
   "outputs": [],
   "source": [
    "#export\n",
    "def cleanName(x,removeExtension=True):\n",
    "    label = re.sub(r'((?<=[a-z])[A-Z]|(?<!\\A)[A-Z](?=[a-z]))', r' \\1', x)\n",
    "    if removeExtension and label[-4] == \".\":\n",
    "        label = label[:-4]\n",
    "    label = re.sub(' +', ' ', label)\n",
    "    \n",
    "    return label\n",
    "        \n",
    "def cleanLesson(less):\n",
    "    for l in less.lessons:\n",
    "\n",
    "        label = cleanName(l.fileName)\n",
    "        if l.name == l.fileName:\n",
    "            l.name = label\n",
    "\n"
   ]
  },
  {
   "cell_type": "code",
   "execution_count": 12,
   "metadata": {},
   "outputs": [
    {
     "data": {
      "text/plain": [
       "{'key': 'Mindful|8|8',\n",
       " 'lessons': [{'key': 'Belly Breath|1|1|BellyBreath.mp4',\n",
       "   'modifyTime': 1585844372.0,\n",
       "   'fileName': 'BellyBreath.mp4',\n",
       "   'indexPath': [8, 1]},\n",
       "  {'key': 'Chill Song|2|2|ChillSong.mp4',\n",
       "   'modifyTime': 1585844573.0,\n",
       "   'fileName': 'ChillSong.mp4',\n",
       "   'indexPath': [8, 2]},\n",
       "  {'key': 'Inhale Universe|3|3|InhaleUniverse.mp4',\n",
       "   'modifyTime': 1585850454.0,\n",
       "   'fileName': 'InhaleUniverse.mp4',\n",
       "   'indexPath': [8, 3]},\n",
       "  {'key': 'Candle Breath|4|4|CandleBreath.mp4',\n",
       "   'modifyTime': 1585850497.0,\n",
       "   'fileName': 'CandleBreath.mp4',\n",
       "   'indexPath': [8, 4]},\n",
       "  {'key': 'Tree Pose|5|5|TreePose.mp4',\n",
       "   'modifyTime': 1585850954.0,\n",
       "   'fileName': 'TreePose.mp4',\n",
       "   'indexPath': [8, 5]},\n",
       "  {'key': 'Silent Moment|6|6|SilentMoment.mp4',\n",
       "   'modifyTime': 1586187483.5847385,\n",
       "   'fileName': 'SilentMoment.mp4',\n",
       "   'indexPath': [8, 6]},\n",
       "  {'key': 'Legs At Wall|7|7|LegsAtWall.mp4',\n",
       "   'modifyTime': 1586273534.3305132,\n",
       "   'fileName': 'LegsAtWall.mp4',\n",
       "   'indexPath': [8, 7]},\n",
       "  {'key': 'Loving Kindness|8|8|LovingKindness.mp4',\n",
       "   'modifyTime': 1586359549.2449093,\n",
       "   'fileName': 'LovingKindness.mp4',\n",
       "   'indexPath': [8, 8]},\n",
       "  {'key': 'Get Outside|9|9|GetOutside.mp4',\n",
       "   'modifyTime': 1586444996.3638506,\n",
       "   'fileName': 'GetOutside.mp4',\n",
       "   'indexPath': [8, 9]},\n",
       "  {'key': 'Mind Castle|10|10|MindCastle.mp4',\n",
       "   'modifyTime': 1587573500.2164845,\n",
       "   'fileName': 'MindCastle.mp4',\n",
       "   'indexPath': [8, 10]},\n",
       "  {'key': 'Mind Bubbles|11|11|MindBubbles.mp4',\n",
       "   'modifyTime': 1587573749.5938618,\n",
       "   'fileName': 'MindBubbles.mp4',\n",
       "   'indexPath': [8, 11]},\n",
       "  {'key': 'Balanced Breathing|12|12|BalancedBreathing.mp4',\n",
       "   'modifyTime': 1587656435.7181826,\n",
       "   'fileName': 'BalancedBreathing.mp4',\n",
       "   'indexPath': [8, 12]},\n",
       "  {'key': 'Sunrise Breaths|13|13|SunriseBreaths.mp4',\n",
       "   'modifyTime': 1587744164.3250923,\n",
       "   'fileName': 'SunriseBreaths.mp4',\n",
       "   'indexPath': [8, 13]},\n",
       "  {'key': 'Sun Salutations|14|14|SunSalutations.mp4',\n",
       "   'modifyTime': 1588008544.7799766,\n",
       "   'fileName': 'SunSalutations.mp4',\n",
       "   'indexPath': [8, 14]},\n",
       "  {'key': 'Lions Breath|15|15|LionsBreath.mp4',\n",
       "   'modifyTime': 1588205159.878294,\n",
       "   'fileName': 'LionsBreath.mp4',\n",
       "   'indexPath': [8, 15]},\n",
       "  {'key': 'Figure8|16|16|Figure8.mp4',\n",
       "   'modifyTime': 1588205255.2920933,\n",
       "   'fileName': 'Figure8.mp4',\n",
       "   'indexPath': [8, 16]},\n",
       "  {'key': 'Folding Flower|17|17|FoldingFlower.mp4',\n",
       "   'modifyTime': 1588605607.038485,\n",
       "   'fileName': 'FoldingFlower.mp4',\n",
       "   'indexPath': [8, 17]},\n",
       "  {'key': 'Star Fish Breath|18|18|StarFishBreath.mp4',\n",
       "   'modifyTime': 1588800964.7840798,\n",
       "   'fileName': 'StarFishBreath.mp4',\n",
       "   'indexPath': [8, 18]},\n",
       "  {'key': 'Sharp Eyes|19|19|SharpEyes.mp4',\n",
       "   'modifyTime': 1588869272.2020016,\n",
       "   'fileName': 'SharpEyes.mp4',\n",
       "   'indexPath': [8, 19]},\n",
       "  {'key': 'Take Walk|20|20|TakeWalk.mp4',\n",
       "   'modifyTime': 1588976257.9479213,\n",
       "   'fileName': 'TakeWalk.mp4',\n",
       "   'indexPath': [8, 20]},\n",
       "  {'key': 'Cloud Burst|21|21|CloudBurst.mp4',\n",
       "   'modifyTime': 1589296992.2729015,\n",
       "   'fileName': 'CloudBurst.mp4',\n",
       "   'indexPath': [8, 21]}],\n",
       " 'sequences': {},\n",
       " 'img': '',\n",
       " 'title': 'Mindful'}"
      ]
     },
     "execution_count": 12,
     "metadata": {},
     "output_type": "execute_result"
    }
   ],
   "source": [
    "#hide\n",
    "mindful = subjectFromPath(\"Cathedral\",\"Mindful\",guide.programs)\n",
    "cleanLesson(mindful) \n",
    "mindful.toDict()"
   ]
  },
  {
   "cell_type": "code",
   "execution_count": 13,
   "metadata": {},
   "outputs": [
    {
     "name": "stdout",
     "output_type": "stream",
     "text": [
      "1 BellyBreath.mp4 Belly Breath\n",
      "2 ChillSong.mp4 Chill Song\n",
      "3 InhaleUniverse.mp4 Inhale Universe\n",
      "4 CandleBreath.mp4 Candle Breath\n",
      "5 TreePose.mp4 Tree Pose\n",
      "6 SilentMoment.mp4 Silent Moment\n",
      "7 LegsAtWall.mp4 Legs At Wall\n",
      "8 LovingKindness.mp4 Loving Kindness\n",
      "9 GetOutside.mp4 Get Outside\n",
      "10 MindCastle.mp4 Mind Castle\n",
      "11 MindBubbles.mp4 Mind Bubbles\n",
      "12 BalancedBreathing.mp4 Balanced Breathing\n",
      "13 SunriseBreaths.mp4 Sunrise Breaths\n",
      "14 SunSalutations.mp4 Sun Salutations\n",
      "15 LionsBreath.mp4 Lions Breath\n",
      "16 Figure8.mp4 Figure8\n",
      "17 FoldingFlower.mp4 Folding Flower\n",
      "18 StarFishBreath.mp4 Star Fish Breath\n",
      "19 SharpEyes.mp4 Sharp Eyes\n",
      "20 TakeWalk.mp4 Take Walk\n",
      "21 CloudBurst.mp4 Cloud Burst\n"
     ]
    }
   ],
   "source": [
    "#hide\n",
    "guide.save()\n",
    "guide = StudySystem.load(\"./data/programs.json\")\n",
    "mindful = subjectFromPath(\"Cathedral\",\"Mindful\",guide.programs)\n",
    "for l in mindful.lessons:\n",
    "    print(l.key,l.fileName,l.name)"
   ]
  },
  {
   "cell_type": "code",
   "execution_count": 14,
   "metadata": {},
   "outputs": [],
   "source": [
    "#hide\n",
    "for x in guide.programs:\n",
    "    for y in x.subjects:\n",
    "        y.title =  cleanName(y.name,removeExtension=False)\n",
    "        cleanLesson(y)\n",
    "guide.save()"
   ]
  },
  {
   "cell_type": "markdown",
   "metadata": {},
   "source": [
    "### Working With cathedral"
   ]
  },
  {
   "cell_type": "code",
   "execution_count": 15,
   "metadata": {},
   "outputs": [
    {
     "data": {
      "text/plain": [
       "CathedralProgram, Subjects[Reading|1|1;Music|2|2;Chapel|3|3;Science|4|4;HealthAndExercise|5|5;Schedules|6|6;Math|7|7;Mindful|8|8;EmotionalLearning|9|9;Writing|11|11]"
      ]
     },
     "execution_count": 15,
     "metadata": {},
     "output_type": "execute_result"
    }
   ],
   "source": [
    "#hide\n",
    "cath = [x for x in guide.programs if x.name == \"Cathedral\"][0]\n",
    "cath.title = \"K\"\n",
    "cath"
   ]
  },
  {
   "cell_type": "code",
   "execution_count": 16,
   "metadata": {},
   "outputs": [],
   "source": [
    "#hide\n",
    "cath.img = \"CathedralSchool_Logo_Horizontal_White.png\""
   ]
  },
  {
   "cell_type": "code",
   "execution_count": 17,
   "metadata": {},
   "outputs": [],
   "source": [
    "#export\n",
    "def subjectWithName(prog,name):\n",
    "    return [x for x in prog.subjects if x.name ==name][0]\n",
    "\n",
    "def assignLessonsWithName(sub,express):\n",
    "    howTo = [x for x in sub.lessons if express in x.name]\n",
    "    howTo.sort(key=Lesson.sBase)\n",
    "    return [x.key for x in howTo]\n"
   ]
  },
  {
   "cell_type": "code",
   "execution_count": 18,
   "metadata": {},
   "outputs": [
    {
     "data": {
      "text/plain": [
       "[2, 5, 13, 22, 26, 28, 31, 33, 38]"
      ]
     },
     "execution_count": 18,
     "metadata": {},
     "output_type": "execute_result"
    }
   ],
   "source": [
    "#hide\n",
    "reading = subjectWithName(cath,\"Reading\")\n",
    "reading.sequences[\"Three Part Drill\"] = assignLessonsWithName(reading,\"hree\")\n",
    "reading.sequences[\"Three Part Drill\"]"
   ]
  },
  {
   "cell_type": "code",
   "execution_count": 19,
   "metadata": {},
   "outputs": [],
   "source": [
    "#hide\n",
    "guide.save()"
   ]
  },
  {
   "cell_type": "code",
   "execution_count": 20,
   "metadata": {},
   "outputs": [],
   "source": [
    "#export\n",
    "def makePriorsForSubject(sub):\n",
    "    skips = {}\n",
    "    for (key, seq) in sub.sequences.items():\n",
    "        i = 0\n",
    "        for x in seq:\n",
    "            less = sub.lookup[x]\n",
    "            less.prior = seq[:i]\n",
    "            less.next = seq[i+1:]\n",
    "            i += 1\n",
    "            skips[x] = 1\n",
    "    \n",
    "    unassigned = [x.key for x in sub.lessons if not x.key in skips]\n",
    "    i = 0\n",
    "    for x in unassigned:\n",
    "        less = sub.lookup[x]\n",
    "        less.prior = unassigned[:i]\n",
    "        less.next = unassigned[i+1:]\n",
    "        i += 1\n",
    "\n"
   ]
  },
  {
   "cell_type": "code",
   "execution_count": 21,
   "metadata": {},
   "outputs": [
    {
     "name": "stdout",
     "output_type": "stream",
     "text": [
      "[] [3, 4, 6, 7, 8, 9, 10, 11, 12, 14, 15, 16, 17, 18, 19, 20, 21, 23, 24, 25, 27, 29, 30, 32, 34, 35, 36, 37, 39, 40, 41]\n",
      "[] [5, 13, 22, 26, 28, 31, 33, 38]\n",
      "[1] [4, 6, 7, 8, 9, 10, 11, 12, 14, 15, 16, 17, 18, 19, 20, 21, 23, 24, 25, 27, 29, 30, 32, 34, 35, 36, 37, 39, 40, 41]\n",
      "[1, 3] [6, 7, 8, 9, 10, 11, 12, 14, 15, 16, 17, 18, 19, 20, 21, 23, 24, 25, 27, 29, 30, 32, 34, 35, 36, 37, 39, 40, 41]\n",
      "[2] [13, 22, 26, 28, 31, 33, 38]\n",
      "[1, 3, 4] [7, 8, 9, 10, 11, 12, 14, 15, 16, 17, 18, 19, 20, 21, 23, 24, 25, 27, 29, 30, 32, 34, 35, 36, 37, 39, 40, 41]\n",
      "[1, 3, 4, 6] [8, 9, 10, 11, 12, 14, 15, 16, 17, 18, 19, 20, 21, 23, 24, 25, 27, 29, 30, 32, 34, 35, 36, 37, 39, 40, 41]\n",
      "[1, 3, 4, 6, 7] [9, 10, 11, 12, 14, 15, 16, 17, 18, 19, 20, 21, 23, 24, 25, 27, 29, 30, 32, 34, 35, 36, 37, 39, 40, 41]\n",
      "[1, 3, 4, 6, 7, 8] [10, 11, 12, 14, 15, 16, 17, 18, 19, 20, 21, 23, 24, 25, 27, 29, 30, 32, 34, 35, 36, 37, 39, 40, 41]\n",
      "[1, 3, 4, 6, 7, 8, 9] [11, 12, 14, 15, 16, 17, 18, 19, 20, 21, 23, 24, 25, 27, 29, 30, 32, 34, 35, 36, 37, 39, 40, 41]\n",
      "[1, 3, 4, 6, 7, 8, 9, 10] [12, 14, 15, 16, 17, 18, 19, 20, 21, 23, 24, 25, 27, 29, 30, 32, 34, 35, 36, 37, 39, 40, 41]\n",
      "[1, 3, 4, 6, 7, 8, 9, 10, 11] [14, 15, 16, 17, 18, 19, 20, 21, 23, 24, 25, 27, 29, 30, 32, 34, 35, 36, 37, 39, 40, 41]\n",
      "[2, 5] [22, 26, 28, 31, 33, 38]\n",
      "[1, 3, 4, 6, 7, 8, 9, 10, 11, 12] [15, 16, 17, 18, 19, 20, 21, 23, 24, 25, 27, 29, 30, 32, 34, 35, 36, 37, 39, 40, 41]\n",
      "[1, 3, 4, 6, 7, 8, 9, 10, 11, 12, 14] [16, 17, 18, 19, 20, 21, 23, 24, 25, 27, 29, 30, 32, 34, 35, 36, 37, 39, 40, 41]\n",
      "[1, 3, 4, 6, 7, 8, 9, 10, 11, 12, 14, 15] [17, 18, 19, 20, 21, 23, 24, 25, 27, 29, 30, 32, 34, 35, 36, 37, 39, 40, 41]\n",
      "[1, 3, 4, 6, 7, 8, 9, 10, 11, 12, 14, 15, 16] [18, 19, 20, 21, 23, 24, 25, 27, 29, 30, 32, 34, 35, 36, 37, 39, 40, 41]\n",
      "[1, 3, 4, 6, 7, 8, 9, 10, 11, 12, 14, 15, 16, 17] [19, 20, 21, 23, 24, 25, 27, 29, 30, 32, 34, 35, 36, 37, 39, 40, 41]\n",
      "[1, 3, 4, 6, 7, 8, 9, 10, 11, 12, 14, 15, 16, 17, 18] [20, 21, 23, 24, 25, 27, 29, 30, 32, 34, 35, 36, 37, 39, 40, 41]\n",
      "[1, 3, 4, 6, 7, 8, 9, 10, 11, 12, 14, 15, 16, 17, 18, 19] [21, 23, 24, 25, 27, 29, 30, 32, 34, 35, 36, 37, 39, 40, 41]\n",
      "[1, 3, 4, 6, 7, 8, 9, 10, 11, 12, 14, 15, 16, 17, 18, 19, 20] [23, 24, 25, 27, 29, 30, 32, 34, 35, 36, 37, 39, 40, 41]\n",
      "[2, 5, 13] [26, 28, 31, 33, 38]\n",
      "[1, 3, 4, 6, 7, 8, 9, 10, 11, 12, 14, 15, 16, 17, 18, 19, 20, 21] [24, 25, 27, 29, 30, 32, 34, 35, 36, 37, 39, 40, 41]\n",
      "[1, 3, 4, 6, 7, 8, 9, 10, 11, 12, 14, 15, 16, 17, 18, 19, 20, 21, 23] [25, 27, 29, 30, 32, 34, 35, 36, 37, 39, 40, 41]\n",
      "[1, 3, 4, 6, 7, 8, 9, 10, 11, 12, 14, 15, 16, 17, 18, 19, 20, 21, 23, 24] [27, 29, 30, 32, 34, 35, 36, 37, 39, 40, 41]\n",
      "[2, 5, 13, 22] [28, 31, 33, 38]\n",
      "[1, 3, 4, 6, 7, 8, 9, 10, 11, 12, 14, 15, 16, 17, 18, 19, 20, 21, 23, 24, 25] [29, 30, 32, 34, 35, 36, 37, 39, 40, 41]\n",
      "[2, 5, 13, 22, 26] [31, 33, 38]\n",
      "[1, 3, 4, 6, 7, 8, 9, 10, 11, 12, 14, 15, 16, 17, 18, 19, 20, 21, 23, 24, 25, 27] [30, 32, 34, 35, 36, 37, 39, 40, 41]\n",
      "[1, 3, 4, 6, 7, 8, 9, 10, 11, 12, 14, 15, 16, 17, 18, 19, 20, 21, 23, 24, 25, 27, 29] [32, 34, 35, 36, 37, 39, 40, 41]\n",
      "[2, 5, 13, 22, 26, 28] [33, 38]\n",
      "[1, 3, 4, 6, 7, 8, 9, 10, 11, 12, 14, 15, 16, 17, 18, 19, 20, 21, 23, 24, 25, 27, 29, 30] [34, 35, 36, 37, 39, 40, 41]\n",
      "[2, 5, 13, 22, 26, 28, 31] [38]\n",
      "[1, 3, 4, 6, 7, 8, 9, 10, 11, 12, 14, 15, 16, 17, 18, 19, 20, 21, 23, 24, 25, 27, 29, 30, 32] [35, 36, 37, 39, 40, 41]\n",
      "[1, 3, 4, 6, 7, 8, 9, 10, 11, 12, 14, 15, 16, 17, 18, 19, 20, 21, 23, 24, 25, 27, 29, 30, 32, 34] [36, 37, 39, 40, 41]\n",
      "[1, 3, 4, 6, 7, 8, 9, 10, 11, 12, 14, 15, 16, 17, 18, 19, 20, 21, 23, 24, 25, 27, 29, 30, 32, 34, 35] [37, 39, 40, 41]\n",
      "[1, 3, 4, 6, 7, 8, 9, 10, 11, 12, 14, 15, 16, 17, 18, 19, 20, 21, 23, 24, 25, 27, 29, 30, 32, 34, 35, 36] [39, 40, 41]\n",
      "[2, 5, 13, 22, 26, 28, 31, 33] []\n",
      "[1, 3, 4, 6, 7, 8, 9, 10, 11, 12, 14, 15, 16, 17, 18, 19, 20, 21, 23, 24, 25, 27, 29, 30, 32, 34, 35, 36, 37] [40, 41]\n",
      "[1, 3, 4, 6, 7, 8, 9, 10, 11, 12, 14, 15, 16, 17, 18, 19, 20, 21, 23, 24, 25, 27, 29, 30, 32, 34, 35, 36, 37, 39] [41]\n",
      "[1, 3, 4, 6, 7, 8, 9, 10, 11, 12, 14, 15, 16, 17, 18, 19, 20, 21, 23, 24, 25, 27, 29, 30, 32, 34, 35, 36, 37, 39, 40] []\n"
     ]
    }
   ],
   "source": [
    "#hide\n",
    "makePriorsForSubject(reading)\n",
    "for x in reading.lessons:\n",
    "    if len(x.prior) + len(x.next) > 0:\n",
    "        print(x.prior,x.next)"
   ]
  },
  {
   "cell_type": "markdown",
   "metadata": {},
   "source": [
    "### Work on reading"
   ]
  },
  {
   "cell_type": "code",
   "execution_count": 22,
   "metadata": {},
   "outputs": [],
   "source": [
    "#export\n",
    "def unassignedForSubject(sub):\n",
    "    skips = {}\n",
    "    for (key, seq) in sub.sequences.items():\n",
    "        i = 0\n",
    "        for x in seq:\n",
    "            skips[x] = 1\n",
    "    \n",
    "    return [x for x in sub.lessons if not x.key in skips]\n"
   ]
  },
  {
   "cell_type": "code",
   "execution_count": 23,
   "metadata": {},
   "outputs": [
    {
     "data": {
      "text/plain": [
       "['SnapByFor.mp4',\n",
       " 'Fortunately.mp4',\n",
       " 'LittleBlueTruck.mp4',\n",
       " '5SightWords.mp4',\n",
       " 'truestory.mp4',\n",
       " 'VisitMusem.mp4',\n",
       " 'MOWiliiams.mp4',\n",
       " 'ReadAloud.mp4',\n",
       " 'conceptE.mp4',\n",
       " 'LetterEScavenegerHunt.mp4',\n",
       " 'AmosMcGee.mp4',\n",
       " 'WhatBooks.mp4',\n",
       " 'DavidTellsJoke.mp4',\n",
       " 'SnapWordsMemory..mp4',\n",
       " 'aChairForMyMother.mp4',\n",
       " 'FantasticElasticBrain.mp4',\n",
       " 'FrogToad.mp4',\n",
       " 'LetterS.mp4',\n",
       " 'ShSound.mp4',\n",
       " 'HowToBabySitAGrandPa.mp4',\n",
       " 'ReadingFromHome.mp4',\n",
       " 'thSound.mp4',\n",
       " 'WLetterConcept.mp4',\n",
       " 'AvidReader.mp4',\n",
       " 'LetterConceptY.mp4',\n",
       " 'BearsFeelScared.mp4',\n",
       " 'Reading-BookReview.pdf',\n",
       " 'BigHugsLittleHugs.mp4',\n",
       " 'LetterConceptV.mp4',\n",
       " 'Review Writing 5_12.pdf',\n",
       " 'Find the rhymes.m4a',\n",
       " 'LetterConceptX.mp4']"
      ]
     },
     "execution_count": 23,
     "metadata": {},
     "output_type": "execute_result"
    }
   ],
   "source": [
    "#hide\n",
    "[x.fileName for x in unassignedForSubject(reading)]"
   ]
  },
  {
   "cell_type": "code",
   "execution_count": 24,
   "metadata": {},
   "outputs": [],
   "source": [
    "#hide\n",
    "assignments = {}\n",
    "assignments[\"Read Aloud\"] = ['Fortunately.mp4','LittleBlueTruck.mp4','MOWiliiams.mp4',\n",
    "                             'ReadAloud.mp4','AmosMcGee.mp4','DavidTellsJoke.mp4', 'aChairForMyMother.mp4','FrogToad.mp4', \n",
    "                             'HowToBabySitAGrandPa.mp4','BearsFeelScared.mp4','BigHugsLittleHugs.mp4']"
   ]
  },
  {
   "cell_type": "code",
   "execution_count": 25,
   "metadata": {},
   "outputs": [],
   "source": [
    "#hide\n",
    "assignments[\"Words\"] =['SnapByFor.mp4','5SightWords.mp4','SnapWordsMemory..mp4']"
   ]
  },
  {
   "cell_type": "code",
   "execution_count": 26,
   "metadata": {},
   "outputs": [],
   "source": [
    "#hide\n",
    "assignments[\"Letter Concepts\"] =['conceptE.mp4','LetterEScavenegerHunt.mp4', 'LetterS.mp4',\n",
    " 'ShSound.mp4', 'thSound.mp4',\"WLetterConcept.mp4\",\"LetterConceptY.mp4\",'LetterConceptV.mp4']"
   ]
  },
  {
   "cell_type": "code",
   "execution_count": 27,
   "metadata": {},
   "outputs": [],
   "source": [
    "#export\n",
    "def assignCategoriesToSubject(sub,cats):\n",
    "    nameLookUp = {}\n",
    "    for x in sub.lessons:\n",
    "        nameLookUp[x.fileName] = x.key\n",
    "    for (k,v) in assignments.items():\n",
    "        sub.sequences[k] = [ nameLookUp[x] for x in v]\n"
   ]
  },
  {
   "cell_type": "code",
   "execution_count": 28,
   "metadata": {},
   "outputs": [
    {
     "data": {
      "text/plain": [
       "(['truestory.mp4',\n",
       "  'VisitMusem.mp4',\n",
       "  'WhatBooks.mp4',\n",
       "  'FantasticElasticBrain.mp4',\n",
       "  'ReadingFromHome.mp4',\n",
       "  'AvidReader.mp4',\n",
       "  'Reading-BookReview.pdf',\n",
       "  'Review Writing 5_12.pdf',\n",
       "  'Find the rhymes.m4a',\n",
       "  'LetterConceptX.mp4'],\n",
       " defaultdict(list,\n",
       "             {'Three Part Drill': [2, 5, 13, 22, 26, 28, 31, 33, 38],\n",
       "              'Read Aloud': [3, 4, 9, 10, 14, 16, 18, 20, 24, 34, 36],\n",
       "              'Words': [1, 6, 17],\n",
       "              'Letter Concepts': [11, 12, 21, 23, 27, 29, 32, 37]}))"
      ]
     },
     "execution_count": 28,
     "metadata": {},
     "output_type": "execute_result"
    }
   ],
   "source": [
    "#hide\n",
    "assignCategoriesToSubject(reading,assignments)\n",
    "[x.fileName for x in unassignedForSubject(reading)]    ,reading.sequences  \n"
   ]
  },
  {
   "cell_type": "code",
   "execution_count": 29,
   "metadata": {},
   "outputs": [],
   "source": [
    "#hide\n",
    "guide.save()"
   ]
  },
  {
   "cell_type": "markdown",
   "metadata": {},
   "source": [
    "### Working with writing"
   ]
  },
  {
   "cell_type": "code",
   "execution_count": 30,
   "metadata": {},
   "outputs": [
    {
     "data": {
      "text/plain": [
       "[Three Wishes|1|1|ThreeWishes.mp4,\n",
       " What Did You Do Weekend|2|2|WhatDidYouDoWeekend.mp4,\n",
       " Laugh|3|3|Laugh.mp4,\n",
       " Virtual Museum|4|4|VirtualMuseum.mp4,\n",
       " Enjoy About Distance Learning|5|5|EnjoyAboutDistanceLearning.mp4,\n",
       " Feel Good|6|6|FeelGood.mp4,\n",
       " Virtual Dictitation|7|7|VirtualDictitation.mp4,\n",
       " True Story|8|8|TrueStory.mp4,\n",
       " Notice Wonder|9|9|NoticeWonder.mp4,\n",
       " How To Thinkining What To Write|10|10|HowToThinkiningWhatToWrite.mp4,\n",
       " Plannig How To Book|11|11|PlannigHowToBook.mp4,\n",
       " Writing Plan|12|12|WritingPlan.mp4,\n",
       " GK_PC_BK_ Box4 Lines|13|13|GK_PC_BK_Box4Lines.pdf,\n",
       " Sketching Ideas|14|14|SketchingIdeas.mp4,\n",
       " How To Details|15|15|HowToDetails.mp4,\n",
       " Dictation|16|16|Dictation.mp4,\n",
       " How To Edit|17|17|HowToEdit.mp4,\n",
       " Optional Dictation|18|18|OptionalDictation.mp4,\n",
       " How To Covers|19|19|HowToCovers.mp4,\n",
       " How To Choosing Right Words|20|20|HowToChoosingRightWords.mp4,\n",
       " How To Listen To Readers|21|21|HowToListenToReaders.mp4,\n",
       " Work On How To|22|22|WorkOnHowTo.mp4,\n",
       " imaging.seesaw.me|23|23|imaging.seesaw.me.png,\n",
       " Best Guess Spelling|24|24|BestGuessSpelling.mp4,\n",
       " Write Love Letter|25|25|WriteLoveLetter.mp4,\n",
       " Parent Write Review|26|26|ParentWriteReview.mp4,\n",
       " Review Writing|27|27|Review Writing.mp4,\n",
       " Writing A Review|28|28|WritingAReview.mp4]"
      ]
     },
     "execution_count": 30,
     "metadata": {},
     "output_type": "execute_result"
    }
   ],
   "source": [
    "writing = subjectWithName(cath,\"Writing\")\n",
    "unassignedForSubject(writing)"
   ]
  },
  {
   "cell_type": "code",
   "execution_count": 31,
   "metadata": {},
   "outputs": [
    {
     "data": {
      "text/plain": [
       "defaultdict(list, {'How To ': [10, 11, 15, 17, 19, 20, 21, 22]})"
      ]
     },
     "execution_count": 31,
     "metadata": {},
     "output_type": "execute_result"
    }
   ],
   "source": [
    "#hide\n",
    "writing.sequences[\"How To \"] = assignLessonsWithName(writing,\"How To\")\n",
    "writing.sequences"
   ]
  },
  {
   "cell_type": "code",
   "execution_count": 32,
   "metadata": {},
   "outputs": [
    {
     "data": {
      "text/plain": [
       "[Three Wishes|1|1|ThreeWishes.mp4,\n",
       " What Did You Do Weekend|2|2|WhatDidYouDoWeekend.mp4,\n",
       " Laugh|3|3|Laugh.mp4,\n",
       " Virtual Museum|4|4|VirtualMuseum.mp4,\n",
       " Enjoy About Distance Learning|5|5|EnjoyAboutDistanceLearning.mp4,\n",
       " Feel Good|6|6|FeelGood.mp4,\n",
       " Virtual Dictitation|7|7|VirtualDictitation.mp4,\n",
       " True Story|8|8|TrueStory.mp4,\n",
       " Notice Wonder|9|9|NoticeWonder.mp4,\n",
       " Writing Plan|12|12|WritingPlan.mp4,\n",
       " GK_PC_BK_ Box4 Lines|13|13|GK_PC_BK_Box4Lines.pdf,\n",
       " Sketching Ideas|14|14|SketchingIdeas.mp4,\n",
       " Dictation|16|16|Dictation.mp4,\n",
       " Optional Dictation|18|18|OptionalDictation.mp4,\n",
       " imaging.seesaw.me|23|23|imaging.seesaw.me.png,\n",
       " Best Guess Spelling|24|24|BestGuessSpelling.mp4,\n",
       " Write Love Letter|25|25|WriteLoveLetter.mp4,\n",
       " Parent Write Review|26|26|ParentWriteReview.mp4,\n",
       " Review Writing|27|27|Review Writing.mp4,\n",
       " Writing A Review|28|28|WritingAReview.mp4]"
      ]
     },
     "execution_count": 32,
     "metadata": {},
     "output_type": "execute_result"
    }
   ],
   "source": [
    "unassignedForSubject(writing)\n",
    "    "
   ]
  },
  {
   "cell_type": "code",
   "execution_count": 33,
   "metadata": {},
   "outputs": [],
   "source": [
    "assignments = {}\n",
    "assignments[\"Topics\"] = [\"WriteLoveLetter.mp4\",\"WhatDidYouDoWeekend.mp4\",\n",
    "                         \"ThreeWishes.mp4\",\"NoticeWonder.mp4\",\"TrueStory.mp4\",\"Laugh.mp4\"]\n",
    "assignments[\"Technique\"] =  [\"VirtualDictitation.mp4\",\"WritingPlan.mp4\",\"BestGuessSpelling.mp4\",\n",
    "                             \"OptionalDictation.mp4\",\"SketchingIdeas.mp4\",\"Dictation.mp4\"]                   "
   ]
  },
  {
   "cell_type": "code",
   "execution_count": 34,
   "metadata": {},
   "outputs": [
    {
     "data": {
      "text/plain": [
       "(['VirtualMuseum.mp4',\n",
       "  'EnjoyAboutDistanceLearning.mp4',\n",
       "  'FeelGood.mp4',\n",
       "  'GK_PC_BK_Box4Lines.pdf',\n",
       "  'imaging.seesaw.me.png',\n",
       "  'ParentWriteReview.mp4',\n",
       "  'Review Writing.mp4',\n",
       "  'WritingAReview.mp4'],\n",
       " defaultdict(list,\n",
       "             {'How To ': [10, 11, 15, 17, 19, 20, 21, 22],\n",
       "              'Topics': [25, 2, 1, 9, 8, 3],\n",
       "              'Technique': [7, 12, 24, 18, 14, 16]}))"
      ]
     },
     "execution_count": 34,
     "metadata": {},
     "output_type": "execute_result"
    }
   ],
   "source": [
    "assignCategoriesToSubject(writing,assignments)\n",
    "[x.fileName for x in unassignedForSubject(writing)] ,writing.sequences  "
   ]
  },
  {
   "cell_type": "code",
   "execution_count": 35,
   "metadata": {},
   "outputs": [],
   "source": [
    "#hide\n",
    "guide.save()"
   ]
  },
  {
   "cell_type": "code",
   "execution_count": null,
   "metadata": {},
   "outputs": [],
   "source": []
  },
  {
   "cell_type": "code",
   "execution_count": 36,
   "metadata": {},
   "outputs": [
    {
     "data": {
      "text/plain": [
       "[Emotions|1|1|Emotions.mp4,\n",
       " Fillbucket|2|2|Fillbucket.mp4,\n",
       " Creative|3|3|Creative.mp4,\n",
       " Introducing Kimochis Bug|4|4|IntroducingKimochisBug.mp4,\n",
       " Gratitude|5|5|Gratitude.mp4,\n",
       " Gratitude 422|6|6|Gratitude 422.mp4,\n",
       " Gratitude.4.21|7|7|Gratitude.4.21.mp4,\n",
       " Sharing Picture|8|8|SharingPicture.mp4,\n",
       " Gratitude Tree|9|9|GratitudeTree.mp4,\n",
       " Kimochis Clovers Kindness|10|10|KimochisCloversKindness.mp4,\n",
       " Kimochis Clover|11|11|KimochisClover.mp4,\n",
       " Being Bravelike Kimochis Bug|12|12|BeingBravelikeKimochis Bug.mp4,\n",
       " Rain Shadow|13|13|RainShadow.mp4]"
      ]
     },
     "execution_count": 36,
     "metadata": {},
     "output_type": "execute_result"
    }
   ],
   "source": [
    "#hise\n",
    "eLearning = subjectWithName(cath,\"EmotionalLearning\")\n",
    "unassignedForSubject(eLearning)"
   ]
  },
  {
   "cell_type": "code",
   "execution_count": 37,
   "metadata": {},
   "outputs": [
    {
     "data": {
      "text/plain": [
       "defaultdict(list, {'Kimochis': [4, 10, 11, 12]})"
      ]
     },
     "execution_count": 37,
     "metadata": {},
     "output_type": "execute_result"
    }
   ],
   "source": [
    "eLearning.sequences[\"Kimochis\"] = assignLessonsWithName(eLearning,\"imochi\")\n",
    "eLearning.sequences"
   ]
  },
  {
   "cell_type": "code",
   "execution_count": null,
   "metadata": {},
   "outputs": [],
   "source": []
  },
  {
   "cell_type": "code",
   "execution_count": 38,
   "metadata": {},
   "outputs": [],
   "source": [
    "guide.save()"
   ]
  },
  {
   "cell_type": "code",
   "execution_count": null,
   "metadata": {},
   "outputs": [],
   "source": []
  },
  {
   "cell_type": "markdown",
   "metadata": {},
   "source": [
    "## Grouping by date"
   ]
  },
  {
   "cell_type": "code",
   "execution_count": 8,
   "metadata": {},
   "outputs": [],
   "source": [
    "guide = StudySystem(\"./data/programs.json\")\n",
    "guide.loadDirectory()\n",
    "cath = guide.programs[0]"
   ]
  },
  {
   "cell_type": "code",
   "execution_count": 9,
   "metadata": {},
   "outputs": [],
   "source": [
    "#export\n",
    "def initials(x):\n",
    "    ret = []\n",
    "    i = 0\n",
    "    addLower = False\n",
    "    for c in x:\n",
    "        i = i + 1\n",
    "        if c.isupper():\n",
    "            ret.append(c)\n",
    "            if i < len(x) and x[i].islower():\n",
    "                ret.append(x[i])\n",
    "                if i + 1 < len(x) and x[i+1].islower():\n",
    "                    ret.append(x[i+1])\n",
    "    return  \"\".join(ret)     "
   ]
  },
  {
   "cell_type": "code",
   "execution_count": 10,
   "metadata": {},
   "outputs": [
    {
     "name": "stdout",
     "output_type": "stream",
     "text": [
      "Rea Reading\n",
      "Mus Music\n",
      "Cha Chapel\n",
      "Sci Science\n",
      "HeaAndExe HealthAndExercise\n",
      "Sch Schedules\n",
      "Mat Math\n",
      "Min Mindful\n",
      "EmoLea EmotionalLearning\n",
      "Con Conners\n",
      "Wri Writing\n"
     ]
    }
   ],
   "source": [
    "#hide\n",
    "for x in cath.subjects:\n",
    "    print(initials(x.name),x.name)"
   ]
  },
  {
   "cell_type": "code",
   "execution_count": null,
   "metadata": {},
   "outputs": [],
   "source": []
  },
  {
   "cell_type": "code",
   "execution_count": 26,
   "metadata": {},
   "outputs": [],
   "source": [
    "#export\n",
    "def keyFromDate(d):\n",
    "    return str(d.year) + \".\" + str(100 + d.month) + \".\" + str(100 +d.day)\n",
    " \n",
    "\n",
    "def dataFromDate(aDate,less,res):\n",
    "    key = keyFromDate(aDate)\n",
    "    return {\"date\":aDate.strftime(\"%B %d, %Y\"),\"lessons\":less[key],\"resources\":res[key] }\n",
    " \n",
    "\n",
    "def dateGrid(prog,subject=\"\"):\n",
    "    allLessons = defaultdict(lambda: defaultdict(list))\n",
    "    resources = defaultdict(lambda: defaultdict(list))\n",
    "    \n",
    "\n",
    "    startDate = datetime(year=3000,month=1,day=1)\n",
    "    endDate = datetime(year=1900,month=1,day=1)\n",
    "    for y in prog.subjects:\n",
    "        if subject == \"\" or subject == y.name:\n",
    "            for z in y.lessons:\n",
    "                dt_object = datetime.fromtimestamp(z.modifyTime)\n",
    "                if dt_object < startDate:\n",
    "                    startDate = dt_object\n",
    "                if dt_object > endDate:\n",
    "                        endDate = dt_object\n",
    "                key = keyFromDate(dt_object)\n",
    "                if z.fileName.endswith(\".mp4\"): \n",
    "                    allLessons[key][y.name].append(z)\n",
    "                else:\n",
    "                    resources[key][y.name].append(z)\n",
    "                \n",
    "                \n",
    "    days = list(allLessons.keys())\n",
    "    days.sort()\n",
    "    \n",
    "    \n",
    "    currentDate = startDate\n",
    "    weeks=[]\n",
    "    currentWeek = []\n",
    "    delta = timedelta(days=1)\n",
    "\n",
    "\n",
    "    while keyFromDate(endDate) != keyFromDate(currentDate):\n",
    "        currentWeek.append(dataFromDate(currentDate,allLessons,res=resources))\n",
    "        if currentDate.strftime(\"%w\")==\"0\":\n",
    "            weeks.append(currentWeek)\n",
    "            currentWeek = []\n",
    "        currentDate += delta\n",
    "\n",
    "\n",
    "    currentWeek.append(dataFromDate(endDate,allLessons,res=resources))\n",
    "    weeks.append(currentWeek)\n",
    "    \n",
    "    return weeks\n",
    "\n",
    "\n",
    "\n"
   ]
  },
  {
   "cell_type": "code",
   "execution_count": null,
   "metadata": {},
   "outputs": [],
   "source": []
  },
  {
   "cell_type": "code",
   "execution_count": 28,
   "metadata": {},
   "outputs": [
    {
     "data": {
      "text/plain": [
       "[[{'date': 'April 22, 2020',\n",
       "   'lessons': defaultdict(list, {}),\n",
       "   'resources': defaultdict(list,\n",
       "               {'Math': [ColorByNumber.pdf|1|1|ColorByNumber.pdf]})},\n",
       "  {'date': 'April 23, 2020',\n",
       "   'lessons': defaultdict(list, {}),\n",
       "   'resources': defaultdict(list, {})},\n",
       "  {'date': 'April 24, 2020',\n",
       "   'lessons': defaultdict(list, {}),\n",
       "   'resources': defaultdict(list, {})},\n",
       "  {'date': 'April 25, 2020',\n",
       "   'lessons': defaultdict(list, {}),\n",
       "   'resources': defaultdict(list, {})},\n",
       "  {'date': 'April 26, 2020',\n",
       "   'lessons': defaultdict(list, {}),\n",
       "   'resources': defaultdict(list, {})}],\n",
       " [{'date': 'April 27, 2020',\n",
       "   'lessons': defaultdict(list,\n",
       "               {'Math': [tenFrameCards.mp4|2|2|tenFrameCards.mp4]}),\n",
       "   'resources': defaultdict(list,\n",
       "               {'Math': [Grade0AoD_Week5Day2_WODB-SampleResponses - Google Docs.pdf|3|3|Grade0AoD_Week5Day2_WODB-SampleResponses - Google Docs.pdf,\n",
       "                 double ten frame cards.pdf|4|4|double ten frame cards.pdf]})},\n",
       "  {'date': 'April 28, 2020',\n",
       "   'lessons': defaultdict(list, {}),\n",
       "   'resources': defaultdict(list, {'Math': [k6.1.pdf|5|5|k6.1.pdf]})},\n",
       "  {'date': 'April 29, 2020',\n",
       "   'lessons': defaultdict(list, {}),\n",
       "   'resources': defaultdict(list,\n",
       "               {'Math': [KinderBridges-HomeLearning-Unit5Mod1.pdf|6|6|KinderBridges-HomeLearning-Unit5Mod1.pdf,\n",
       "                 POD April 29th.pdf|7|7|POD April 29th.pdf]})},\n",
       "  {'date': 'April 30, 2020',\n",
       "   'lessons': defaultdict(list, {}),\n",
       "   'resources': defaultdict(list,\n",
       "               {'Math': [GradePKAoD_Week5Day5_MiOW.pdf|8|8|GradePKAoD_Week5Day5_MiOW.pdf]})},\n",
       "  {'date': 'May 01, 2020',\n",
       "   'lessons': defaultdict(list, {}),\n",
       "   'resources': defaultdict(list, {})},\n",
       "  {'date': 'May 02, 2020',\n",
       "   'lessons': defaultdict(list, {}),\n",
       "   'resources': defaultdict(list, {})},\n",
       "  {'date': 'May 03, 2020',\n",
       "   'lessons': defaultdict(list, {}),\n",
       "   'resources': defaultdict(list, {})}],\n",
       " [{'date': 'May 04, 2020',\n",
       "   'lessons': defaultdict(list, {}),\n",
       "   'resources': defaultdict(list,\n",
       "               {'Math': [spoons.pdf|9|9|spoons.pdf,\n",
       "                 ku6m3.pdf|10|10|ku6m3.pdf]})},\n",
       "  {'date': 'May 05, 2020',\n",
       "   'lessons': defaultdict(list, {}),\n",
       "   'resources': defaultdict(list, {})},\n",
       "  {'date': 'May 06, 2020',\n",
       "   'lessons': defaultdict(list, {}),\n",
       "   'resources': defaultdict(list,\n",
       "               {'Math': [WhatComesNext.pdf|11|11|WhatComesNext.pdf]})},\n",
       "  {'date': 'May 07, 2020',\n",
       "   'lessons': defaultdict(list, {}),\n",
       "   'resources': defaultdict(list,\n",
       "               {'Math': [14NumberOfDay.pdf|12|12|14NumberOfDay.pdf]})},\n",
       "  {'date': 'May 08, 2020',\n",
       "   'lessons': defaultdict(list, {}),\n",
       "   'resources': defaultdict(list, {'Math': [HowMany.pdf|13|13|HowMany.pdf]})},\n",
       "  {'date': 'May 09, 2020',\n",
       "   'lessons': defaultdict(list, {}),\n",
       "   'resources': defaultdict(list, {})},\n",
       "  {'date': 'May 10, 2020',\n",
       "   'lessons': defaultdict(list, {}),\n",
       "   'resources': defaultdict(list, {})}],\n",
       " [{'date': 'May 11, 2020',\n",
       "   'lessons': defaultdict(list, {}),\n",
       "   'resources': defaultdict(list,\n",
       "               {'Math': [MathHowMany.pdf|14|14|MathHowMany.pdf]})},\n",
       "  {'date': 'May 12, 2020',\n",
       "   'lessons': defaultdict(list, {}),\n",
       "   'resources': defaultdict(list, {})},\n",
       "  {'date': 'May 13, 2020',\n",
       "   'lessons': defaultdict(list, {}),\n",
       "   'resources': defaultdict(list,\n",
       "               {'Math': [DoubleTenFrames.pdf|15|15|DoubleTenFrames.pdf]})}]]"
      ]
     },
     "execution_count": 28,
     "metadata": {},
     "output_type": "execute_result"
    }
   ],
   "source": [
    "#hide\n",
    "weeks = dateGrid(cath)\n",
    "readGrid = dateGrid(cath,subject='Math')\n",
    "readGrid"
   ]
  },
  {
   "cell_type": "code",
   "execution_count": null,
   "metadata": {},
   "outputs": [],
   "source": [
    "      \n",
    "                 "
   ]
  },
  {
   "cell_type": "code",
   "execution_count": null,
   "metadata": {},
   "outputs": [],
   "source": []
  }
 ],
 "metadata": {
  "kernelspec": {
   "display_name": "Python 3",
   "language": "python",
   "name": "python3"
  },
  "language_info": {
   "codemirror_mode": {
    "name": "ipython",
    "version": 3
   },
   "file_extension": ".py",
   "mimetype": "text/x-python",
   "name": "python",
   "nbconvert_exporter": "python",
   "pygments_lexer": "ipython3",
   "version": "3.8.2"
  }
 },
 "nbformat": 4,
 "nbformat_minor": 4
}
