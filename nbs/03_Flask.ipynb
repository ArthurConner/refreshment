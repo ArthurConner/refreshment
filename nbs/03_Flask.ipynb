{
 "cells": [
  {
   "cell_type": "code",
   "execution_count": null,
   "metadata": {},
   "outputs": [],
   "source": [
    "# default_exp flask"
   ]
  },
  {
   "cell_type": "markdown",
   "metadata": {},
   "source": [
    "# Processing the files \n",
    "\n",
    "> API details."
   ]
  },
  {
   "cell_type": "code",
   "execution_count": 2,
   "metadata": {},
   "outputs": [],
   "source": [
    "%load_ext autoreload\n",
    "%autoreload 2\n",
    "\n",
    "%matplotlib inline"
   ]
  },
  {
   "cell_type": "code",
   "execution_count": 3,
   "metadata": {},
   "outputs": [],
   "source": [
    "#export\n",
    "import os\n",
    "import sys\n",
    "import pandas as pd\n",
    "import re"
   ]
  },
  {
   "cell_type": "code",
   "execution_count": 4,
   "metadata": {},
   "outputs": [],
   "source": [
    "#hide\n",
    "from nbdev.showdoc import *\n",
    "\n",
    "cPath = os.path.dirname(os.getcwd())\n",
    "cPath\n",
    "sys.path.insert(0,cPath)"
   ]
  },
  {
   "cell_type": "code",
   "execution_count": 5,
   "metadata": {},
   "outputs": [],
   "source": [
    "#export\n",
    "from refreshment.School import StudySystem\n",
    "from refreshment.Program import Program, Subject, Record, Lesson"
   ]
  },
  {
   "cell_type": "code",
   "execution_count": 6,
   "metadata": {},
   "outputs": [
    {
     "data": {
      "text/plain": [
       "StudySystem|1|1"
      ]
     },
     "execution_count": 6,
     "metadata": {},
     "output_type": "execute_result"
    }
   ],
   "source": [
    "#hide\n",
    "guide = StudySystem()\n",
    "for x in guide.programs:\n",
    "    print(x.name)\n",
    "guide"
   ]
  },
  {
   "cell_type": "code",
   "execution_count": 7,
   "metadata": {},
   "outputs": [
    {
     "name": "stdout",
     "output_type": "stream",
     "text": [
      "Cathedral\n",
      "\"Cathedral\",\"Reading\"\n",
      "\"Cathedral\",\"Music\"\n",
      "\"Cathedral\",\"Chapel\"\n",
      "\"Cathedral\",\"HealthAndExercise\"\n",
      "\"Cathedral\",\"Shedules\"\n",
      "\"Cathedral\",\"Math\"\n",
      "\"Cathedral\",\"Mindful\"\n",
      "\"Cathedral\",\"Specialist\"\n",
      "\"Cathedral\",\"Emotion\"\n",
      "\"Cathedral\",\"Conners\"\n",
      "\"Cathedral\",\"Writing\"\n"
     ]
    }
   ],
   "source": [
    "#hide\n",
    "guide = StudySystem.load(\"./data/programs.json\")\n",
    "for x in guide.programs:\n",
    "    print(x.name)\n",
    "    for y in x.subjects:\n",
    "        print(\"\\\"\" + x.name + \"\\\",\\\"\" + y.name + \"\\\"\")\n",
    "        \n"
   ]
  },
  {
   "cell_type": "code",
   "execution_count": 8,
   "metadata": {},
   "outputs": [],
   "source": [
    "#hide\n",
    "#guide = StudySystem(\"./data/programs.json\")\n",
    "#guide.loadDirectory()"
   ]
  },
  {
   "cell_type": "code",
   "execution_count": 9,
   "metadata": {},
   "outputs": [
    {
     "ename": "NameError",
     "evalue": "name 'subjectFromPath' is not defined",
     "output_type": "error",
     "traceback": [
      "\u001b[0;31m---------------------------------------------------------------------------\u001b[0m",
      "\u001b[0;31mNameError\u001b[0m                                 Traceback (most recent call last)",
      "\u001b[0;32m<ipython-input-9-2984bd6d3ca3>\u001b[0m in \u001b[0;36m<module>\u001b[0;34m\u001b[0m\n\u001b[1;32m      1\u001b[0m \u001b[0;31m#hide\u001b[0m\u001b[0;34m\u001b[0m\u001b[0;34m\u001b[0m\u001b[0;34m\u001b[0m\u001b[0m\n\u001b[0;32m----> 2\u001b[0;31m \u001b[0mmindful\u001b[0m \u001b[0;34m=\u001b[0m \u001b[0msubjectFromPath\u001b[0m\u001b[0;34m(\u001b[0m\u001b[0;34m\"Cathedral\"\u001b[0m\u001b[0;34m,\u001b[0m\u001b[0;34m\"Mindful\"\u001b[0m\u001b[0;34m,\u001b[0m\u001b[0mguide\u001b[0m\u001b[0;34m.\u001b[0m\u001b[0mprograms\u001b[0m\u001b[0;34m)\u001b[0m\u001b[0;34m\u001b[0m\u001b[0;34m\u001b[0m\u001b[0m\n\u001b[0m\u001b[1;32m      3\u001b[0m \u001b[0;32mdef\u001b[0m \u001b[0mcleanLesson\u001b[0m\u001b[0;34m(\u001b[0m\u001b[0mless\u001b[0m\u001b[0;34m)\u001b[0m\u001b[0;34m:\u001b[0m\u001b[0;34m\u001b[0m\u001b[0;34m\u001b[0m\u001b[0m\n\u001b[1;32m      4\u001b[0m     \u001b[0;32mfor\u001b[0m \u001b[0ml\u001b[0m \u001b[0;32min\u001b[0m \u001b[0mless\u001b[0m\u001b[0;34m.\u001b[0m\u001b[0mlessons\u001b[0m\u001b[0;34m:\u001b[0m\u001b[0;34m\u001b[0m\u001b[0;34m\u001b[0m\u001b[0m\n\u001b[1;32m      5\u001b[0m \u001b[0;34m\u001b[0m\u001b[0m\n",
      "\u001b[0;31mNameError\u001b[0m: name 'subjectFromPath' is not defined"
     ]
    }
   ],
   "source": [
    "#hide\n",
    "mindful = subjectFromPath(\"Cathedral\",\"Mindful\",guide.programs)\n",
    "def cleanLesson(less):\n",
    "    for l in less.lessons:\n",
    "\n",
    "        label = re.sub(r'((?<=[a-z])[A-Z]|(?<!\\A)[A-Z](?=[a-z]))', r' \\1', l.fileName)\n",
    "        if label[-4] == \".\":\n",
    "            label = label[:-4]\n",
    "        label = re.sub(' +', ' ', label)\n",
    "        if l.name == l.fileName:\n",
    "            l.name = label\n",
    "\n",
    "cleanLesson(mindful) \n",
    "mindful.toDict()"
   ]
  },
  {
   "cell_type": "code",
   "execution_count": null,
   "metadata": {},
   "outputs": [],
   "source": [
    "#hide\n",
    "guide.save()\n",
    "guide = StudySystem.load(\"./data/programs.json\")\n",
    "mindful = subjectFromPath(\"Cathedral\",\"Mindful\",guide.programs)\n",
    "for l in mindful.lessons:\n",
    "    print(l.key,l.fileName,l.name)"
   ]
  },
  {
   "cell_type": "code",
   "execution_count": null,
   "metadata": {},
   "outputs": [],
   "source": [
    "#hide\n",
    "for x in guide.programs:\n",
    "    for y in x.subjects:\n",
    "        cleanLesson(y)\n",
    "guide.save()"
   ]
  },
  {
   "cell_type": "code",
   "execution_count": null,
   "metadata": {},
   "outputs": [],
   "source": []
  },
  {
   "cell_type": "code",
   "execution_count": null,
   "metadata": {},
   "outputs": [],
   "source": []
  }
 ],
 "metadata": {
  "kernelspec": {
   "display_name": "Python 3",
   "language": "python",
   "name": "python3"
  },
  "language_info": {
   "codemirror_mode": {
    "name": "ipython",
    "version": 3
   },
   "file_extension": ".py",
   "mimetype": "text/x-python",
   "name": "python",
   "nbconvert_exporter": "python",
   "pygments_lexer": "ipython3",
   "version": "3.8.2"
  }
 },
 "nbformat": 4,
 "nbformat_minor": 4
}
