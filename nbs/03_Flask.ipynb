{
 "cells": [
  {
   "cell_type": "code",
   "execution_count": 1,
   "metadata": {},
   "outputs": [],
   "source": [
    "# default_exp munge"
   ]
  },
  {
   "cell_type": "markdown",
   "metadata": {},
   "source": [
    "# Processing the files \n",
    "\n",
    "> API details."
   ]
  },
  {
   "cell_type": "code",
   "execution_count": 2,
   "metadata": {},
   "outputs": [],
   "source": [
    "%load_ext autoreload\n",
    "%autoreload 2\n",
    "\n",
    "%matplotlib inline"
   ]
  },
  {
   "cell_type": "code",
   "execution_count": 22,
   "metadata": {},
   "outputs": [],
   "source": [
    "#export\n",
    "import os\n",
    "import sys\n",
    "import pandas as pd\n",
    "import re"
   ]
  },
  {
   "cell_type": "code",
   "execution_count": 4,
   "metadata": {},
   "outputs": [],
   "source": [
    "#hide\n",
    "from nbdev.showdoc import *\n",
    "\n",
    "cPath = os.path.dirname(os.getcwd())\n",
    "cPath\n",
    "sys.path.insert(0,cPath)"
   ]
  },
  {
   "cell_type": "code",
   "execution_count": 14,
   "metadata": {},
   "outputs": [],
   "source": [
    "#export\n",
    "from refreshment.School import StudySystem\n",
    "from refreshment.Program import Program, Subject, Record, Lesson"
   ]
  },
  {
   "cell_type": "code",
   "execution_count": 15,
   "metadata": {},
   "outputs": [
    {
     "data": {
      "text/plain": [
       "StudySystem|1|1"
      ]
     },
     "execution_count": 15,
     "metadata": {},
     "output_type": "execute_result"
    }
   ],
   "source": [
    "#hide\n",
    "guide = StudySystem()\n",
    "for x in guide.programs:\n",
    "    print(x.name)\n",
    "guide"
   ]
  },
  {
   "cell_type": "code",
   "execution_count": 39,
   "metadata": {},
   "outputs": [
    {
     "name": "stdout",
     "output_type": "stream",
     "text": [
      "Cathedral\n",
      "\"Cathedral\",\"Mindful\"\n"
     ]
    }
   ],
   "source": [
    "#hide\n",
    "guide = StudySystem.load(\"./data/programs.json\")\n",
    "for x in guide.programs:\n",
    "    print(x.name)\n",
    "    for y in x.subjects:\n",
    "        print(\"\\\"\" + x.name + \"\\\",\\\"\" + y.name + \"\\\"\")\n",
    "        \n"
   ]
  },
  {
   "cell_type": "code",
   "execution_count": 45,
   "metadata": {},
   "outputs": [],
   "source": [
    "#hide\n",
    "#guide = StudySystem(\"./data/programs.json\")\n",
    "#guide.loadDirectory()"
   ]
  },
  {
   "cell_type": "code",
   "execution_count": 42,
   "metadata": {},
   "outputs": [
    {
     "data": {
      "text/plain": [
       "{'key': 'Mindful|0|0',\n",
       " 'lessons': [{'key': 'Belly Breath|1|1|BellyBreath.mp4',\n",
       "   'modifyTime': 1585844372.0,\n",
       "   'requirements': [],\n",
       "   'nextLesson': [],\n",
       "   'tags': []},\n",
       "  {'key': 'Chill Song|2|2|ChillSong.mp4',\n",
       "   'modifyTime': 1585844573.0,\n",
       "   'requirements': [],\n",
       "   'nextLesson': [],\n",
       "   'tags': []},\n",
       "  {'key': 'Inhale Universe|3|3|InhaleUniverse.mp4',\n",
       "   'modifyTime': 1585850454.0,\n",
       "   'requirements': [],\n",
       "   'nextLesson': [],\n",
       "   'tags': []},\n",
       "  {'key': 'candle|4|4|candle.mp4',\n",
       "   'modifyTime': 1585850497.0,\n",
       "   'requirements': [],\n",
       "   'nextLesson': [],\n",
       "   'tags': []},\n",
       "  {'key': 'Tree|5|5|Tree.mp4',\n",
       "   'modifyTime': 1585850954.0,\n",
       "   'requirements': [],\n",
       "   'nextLesson': [],\n",
       "   'tags': []},\n",
       "  {'key': 'Silent Moment|6|6|SilentMoment.mp4',\n",
       "   'modifyTime': 1586187483.5847385,\n",
       "   'requirements': [],\n",
       "   'nextLesson': [],\n",
       "   'tags': []},\n",
       "  {'key': 'legswall|7|7|legswall.mp4',\n",
       "   'modifyTime': 1586273534.3305132,\n",
       "   'requirements': [],\n",
       "   'nextLesson': [],\n",
       "   'tags': []},\n",
       "  {'key': 'Loving Kindness|8|8|LovingKindness.mp4',\n",
       "   'modifyTime': 1586359549.2449093,\n",
       "   'requirements': [],\n",
       "   'nextLesson': [],\n",
       "   'tags': []},\n",
       "  {'key': 'Get Outside|9|9|GetOutside.mp4',\n",
       "   'modifyTime': 1586444996.3638506,\n",
       "   'requirements': [],\n",
       "   'nextLesson': [],\n",
       "   'tags': []},\n",
       "  {'key': 'Mind Castle|10|10|MindCastle.mp4',\n",
       "   'modifyTime': 1587573500.2164845,\n",
       "   'requirements': [],\n",
       "   'nextLesson': [],\n",
       "   'tags': []},\n",
       "  {'key': 'Mind Bubbles|11|11|MindBubbles.mp4',\n",
       "   'modifyTime': 1587573749.5938618,\n",
       "   'requirements': [],\n",
       "   'nextLesson': [],\n",
       "   'tags': []},\n",
       "  {'key': 'Balanced Breathing|12|12|BalancedBreathing.mp4',\n",
       "   'modifyTime': 1587656435.7181826,\n",
       "   'requirements': [],\n",
       "   'nextLesson': [],\n",
       "   'tags': []},\n",
       "  {'key': 'Sunrise Breaths|13|13|SunriseBreaths.mp4',\n",
       "   'modifyTime': 1587744164.3250923,\n",
       "   'requirements': [],\n",
       "   'nextLesson': [],\n",
       "   'tags': []},\n",
       "  {'key': 'Sun Salutations|14|14|SunSalutations.mp4',\n",
       "   'modifyTime': 1588008544.7799766,\n",
       "   'requirements': [],\n",
       "   'nextLesson': [],\n",
       "   'tags': []},\n",
       "  {'key': 'Lions Breath|15|15|LionsBreath.mp4',\n",
       "   'modifyTime': 1588205159.878294,\n",
       "   'requirements': [],\n",
       "   'nextLesson': [],\n",
       "   'tags': []},\n",
       "  {'key': 'Figure8|16|16|Figure8.mp4',\n",
       "   'modifyTime': 1588205255.2920933,\n",
       "   'requirements': [],\n",
       "   'nextLesson': [],\n",
       "   'tags': []},\n",
       "  {'key': 'Folding Flower|17|17|FoldingFlower.mp4',\n",
       "   'modifyTime': 1588605607.038485,\n",
       "   'requirements': [],\n",
       "   'nextLesson': [],\n",
       "   'tags': []}]}"
      ]
     },
     "execution_count": 42,
     "metadata": {},
     "output_type": "execute_result"
    }
   ],
   "source": [
    "#hide\n",
    "mindful = subjectFromPath(\"Cathedral\",\"Mindful\",guide.programs)\n",
    "def cleanLesson(less):\n",
    "    for l in less.lessons:\n",
    "\n",
    "        label = re.sub(r'((?<=[a-z])[A-Z]|(?<!\\A)[A-Z](?=[a-z]))', r' \\1', l.fileName)\n",
    "        if label[-4] == \".\":\n",
    "            label = label[:-4]\n",
    "        label = re.sub(' +', ' ', label)\n",
    "        if l.name == l.fileName:\n",
    "            l.name = label\n",
    "\n",
    "cleanLesson(mindful) \n",
    "mindful.toDict()"
   ]
  },
  {
   "cell_type": "code",
   "execution_count": 43,
   "metadata": {},
   "outputs": [
    {
     "name": "stdout",
     "output_type": "stream",
     "text": [
      "1 BellyBreath.mp4 Belly Breath\n",
      "2 ChillSong.mp4 Chill Song\n",
      "3 InhaleUniverse.mp4 Inhale Universe\n",
      "4 candle.mp4 candle\n",
      "5 Tree.mp4 Tree\n",
      "6 SilentMoment.mp4 Silent Moment\n",
      "7 legswall.mp4 legswall\n",
      "8 LovingKindness.mp4 Loving Kindness\n",
      "9 GetOutside.mp4 Get Outside\n",
      "10 MindCastle.mp4 Mind Castle\n",
      "11 MindBubbles.mp4 Mind Bubbles\n",
      "12 BalancedBreathing.mp4 Balanced Breathing\n",
      "13 SunriseBreaths.mp4 Sunrise Breaths\n",
      "14 SunSalutations.mp4 Sun Salutations\n",
      "15 LionsBreath.mp4 Lions Breath\n",
      "16 Figure8.mp4 Figure8\n",
      "17 FoldingFlower.mp4 Folding Flower\n"
     ]
    }
   ],
   "source": [
    "#hide\n",
    "guide.save()\n",
    "guide = StudySystem.load(\"./data/programs.json\")\n",
    "mindful = subjectFromPath(\"Cathedral\",\"Mindful\",guide.programs)\n",
    "for l in mindful.lessons:\n",
    "    print(l.key,l.fileName,l.name)"
   ]
  },
  {
   "cell_type": "code",
   "execution_count": 46,
   "metadata": {},
   "outputs": [],
   "source": [
    "#hide\n",
    "for x in guide.programs:\n",
    "    for y in x.subjects:\n",
    "        cleanLesson(y)\n",
    "guide.save()"
   ]
  },
  {
   "cell_type": "code",
   "execution_count": null,
   "metadata": {},
   "outputs": [],
   "source": []
  },
  {
   "cell_type": "code",
   "execution_count": null,
   "metadata": {},
   "outputs": [],
   "source": []
  }
 ],
 "metadata": {
  "kernelspec": {
   "display_name": "Python 3",
   "language": "python",
   "name": "python3"
  },
  "language_info": {
   "codemirror_mode": {
    "name": "ipython",
    "version": 3
   },
   "file_extension": ".py",
   "mimetype": "text/x-python",
   "name": "python",
   "nbconvert_exporter": "python",
   "pygments_lexer": "ipython3",
   "version": "3.8.2"
  }
 },
 "nbformat": 4,
 "nbformat_minor": 4
}
