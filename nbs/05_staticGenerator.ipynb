{
 "cells": [
  {
   "cell_type": "code",
   "execution_count": null,
   "metadata": {},
   "outputs": [],
   "source": [
    "# default_exp Web"
   ]
  },
  {
   "cell_type": "code",
   "execution_count": 2,
   "metadata": {},
   "outputs": [],
   "source": [
    "%load_ext autoreload\n",
    "%autoreload 2\n",
    "\n",
    "%matplotlib inline"
   ]
  },
  {
   "cell_type": "code",
   "execution_count": 3,
   "metadata": {},
   "outputs": [],
   "source": [
    "#export\n",
    "import os\n",
    "import sys\n",
    "from jinja2 import Environment, FileSystemLoader, Template"
   ]
  },
  {
   "cell_type": "markdown",
   "metadata": {},
   "source": [
    "# Web functions \n",
    "\n",
    "> API details."
   ]
  },
  {
   "cell_type": "code",
   "execution_count": 4,
   "metadata": {},
   "outputs": [],
   "source": [
    "#hide\n",
    "from nbdev.showdoc import *\n",
    "\n",
    "cPath = os.path.dirname(os.getcwd())\n",
    "cPath\n",
    "sys.path.insert(0,cPath)"
   ]
  },
  {
   "cell_type": "code",
   "execution_count": null,
   "metadata": {},
   "outputs": [],
   "source": []
  },
  {
   "cell_type": "code",
   "execution_count": 5,
   "metadata": {},
   "outputs": [],
   "source": [
    "#export\n",
    "from refreshment.School import StudySystem\n",
    "from refreshment.Program import Program, Subject, Record, Lesson"
   ]
  },
  {
   "cell_type": "code",
   "execution_count": 6,
   "metadata": {},
   "outputs": [
    {
     "name": "stdout",
     "output_type": "stream",
     "text": [
      "Cathedral\n",
      "\"Cathedral\",\"Reading\"\n",
      "\"Cathedral\",\"Music\"\n",
      "\"Cathedral\",\"Chapel\"\n",
      "\"Cathedral\",\"HealthAndExercise\"\n",
      "\"Cathedral\",\"Shedules\"\n",
      "\"Cathedral\",\"Math\"\n",
      "\"Cathedral\",\"Mindful\"\n",
      "\"Cathedral\",\"Specialist\"\n",
      "\"Cathedral\",\"Emotion\"\n",
      "\"Cathedral\",\"Conners\"\n",
      "\"Cathedral\",\"Writing\"\n"
     ]
    }
   ],
   "source": [
    "#hide\n",
    "guide = StudySystem.load(\"./data/programs.json\")\n",
    "for x in guide.programs:\n",
    "    print(x.name)\n",
    "    for y in x.subjects:\n",
    "        print(\"\\\"\" + x.name + \"\\\",\\\"\" + y.name + \"\\\"\")"
   ]
  },
  {
   "cell_type": "code",
   "execution_count": 7,
   "metadata": {},
   "outputs": [
    {
     "data": {
      "text/plain": [
       "[Chapel; [No Robbers|1|1|NoRobbers.mp4,CSB Lower School Distance Chapel April 7th, 2020|2|2|CSB Lower School Distance Chapel April 7th, 2020.mp4,CSB Lower School Distance Chapel April 21st, 2020|3|3|CSB Lower School Distance Chapel April 21st, 2020.mp4,CSB Lower School Distance Chapel April 28th, 2020|4|4|CSB Lower School Distance Chapel April 28th, 2020.mp4,CSB Lower School Distance Chapel May 5th, 2020|5|5|CSB Lower School Distance Chapel May 5th, 2020.mp4],\n",
       " Conners; [Edward C Class Code|1|1|Edward C Class Code.pdf]]"
      ]
     },
     "execution_count": 7,
     "metadata": {},
     "output_type": "execute_result"
    }
   ],
   "source": [
    "cath = guide.programs[0]\n",
    "foo = cath.subjects\n",
    "sorted(foo, key=lambda x: x.name)[:2]"
   ]
  },
  {
   "cell_type": "code",
   "execution_count": 8,
   "metadata": {},
   "outputs": [
    {
     "data": {
      "text/plain": [
       "'Hello Cathedral!'"
      ]
     },
     "execution_count": 8,
     "metadata": {},
     "output_type": "execute_result"
    }
   ],
   "source": [
    "template = Template('Hello {{ name }}!')\n",
    "template.render(name=cath.name)"
   ]
  },
  {
   "cell_type": "code",
   "execution_count": 39,
   "metadata": {},
   "outputs": [],
   "source": [
    "#export\n",
    "\n",
    "class Render:\n",
    "    def __init__(self, program, dir=\"../../web\",template = \"../templates\"):\n",
    "        self.program = program\n",
    "        self.outputdir = os.path.join(dir,program.name)\n",
    "        self.template = template\n",
    "        \n",
    "        self.file_loader = FileSystemLoader(self.template)\n",
    "        self.env = Environment(loader=self.file_loader)\n",
    "\n",
    "        \n",
    "    def basePath(self):\n",
    "        return self.outputdir\n",
    "     \n",
    "    def renderSubject(self,sub):\n",
    "        template = self.env.get_template(\"subject.html\")\n",
    "        videos = [x for x in sub.lessons if x.fileName.endswith(\".mp4\")] \n",
    "        resources = [x for x in sub.lessons if not x.fileName.endswith(\".mp4\")]\n",
    "        output = template.render(item=sub,videos=videos,res=resources)\n",
    "        subDir = os.path.join(self.outputdir,sub.name)\n",
    "        \n",
    "        if not os.path.exists(subDir):\n",
    "            os.mkdir(subDir)\n",
    "        f = open(os.path.join(subDir,\"index.html\"), \"w\")\n",
    "        f.write(output)\n",
    "        \n",
    "    def renderSchool(self):\n",
    "        \n",
    "        foo = cath.subjects\n",
    "        seq = sorted(foo, key=lambda x: x.name)\n",
    "\n",
    "        for x in seq:\n",
    "            self.renderSubject(x)\n",
    "            \n",
    "        template = self.env.get_template(\"school.html\")\n",
    "        output = template.render(name=self.program.name,seq=seq)\n",
    "        \n",
    "        f = open(os.path.join(self.outputdir,\"index.html\"), \"w\")\n",
    "        f.write(output)\n",
    "        f.close()\n"
   ]
  },
  {
   "cell_type": "code",
   "execution_count": 40,
   "metadata": {},
   "outputs": [],
   "source": [
    "baseRender = Render(cath)\n",
    "baseRender.renderSchool()\n",
    "#style = \"background-color: #ABAD9E;\""
   ]
  }
 ],
 "metadata": {
  "kernelspec": {
   "display_name": "Python 3",
   "language": "python",
   "name": "python3"
  },
  "language_info": {
   "codemirror_mode": {
    "name": "ipython",
    "version": 3
   },
   "file_extension": ".py",
   "mimetype": "text/x-python",
   "name": "python",
   "nbconvert_exporter": "python",
   "pygments_lexer": "ipython3",
   "version": "3.8.2"
  }
 },
 "nbformat": 4,
 "nbformat_minor": 4
}
