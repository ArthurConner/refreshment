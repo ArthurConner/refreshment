{
 "cells": [
  {
   "cell_type": "code",
   "execution_count": 1,
   "metadata": {},
   "outputs": [],
   "source": [
    "# default_exp Web"
   ]
  },
  {
   "cell_type": "code",
   "execution_count": 2,
   "metadata": {},
   "outputs": [],
   "source": [
    "%load_ext autoreload\n",
    "%autoreload 2\n",
    "\n",
    "%matplotlib inline"
   ]
  },
  {
   "cell_type": "code",
   "execution_count": 3,
   "metadata": {},
   "outputs": [],
   "source": [
    "#export\n",
    "import os\n",
    "import sys\n",
    "from jinja2 import Environment, FileSystemLoader, Template"
   ]
  },
  {
   "cell_type": "markdown",
   "metadata": {},
   "source": [
    "# Web functions \n",
    "\n",
    "> API details."
   ]
  },
  {
   "cell_type": "code",
   "execution_count": 4,
   "metadata": {},
   "outputs": [],
   "source": [
    "#hide\n",
    "from nbdev.showdoc import *\n",
    "\n",
    "cPath = os.path.dirname(os.getcwd())\n",
    "cPath\n",
    "sys.path.insert(0,cPath)"
   ]
  },
  {
   "cell_type": "code",
   "execution_count": null,
   "metadata": {},
   "outputs": [],
   "source": []
  },
  {
   "cell_type": "code",
   "execution_count": 5,
   "metadata": {},
   "outputs": [],
   "source": [
    "#export\n",
    "from refreshment.School import StudySystem"
   ]
  },
  {
   "cell_type": "code",
   "execution_count": 6,
   "metadata": {},
   "outputs": [
    {
     "data": {
      "text/plain": [
       "{'Cathedral': Cathedral\n",
       "  [Chapel; [CSB Lower School Distance Chapel April 21st, 2020.mp4, CSB Lower School Distance Chapel April 28th, 2020.mp4, CSB Lower School Distance Chapel April 7th, 2020.mp4, NoRobbers.mp4]\n",
       " Conners; [Edward C Class Code.pdf]\n",
       " Emotion; [Grat.4.21.mp4, Grat.422.mp4, KimochisBug.mp4, SharingPicture.mp4, creative.mp4, emotions.mp4, fillbucket.mp4, grattitude.mp4]\n",
       " HealthAndExercise; [Animal warmup 1.mp4, FullSizeRender.mp4, MakeBed.mp4, joke.mp4, lower body_core workout pe.mp4]\n",
       " Math; [ColorByNumber.pdf, Grade0AoD_Week5Day2_WODB-SampleResponses - Google Docs.pdf, KinderBridges-HomeLearning-Unit5Mod1.pdf, POD April 29th.pdf, double ten frame cards.pdf, k6.1.pdf, tenFrameCards.mp4]\n",
       " Mindful; [BalancedBreathing.mp4, BellyBreath.mp4, ChillSong.mp4, GetOutside.mp4, InhaleUniverse.mp4, MindBubbles.mp4, MindCastle.mp4, SunSalutations.mp4, SunriseBreaths.mp4, Tree.mp4, candlemp4.mp4, legswall.mp4, lovingkindness.mp4, silentmoment.mp4, writingplan.mp4]\n",
       " Music; [Kindergarten Music Lesson 05 - Good Night Robbers & Quakers.mp4, Lemonade.mp4, LittleLightOfMine.mp4, NoExcuse.mp4, Spotlight on Music 02 - Ludwig Van Beethoven.mp4]\n",
       " Reading; [5sightwords.mp4, AmosMcGee.mp4, FantasticElasticBrain.mp4, Fortunately.mp4, HowToBabySitAGrandPa.mp4, LetterEScanegerHunt.mp4, LetterS.mp4, LittleBlueTrucj.mp4, MOWiliiams.mp4, ReadAloud.mp4, ReadingFromHome.mp4, ShSound.mp4, SnapByFor.mp4, ThreePart.03.25.mp4, ThreePart.03.31.mp4, ThreePart.04.21.mp4, ThreePartDrill.4.23.20.mp4, VisitMusem.mp4, achairformymother.mp4, conceptE.mp4, davidtellsjoke.mp4, frogtoad.mp4, snapwordsmemory..mp4, th_sound.mp4, threepart.4.28.mp4, threepart.4.7.20.mp4, truestory.mp4, whatbooks.mp4]\n",
       " Shedules; [April 27, 2020.pdf, April 28-29, 2020.pdf, Cathedral's Lower School Spring Break Schedule.pdf, Edward C Class Code copy.pdf, InventorScavengerHunt.mp4, Kindergarten Schedule 4_20_20.pdf, Kindergarten Schedule 4_26_20.pdf, Kindergarten Schedule 4_6-4_9 copy.pdf, Kindergarten, April 20th, 2020.pdf]\n",
       " Specialist; [Biomes.mp4]\n",
       " Writing; [CoverBook.mp4, Dictation.mp4, EditingWorkBook.mp4, EnjoyaboutDistanceLearning.mp4, FeelGood.mp4, HowToDetails.mp4, Laugh.mp4, NoticeWonder.mp4, PlannigHowToBook.mp4, SketchingIdeas.mp4, ThreeWishes.mp4, TrueStory.mp4, VirtualDictitation.mp4, VirtualMuseum.mp4, WhatDidYouDoWeekend.mp4, optionalDictation.mp4, teach.mp4]],\n",
       " 'Web': Web\n",
       "  [Cathedral; [Chapel.html, Conners.html, Emotion.html, HealthAndExercise.html, Math.html, Mindful.html, Music.html, Reading.html, Shedules.html, Specialist.html, Writing.html, index.html]],\n",
       " 'Calvary': Calvary\n",
       "  []}"
      ]
     },
     "execution_count": 6,
     "metadata": {},
     "output_type": "execute_result"
    }
   ],
   "source": [
    "guide = StudySystem()\n",
    "guide.schools"
   ]
  },
  {
   "cell_type": "code",
   "execution_count": 7,
   "metadata": {},
   "outputs": [
    {
     "data": {
      "text/plain": [
       "[Chapel; [CSB Lower School Distance Chapel April 21st, 2020.mp4, CSB Lower School Distance Chapel April 28th, 2020.mp4, CSB Lower School Distance Chapel April 7th, 2020.mp4, NoRobbers.mp4],\n",
       " Conners; [Edward C Class Code.pdf],\n",
       " Emotion; [Grat.4.21.mp4, Grat.422.mp4, KimochisBug.mp4, SharingPicture.mp4, creative.mp4, emotions.mp4, fillbucket.mp4, grattitude.mp4],\n",
       " HealthAndExercise; [Animal warmup 1.mp4, FullSizeRender.mp4, MakeBed.mp4, joke.mp4, lower body_core workout pe.mp4],\n",
       " Math; [ColorByNumber.pdf, Grade0AoD_Week5Day2_WODB-SampleResponses - Google Docs.pdf, KinderBridges-HomeLearning-Unit5Mod1.pdf, POD April 29th.pdf, double ten frame cards.pdf, k6.1.pdf, tenFrameCards.mp4],\n",
       " Mindful; [BalancedBreathing.mp4, BellyBreath.mp4, ChillSong.mp4, GetOutside.mp4, InhaleUniverse.mp4, MindBubbles.mp4, MindCastle.mp4, SunSalutations.mp4, SunriseBreaths.mp4, Tree.mp4, candlemp4.mp4, legswall.mp4, lovingkindness.mp4, silentmoment.mp4, writingplan.mp4],\n",
       " Music; [Kindergarten Music Lesson 05 - Good Night Robbers & Quakers.mp4, Lemonade.mp4, LittleLightOfMine.mp4, NoExcuse.mp4, Spotlight on Music 02 - Ludwig Van Beethoven.mp4],\n",
       " Reading; [5sightwords.mp4, AmosMcGee.mp4, FantasticElasticBrain.mp4, Fortunately.mp4, HowToBabySitAGrandPa.mp4, LetterEScanegerHunt.mp4, LetterS.mp4, LittleBlueTrucj.mp4, MOWiliiams.mp4, ReadAloud.mp4, ReadingFromHome.mp4, ShSound.mp4, SnapByFor.mp4, ThreePart.03.25.mp4, ThreePart.03.31.mp4, ThreePart.04.21.mp4, ThreePartDrill.4.23.20.mp4, VisitMusem.mp4, achairformymother.mp4, conceptE.mp4, davidtellsjoke.mp4, frogtoad.mp4, snapwordsmemory..mp4, th_sound.mp4, threepart.4.28.mp4, threepart.4.7.20.mp4, truestory.mp4, whatbooks.mp4],\n",
       " Shedules; [April 27, 2020.pdf, April 28-29, 2020.pdf, Cathedral's Lower School Spring Break Schedule.pdf, Edward C Class Code copy.pdf, InventorScavengerHunt.mp4, Kindergarten Schedule 4_20_20.pdf, Kindergarten Schedule 4_26_20.pdf, Kindergarten Schedule 4_6-4_9 copy.pdf, Kindergarten, April 20th, 2020.pdf],\n",
       " Specialist; [Biomes.mp4],\n",
       " Writing; [CoverBook.mp4, Dictation.mp4, EditingWorkBook.mp4, EnjoyaboutDistanceLearning.mp4, FeelGood.mp4, HowToDetails.mp4, Laugh.mp4, NoticeWonder.mp4, PlannigHowToBook.mp4, SketchingIdeas.mp4, ThreeWishes.mp4, TrueStory.mp4, VirtualDictitation.mp4, VirtualMuseum.mp4, WhatDidYouDoWeekend.mp4, optionalDictation.mp4, teach.mp4]]"
      ]
     },
     "execution_count": 7,
     "metadata": {},
     "output_type": "execute_result"
    }
   ],
   "source": [
    "cath = guide.schools[\"Cathedral\"]\n",
    "foo = list(cath.subjects.values())\n",
    "sorted(foo, key=lambda x: x.name)"
   ]
  },
  {
   "cell_type": "code",
   "execution_count": 8,
   "metadata": {},
   "outputs": [
    {
     "data": {
      "text/plain": [
       "'Hello Cathedral!'"
      ]
     },
     "execution_count": 8,
     "metadata": {},
     "output_type": "execute_result"
    }
   ],
   "source": [
    "template = Template('Hello {{ name }}!')\n",
    "template.render(name=guide.schools[\"Cathedral\"].name)"
   ]
  },
  {
   "cell_type": "code",
   "execution_count": 12,
   "metadata": {},
   "outputs": [],
   "source": [
    "#export\n",
    "\n",
    "class Render:\n",
    "    def __init__(self, school, dir=\"../../web\",template = \"../templates\"):\n",
    "        self.school = school\n",
    "        self.outputdir = os.path.join(dir,school.name)\n",
    "        self.template = template\n",
    "        \n",
    "        self.file_loader = FileSystemLoader(self.template)\n",
    "        self.env = Environment(loader=self.file_loader)\n",
    "\n",
    "        \n",
    "    def basePath(self):\n",
    "        return self.outputdir\n",
    "     \n",
    "    def renderSubject(self,sub):\n",
    "        template = self.env.get_template(\"base.html\")\n",
    "        output = template.render()\n",
    "        f = open(os.path.join(self.outputdir,sub.name + \".html\"), \"w\")\n",
    "        f.write(output)\n",
    "        \n",
    "    def renderSchool(self):\n",
    "        \n",
    "        foo = list(cath.subjects.values())\n",
    "        seq = sorted(foo, key=lambda x: x.name)\n",
    "\n",
    "        for x in seq:\n",
    "            self.renderSubject(x)\n",
    "            \n",
    "        template = self.env.get_template(\"school.html\")\n",
    "        output = template.render(name=self.school.name,seq=seq)\n",
    "        \n",
    "        f = open(os.path.join(self.outputdir,\"index.html\"), \"w\")\n",
    "        f.write(output)\n",
    "        f.close()\n"
   ]
  },
  {
   "cell_type": "code",
   "execution_count": 13,
   "metadata": {},
   "outputs": [],
   "source": [
    "baseRender = Render(guide.schools[\"Cathedral\"])\n",
    "baseRender.renderSchool()"
   ]
  }
 ],
 "metadata": {
  "kernelspec": {
   "display_name": "Python 3",
   "language": "python",
   "name": "python3"
  },
  "language_info": {
   "codemirror_mode": {
    "name": "ipython",
    "version": 3
   },
   "file_extension": ".py",
   "mimetype": "text/x-python",
   "name": "python",
   "nbconvert_exporter": "python",
   "pygments_lexer": "ipython3",
   "version": "3.8.2"
  }
 },
 "nbformat": 4,
 "nbformat_minor": 4
}
