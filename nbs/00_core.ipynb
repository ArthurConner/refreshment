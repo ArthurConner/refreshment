{
 "cells": [
  {
   "cell_type": "code",
   "execution_count": 1,
   "metadata": {},
   "outputs": [],
   "source": [
    "# default_exp Program"
   ]
  },
  {
   "cell_type": "code",
   "execution_count": 2,
   "metadata": {},
   "outputs": [],
   "source": [
    "%load_ext autoreload\n",
    "%autoreload 2\n",
    "\n",
    "%matplotlib inline"
   ]
  },
  {
   "cell_type": "raw",
   "metadata": {},
   "source": [
    "[[chapter_intro]]"
   ]
  },
  {
   "cell_type": "markdown",
   "metadata": {},
   "source": [
    "# Data Model\n",
    "\n",
    "> API details."
   ]
  },
  {
   "cell_type": "code",
   "execution_count": 3,
   "metadata": {},
   "outputs": [],
   "source": [
    "#export\n",
    "from collections import defaultdict"
   ]
  },
  {
   "cell_type": "code",
   "execution_count": 4,
   "metadata": {},
   "outputs": [],
   "source": [
    "#export\n",
    "\n",
    "class Record:\n",
    "    \n",
    "    def __init__(self, name,key = 0,sort = 0):\n",
    "        self.name = name\n",
    "        self.key = key\n",
    "        self.sort = sort\n",
    "        \n",
    "    def adjustEmptyKey(self,others):\n",
    "        if self.key < 1:\n",
    "            maxVal = max([x.key for x in others])\n",
    "            self.key = maxVal + 1\n",
    "        if self.sort == 0:\n",
    "            self.sort = max([x.sort for x in others]) + 1\n",
    "\n",
    "    def adjustKey(self,x):\n",
    "        props = x.split('|')\n",
    "        if len(props) > 2:\n",
    "            self.name = props[0]\n",
    "            self.key = int(props[1])\n",
    "            self.sort = int(props[2])\n",
    "            \n",
    "    def keyString(self):\n",
    "        return self.name + \"|\" + str(self.key) + \"|\" + str(self.sort)\n",
    "    \n",
    "    def toDict(self):\n",
    "        return {\"name\" : self.name,\"key\":self.key,\"sort\":self.sort }\n",
    "    \n",
    "    def fromDict(s):\n",
    "        ret = Record(\"\")\n",
    "        #ret.adjustKey(s[\"key\"])\n",
    "        ret.name = s[\"name\"]\n",
    "        ret.key = s[\"key\"]\n",
    "        ret.sort = s[\"sort\"]\n",
    "        return ret\n",
    "    \n",
    "    def __repr__(self):\n",
    "        return self.keyString()\n",
    "    \n",
    "    def printKeys(x):\n",
    "        s = sorted(x, key=lambda l: l.sort)\n",
    "        return [y.keyString() for y in s]\n",
    "    \n",
    "    def appendUnique(x,others):\n",
    "        if x.key > 0:\n",
    "            others = [y for y in others if x.key != y.key]\n",
    "        others.append(x)\n",
    "        x.adjustEmptyKey(others)\n",
    "        return others\n",
    "    "
   ]
  },
  {
   "cell_type": "code",
   "execution_count": 5,
   "metadata": {},
   "outputs": [
    {
     "data": {
      "text/plain": [
       "(['one|0|0', 'two|0|0', 'three|0|0'], one|0|0)"
      ]
     },
     "execution_count": 5,
     "metadata": {},
     "output_type": "execute_result"
    }
   ],
   "source": [
    "#hide\n",
    "recs = [Record(x) for x in [\"one\",\"two\",\"three\"]]\n",
    "Record.printKeys(recs),recs[0]"
   ]
  },
  {
   "cell_type": "code",
   "execution_count": null,
   "metadata": {},
   "outputs": [],
   "source": [
    "#id first_training\n",
    "#caption Results from the first training\n",
    "# CLICK ME"
   ]
  },
  {
   "cell_type": "code",
   "execution_count": 6,
   "metadata": {},
   "outputs": [
    {
     "data": {
      "text/plain": [
       "['one|1|1', 'two|2|2', 'three|3|3']"
      ]
     },
     "execution_count": 6,
     "metadata": {},
     "output_type": "execute_result"
    }
   ],
   "source": [
    "#hide\n",
    "for x in recs:\n",
    "    x.adjustEmptyKey(recs)\n",
    "Record.printKeys(recs)"
   ]
  },
  {
   "cell_type": "code",
   "execution_count": 7,
   "metadata": {},
   "outputs": [
    {
     "data": {
      "text/plain": [
       "['higher|10|1', 'two|2|2', 'three|3|3', 'newGuy|11|4']"
      ]
     },
     "execution_count": 7,
     "metadata": {},
     "output_type": "execute_result"
    }
   ],
   "source": [
    "#hide\n",
    "x = recs[0]\n",
    "x.adjustKey('higher|10|1')\n",
    "recs.append(Record(\"newGuy\"))\n",
    "for x in recs:\n",
    "    x.adjustEmptyKey(recs)\n",
    "Record.printKeys(recs)"
   ]
  },
  {
   "cell_type": "code",
   "execution_count": 8,
   "metadata": {},
   "outputs": [
    {
     "data": {
      "text/plain": [
       "(['someoneNew|0|0',\n",
       "  'someoneBlue|0|0',\n",
       "  'another2|2|2',\n",
       "  'another|3|3',\n",
       "  'oldguy|11|4'],\n",
       " ['higher|10|1', 'two|2|2', 'three|3|3', 'newGuy|11|4'])"
      ]
     },
     "execution_count": 8,
     "metadata": {},
     "output_type": "execute_result"
    }
   ],
   "source": [
    "#hide\n",
    "addMe = []\n",
    "for x in ['another2|2|2', 'another|3|3', 'oldguy|11|4',\"someoneNew\",\"someoneBlue\"]:\n",
    "    rec = Record(x)\n",
    "    rec.adjustKey(x)\n",
    "    addMe.append(rec)\n",
    "\n",
    "Record.printKeys(addMe),Record.printKeys( recs)"
   ]
  },
  {
   "cell_type": "code",
   "execution_count": 9,
   "metadata": {},
   "outputs": [
    {
     "data": {
      "text/plain": [
       "('someoneBlue|13|6',\n",
       " ['higher|10|1',\n",
       "  'another2|2|2',\n",
       "  'another|3|3',\n",
       "  'oldguy|11|4',\n",
       "  'someoneNew|12|5',\n",
       "  'someoneBlue|13|6'])"
      ]
     },
     "execution_count": 9,
     "metadata": {},
     "output_type": "execute_result"
    }
   ],
   "source": [
    "for x in addMe:\n",
    "     recs = Record.appendUnique(x,recs)\n",
    "x.keyString(), Record.printKeys(recs)"
   ]
  },
  {
   "cell_type": "code",
   "execution_count": 10,
   "metadata": {},
   "outputs": [
    {
     "data": {
      "text/plain": [
       "higher|10|1"
      ]
     },
     "execution_count": 10,
     "metadata": {},
     "output_type": "execute_result"
    }
   ],
   "source": [
    "aFoo = recs[0]\n",
    "aBarr= Record.fromDict(aFoo.toDict())\n",
    "aBarr"
   ]
  },
  {
   "cell_type": "code",
   "execution_count": 11,
   "metadata": {},
   "outputs": [],
   "source": [
    "#export\n",
    "class Lesson(Record):\n",
    "    def __init__(self, name,  filesName, key = 0,sort = 0):\n",
    "        super().__init__(name,key,sort)\n",
    "        self.fileName = filesName\n",
    "        self.modifyTime = float(0)\n",
    "        self.indexPath = []\n",
    "        self.prior = []\n",
    "        self.next = []\n",
    "   \n",
    "    def sBase(self):\n",
    "        if self.modifyTime > 0:\n",
    "            return  self.modifyTime\n",
    "        return float(self.sort)\n",
    "    \n",
    "    def keyString(self):\n",
    "        return  super().keyString() + \"|\" + self.fileName  \n",
    "    \n",
    "    def adjustKey(self,x):\n",
    "        super().adjustKey(x)\n",
    "        props = x.split('|')\n",
    "        if len(props) > 3:\n",
    "            self.fileName = props[3]\n",
    "        \n",
    "    def appendUniqueFile(x,others):\n",
    "        ret = [y for y in others if x.fileName != y.fileName]\n",
    "        if len(ret) != len(others):\n",
    "            return others\n",
    "        return Record.appendUnique(x,others)\n",
    "    \n",
    "    def toDict(self):\n",
    "        ret = super().toDict()\n",
    "        ret[\"modifyTime\"] = self.modifyTime\n",
    "        ret[\"fileName\"] = self.fileName\n",
    "        ret[\"indexPath\"] = self.indexPath\n",
    "        return ret\n",
    "    \n",
    "    def fromDict(s):\n",
    "        ret = Lesson(\"\",\"\")\n",
    "        ret.name = s[\"name\"]\n",
    "        ret.key = s[\"key\"]\n",
    "        ret.sort = s[\"sort\"]\n",
    "        ret.modifyTime = s[\"modifyTime\"]\n",
    "        ret.fileName = s[\"fileName\"]\n",
    "        ret.indexPath = s[\"indexPath\"]\n",
    "        return ret\n",
    "    \n",
    "    def __str__(self):\n",
    "        return \"[\" + str(self.key) + \"]\" + self.fileName\n",
    "    "
   ]
  },
  {
   "cell_type": "code",
   "execution_count": 12,
   "metadata": {},
   "outputs": [
    {
     "data": {
      "text/plain": [
       "['one|0|0|one.mp4', 'two|0|0|two.mp4', 'three|0|0|three.mp4']"
      ]
     },
     "execution_count": 12,
     "metadata": {},
     "output_type": "execute_result"
    }
   ],
   "source": [
    "#hide\n",
    "less = [Lesson(x,x +\".mp4\") for x in [\"one\",\"two\",\"three\"]]\n",
    "Record.printKeys(less)"
   ]
  },
  {
   "cell_type": "code",
   "execution_count": 13,
   "metadata": {},
   "outputs": [
    {
     "data": {
      "text/plain": [
       "['one|0|0|one.mp4',\n",
       " 'two|0|0|two.mp4',\n",
       " 'three|0|0|three.mp4',\n",
       " 'two|1|1|two.pdf']"
      ]
     },
     "execution_count": 13,
     "metadata": {},
     "output_type": "execute_result"
    }
   ],
   "source": [
    "#hide\n",
    "less = Lesson.appendUniqueFile(Lesson(\"two\",\"two.pdf\"),less)\n",
    "less = Lesson.appendUniqueFile(Lesson(\"one\",\"one.mp4\"),less)\n",
    "aLess = Lesson(\"\", \"\")\n",
    "aLess.adjustKey('three|1|1|three.mp4')\n",
    "less = Lesson.appendUniqueFile(aLess,less)\n",
    "Record.printKeys(less)"
   ]
  },
  {
   "cell_type": "code",
   "execution_count": 14,
   "metadata": {},
   "outputs": [
    {
     "data": {
      "text/plain": [
       "(['three|1|1|three.mp4'],\n",
       " {'name': 'three',\n",
       "  'key': 1,\n",
       "  'sort': 1,\n",
       "  'modifyTime': 0.0,\n",
       "  'fileName': 'three.mp4',\n",
       "  'indexPath': []})"
      ]
     },
     "execution_count": 14,
     "metadata": {},
     "output_type": "execute_result"
    }
   ],
   "source": [
    "#hide\n",
    "s = aLess.toDict()\n",
    "s\n",
    "cLess = Lesson.fromDict(s)\n",
    "Record.printKeys([cLess]),s"
   ]
  },
  {
   "cell_type": "code",
   "execution_count": 15,
   "metadata": {},
   "outputs": [],
   "source": [
    "#export\n",
    "\n",
    "class Subject(Record):\n",
    "    def __init__(self, name,key = 0,sort = 0):\n",
    "        super().__init__(name,key,sort) \n",
    "        self.lessons = []\n",
    "        self.sequences = defaultdict(list)\n",
    "        self.lookup = {}\n",
    "        self.title = name\n",
    "        self.img = \"\"\n",
    "    \n",
    "    def addLesson(self,x):\n",
    "        self.lessons = Lesson.appendUniqueFile(x,self.lessons)\n",
    "        self.lookup[x.key] = x\n",
    "     \n",
    "    def toDict(self):\n",
    "        ret = super().toDict()\n",
    "        ret[\"lessons\"] = [x.toDict() for x in self.lessons]\n",
    "        seq = {}\n",
    "        for key, value in self.sequences.items():\n",
    "            seq[key] = value\n",
    "        ret[\"sequences\"] = seq\n",
    "        ret[\"img\"] = self.img \n",
    "        ret[\"title\"] = self.title\n",
    "        return ret\n",
    "    \n",
    "    def fromDict(d):\n",
    "        ret = Subject(\"\",\"\")\n",
    "        ret.name = d[\"name\"]\n",
    "        ret.key = d[\"key\"]\n",
    "        ret.sort = d[\"sort\"]\n",
    "        ret.lessons = [ Lesson.fromDict(s) for s in d[\"lessons\"]]\n",
    "        \n",
    "        for x in ret.lessons:\n",
    "            ret.lookup[x.key] = x\n",
    "            \n",
    "        for key, value in d[\"sequences\"].items():\n",
    "            ret.sequences[key] = value\n",
    "        ret.img = d[\"img\"]  \n",
    "        ret.title = d[\"title\"]\n",
    "        return ret\n",
    "    \n",
    "    def __repr__(self):\n",
    "  \n",
    "        return self.name + \"; [\" + \",\".join( Record.printKeys(self.lessons)) + \"]\"\n",
    "    \n",
    "    def __str__(self):\n",
    "        return '__str__ for Car'"
   ]
  },
  {
   "cell_type": "code",
   "execution_count": 16,
   "metadata": {},
   "outputs": [
    {
     "data": {
      "text/plain": [
       "({'name': 'operations research',\n",
       "  'key': 0,\n",
       "  'sort': 0,\n",
       "  'lessons': [{'name': 'Intro to Network Flow',\n",
       "    'key': 1,\n",
       "    'sort': 1,\n",
       "    'modifyTime': 0.0,\n",
       "    'fileName': 'flow.mp4',\n",
       "    'indexPath': []},\n",
       "   {'name': 'Imnune',\n",
       "    'key': 2,\n",
       "    'sort': 2,\n",
       "    'modifyTime': 0.0,\n",
       "    'fileName': 'sick.mp4',\n",
       "    'indexPath': []}],\n",
       "  'sequences': {'main': [1, 2]},\n",
       "  'img': '',\n",
       "  'title': 'operations research'},\n",
       " {'name': 'operations research',\n",
       "  'key': 0,\n",
       "  'sort': 0,\n",
       "  'lessons': [{'name': 'Intro to Network Flow',\n",
       "    'key': 1,\n",
       "    'sort': 1,\n",
       "    'modifyTime': 0.0,\n",
       "    'fileName': 'flow.mp4',\n",
       "    'indexPath': []},\n",
       "   {'name': 'Imnune',\n",
       "    'key': 2,\n",
       "    'sort': 2,\n",
       "    'modifyTime': 0.0,\n",
       "    'fileName': 'sick.mp4',\n",
       "    'indexPath': []}],\n",
       "  'sequences': {'main': [1, 2]},\n",
       "  'img': '',\n",
       "  'title': 'operations research'},\n",
       " {1: Intro to Network Flow|1|1|flow.mp4, 2: Imnune|2|2|sick.mp4})"
      ]
     },
     "execution_count": 16,
     "metadata": {},
     "output_type": "execute_result"
    }
   ],
   "source": [
    "#hide\n",
    "aless = Lesson(\"Intro to Network Flow\",\"flow.mp4\")\n",
    "bless = Lesson(\"Imnune\",\"sick.mp4\")\n",
    "grad = Subject(\"operations research\")\n",
    "grad.addLesson(aless)\n",
    "grad.addLesson(bless)\n",
    "grad.sequences[\"main\"] = [1,2]\n",
    "bgrad = Subject.fromDict(grad.toDict())\n",
    "grad.toDict(),bgrad.toDict(),bgrad.lookup\n"
   ]
  },
  {
   "cell_type": "code",
   "execution_count": 17,
   "metadata": {},
   "outputs": [],
   "source": [
    "#export\n",
    "class Program(Record):\n",
    "    def __init__(self, name, path = \".\",key = 0,sort = 0 ):\n",
    "        super().__init__(name,key,sort)\n",
    "        self.subjects = []\n",
    "        self.title = name\n",
    "        self.lookup = {}\n",
    "        self.img = \"\"\n",
    "    \n",
    "    def toDict(self):\n",
    "        ret = super().toDict()\n",
    "        ret[\"subjects\"] = [x.toDict() for x in self.subjects]\n",
    "        ret[\"title\"] = self.title\n",
    "        ret[\"img\"] = self.img\n",
    "        return ret\n",
    "    \n",
    "    def fromDict(d):\n",
    "        ret = Program(\"\")\n",
    "        ret.name = d[\"name\"]\n",
    "        ret.key = d[\"key\"]\n",
    "        ret.sort = d[\"sort\"]\n",
    "        ret.subjects = [Subject.fromDict(s) for s in d[\"subjects\"]]\n",
    "        ret.title = d[\"title\"]\n",
    "        for x in ret.subjects:\n",
    "            ret.lookup[x.key] = x\n",
    "        ret.img = d[\"img\"]\n",
    "        return ret\n",
    "    \n",
    "        \n",
    "    def fixPaths(self):\n",
    "        for progIndex, sub in self.lookup.items():\n",
    "            for subIndex, lesson in sub.lookup.items():\n",
    "                lesson.indexPath = [progIndex,subIndex]\n",
    "    \n",
    "    def addSubject(self,x):\n",
    "        self.subjects = Subject.appendUnique(x,self.subjects)\n",
    "        self.lookup[x.key] = x\n",
    "    \n",
    "    def __repr__(self):\n",
    "        return self.name + \"Program, Subjects[\" + \";\".join( Record.printKeys(self.subjects)) +\"]\"\n",
    "    \n",
    "    def __str__(self):\n",
    "        return '__str__ for Car'"
   ]
  },
  {
   "cell_type": "code",
   "execution_count": 18,
   "metadata": {},
   "outputs": [
    {
     "data": {
      "text/plain": [
       "(DartmouthProgram, Subjects[operations research|1|1;networking|2|2],\n",
       " CMUProgram, Subjects[operations research|1|1;networking|2|2])"
      ]
     },
     "execution_count": 18,
     "metadata": {},
     "output_type": "execute_result"
    }
   ],
   "source": [
    "#hide\n",
    "cmu = Program(\"CMU\")\n",
    "opre = Subject(\"operations research\")\n",
    "cmu.addSubject(opre)\n",
    "for x in [aless,bless]:\n",
    "    opre.addLesson(x)\n",
    "\n",
    "less = []\n",
    "                   \n",
    "s =  Subject(\"networking\")\n",
    "for x in [\"beer\",\"pong\",\"sand bunny\"]:\n",
    "    s.addLesson(Lesson(x,x + \".pdf\"))\n",
    "    s.addLesson(Lesson(x,x + \".mp4\"))\n",
    "\n",
    "cmu.addSubject(s)\n",
    "Dartmouth = Program.fromDict(cmu.toDict())\n",
    "Dartmouth.name = \"Dartmouth\"\n",
    "Dartmouth,cmu"
   ]
  },
  {
   "cell_type": "code",
   "execution_count": 19,
   "metadata": {},
   "outputs": [
    {
     "name": "stdout",
     "output_type": "stream",
     "text": [
      "1 operations research 1\n",
      "2 networking 2\n"
     ]
    }
   ],
   "source": [
    "#hide\n",
    "cmu.fixPaths()\n",
    "#cmu.toDict(),cmu.lookup\n",
    "for progIndex, sub in cmu.lookup.items():\n",
    "    print(progIndex,sub.name,sub.key)"
   ]
  },
  {
   "cell_type": "code",
   "execution_count": 1,
   "metadata": {},
   "outputs": [
    {
     "name": "stdout",
     "output_type": "stream",
     "text": [
      "Converted 00_core.ipynb.\n",
      "Converted 01_StudySystem.ipynb.\n",
      "Converted 02_DataMunge.ipynb.\n",
      "Converted 03_StaticGenerator.ipynb.\n",
      "Converted covidDS.ipynb.\n",
      "Converted index.ipynb.\n"
     ]
    }
   ],
   "source": [
    "#hide\n",
    "from nbdev.export import *\n",
    "notebook2script()"
   ]
  }
 ],
 "metadata": {
  "kernelspec": {
   "display_name": "Python 3",
   "language": "python",
   "name": "python3"
  },
  "language_info": {
   "codemirror_mode": {
    "name": "ipython",
    "version": 3
   },
   "file_extension": ".py",
   "mimetype": "text/x-python",
   "name": "python",
   "nbconvert_exporter": "python",
   "pygments_lexer": "ipython3",
   "version": "3.8.2"
  }
 },
 "nbformat": 4,
 "nbformat_minor": 4
}
